{
 "cells": [
  {
   "cell_type": "markdown",
   "metadata": {
    "collapsed": true,
    "pycharm": {
     "name": "#%% md\n"
    }
   },
   "source": [
    "## CEXes and Vitalik. Manual Assigned Addresses"
   ]
  },
  {
   "cell_type": "code",
   "execution_count": 1,
   "outputs": [],
   "source": [
    "import pandas as pd\n",
    "\n",
    "from config import MANUAL_ADDRESSES_DATASET_NAME, MANUAL_ADDRESSES_DISTRIBUTION_TABLE_NAME\n",
    "from src.utils_bigquery import create_table_from_df, drop_table\n",
    "\n",
    "DROP_TABLES = True\n",
    "CREATE_TABLES = True"
   ],
   "metadata": {
    "collapsed": false,
    "pycharm": {
     "name": "#%%\n"
    }
   }
  },
  {
   "cell_type": "markdown",
   "source": [
    "### Set List of Fixed Addresses"
   ],
   "metadata": {
    "collapsed": false,
    "pycharm": {
     "name": "#%% md\n"
    }
   }
  },
  {
   "cell_type": "code",
   "execution_count": 2,
   "outputs": [],
   "source": [
    "fixed_addresses_dict = {\n",
    "    '0x1db3439a222c519ab44bb1144fc28167b4fa6ee6': [1e13, 'Vitalik'],\n",
    "    '0xbe0eb53f46cd790cd13851d5eff43d12404d33e8': [1e12, 'Binance 7'],\n",
    "    '0x53d284357ec70ce289d6d64134dfac8e511c8a3d': [1e12, 'Kraken 6'],\n",
    "    '0xdc76cd25977e0a5ae17155770273ad58648900d3': [1e12, 'Huobi 6'],\n",
    "    '0x66f820a414680b5bcda5eeca5dea238543f42054': [1e12, 'Bittrex 3'],\n",
    "    '0xc098b2a3aa256d2140208c3de6543aaef5cd3a94': [1e12, 'FTX Exchange 2'],\n",
    "    '0x1e2fcfd26d36183f1a5d90f0e6296915b02bcb40': [1e12, 'Coinone 2'],\n",
    "    '0xa7efae728d2936e78bda97dc267687568dd593f3': [1e12, 'OKEx 3'],\n",
    "    '0x742d35cc6634c0532925a3b844bc454e4438f44e': [1e12, 'Bitfinex_5'],\n",
    "    '0x1522900b6dafac587d499a862861c0869be6e428': [1e12, 'Bitstamp 2'],\n",
    "    '0xa1d8d972560c2f8144af871db508f0b0b10a3fbf': [1e12, 'KuCoin 3']\n",
    "}"
   ],
   "metadata": {
    "collapsed": false,
    "pycharm": {
     "name": "#%%\n"
    }
   }
  },
  {
   "cell_type": "code",
   "execution_count": 3,
   "outputs": [],
   "source": [
    "fixed_addresses = pd.DataFrame(fixed_addresses_dict.values(),\n",
    "                               index=fixed_addresses_dict.keys(),\n",
    "                               columns=['amount', 'name']).reset_index().rename(columns={'index': 'address'})"
   ],
   "metadata": {
    "collapsed": false,
    "pycharm": {
     "name": "#%%\n"
    }
   }
  },
  {
   "cell_type": "code",
   "execution_count": 4,
   "outputs": [
    {
     "name": "stdout",
     "output_type": "stream",
     "text": [
      "Table manual_addresses:manual_addresses_distribution has been deleted.\n",
      "Table manual_addresses:manual_addresses_distribution has been created.\n"
     ]
    }
   ],
   "source": [
    "if CREATE_TABLES:\n",
    "    r = create_table_from_df(source_df=fixed_addresses,\n",
    "                             table_name=MANUAL_ADDRESSES_DISTRIBUTION_TABLE_NAME,\n",
    "                             dataset_name=MANUAL_ADDRESSES_DATASET_NAME,\n",
    "                             drop_existing_table=DROP_TABLES)\n",
    "elif DROP_TABLES:\n",
    "    drop_table(table_name=MANUAL_ADDRESSES_DISTRIBUTION_TABLE_NAME,\n",
    "               dataset_name=MANUAL_ADDRESSES_DATASET_NAME)"
   ],
   "metadata": {
    "collapsed": false,
    "pycharm": {
     "name": "#%%\n"
    }
   }
  },
  {
   "cell_type": "code",
   "execution_count": 4,
   "outputs": [],
   "source": [],
   "metadata": {
    "collapsed": false,
    "pycharm": {
     "name": "#%%\n"
    }
   }
  }
 ],
 "metadata": {
  "kernelspec": {
   "display_name": "Python 3",
   "language": "python",
   "name": "python3"
  },
  "language_info": {
   "codemirror_mode": {
    "name": "ipython",
    "version": 2
   },
   "file_extension": ".py",
   "mimetype": "text/x-python",
   "name": "python",
   "nbconvert_exporter": "python",
   "pygments_lexer": "ipython2",
   "version": "2.7.6"
  }
 },
 "nbformat": 4,
 "nbformat_minor": 0
}