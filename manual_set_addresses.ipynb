{
 "cells": [
  {
   "cell_type": "markdown",
   "metadata": {
    "collapsed": true,
    "pycharm": {
     "name": "#%% md\n"
    }
   },
   "source": [
    "# Manual Set Addresses"
   ]
  },
  {
   "cell_type": "code",
   "execution_count": 1,
   "outputs": [],
   "source": [
    "import pandas as pd\n",
    "\n",
    "from config import MANUAL_ADDRESSES_DATASET_NAME, MANUAL_ADDRESSES_DISTRIBUTION_TABLE_NAME\n",
    "from src.utils_bigquery import create_table_from_df, drop_table\n",
    "\n",
    "DROP_TABLES = True\n",
    "CREATE_TABLES = True"
   ],
   "metadata": {
    "collapsed": false,
    "pycharm": {
     "name": "#%%\n"
    }
   }
  },
  {
   "cell_type": "markdown",
   "source": [
    "## Set List of Fixed Addresses"
   ],
   "metadata": {
    "collapsed": false,
    "pycharm": {
     "name": "#%% md\n"
    }
   }
  },
  {
   "cell_type": "code",
   "execution_count": 2,
   "outputs": [],
   "source": [
    "fixed_addresses_dict = {\n",
    "    '0xab5801a7d398351b8be11c439e05c5b3259aec9b': [5e12, 'Vitalik'],\n",
    "    '0x1db3439a222c519ab44bb1144fc28167b4fa6ee6': [5e12, 'Vitalik'],\n",
    "    '0x69670b0c1b100739812415dd474804bb32b3aeca': [1e12, 'Whitehats']\n",
    "}\n",
    "# TODO Add addresses of top-10 exchanges on Ethereum"
   ],
   "metadata": {
    "collapsed": false,
    "pycharm": {
     "name": "#%%\n"
    }
   }
  },
  {
   "cell_type": "code",
   "execution_count": 3,
   "outputs": [],
   "source": [
    "fixed_addresses = pd.DataFrame(fixed_addresses_dict.values(),\n",
    "                               index=fixed_addresses_dict.keys(),\n",
    "                               columns=['amount', 'name']).reset_index().rename(columns={'index': 'address'})"
   ],
   "metadata": {
    "collapsed": false,
    "pycharm": {
     "name": "#%%\n"
    }
   }
  },
  {
   "cell_type": "code",
   "execution_count": 4,
   "outputs": [
    {
     "name": "stdout",
     "output_type": "stream",
     "text": [
      "Table manual_addresses:manual_addresses_distribution has been deleted.\n"
     ]
    }
   ],
   "source": [
    "if CREATE_TABLES:\n",
    "    r = create_table_from_df(source_df=fixed_addresses,\n",
    "                             table_name=MANUAL_ADDRESSES_DISTRIBUTION_TABLE_NAME,\n",
    "                             dataset_name=MANUAL_ADDRESSES_DATASET_NAME,\n",
    "                             drop_existing_table=DROP_TABLES)\n",
    "elif DROP_TABLES:\n",
    "    drop_table(table_name=MANUAL_ADDRESSES_DISTRIBUTION_TABLE_NAME,\n",
    "               dataset_name=MANUAL_ADDRESSES_DATASET_NAME)"
   ],
   "metadata": {
    "collapsed": false,
    "pycharm": {
     "name": "#%%\n"
    }
   }
  },
  {
   "cell_type": "code",
   "execution_count": 4,
   "outputs": [],
   "source": [],
   "metadata": {
    "collapsed": false,
    "pycharm": {
     "name": "#%%\n"
    }
   }
  }
 ],
 "metadata": {
  "kernelspec": {
   "display_name": "Python 3",
   "language": "python",
   "name": "python3"
  },
  "language_info": {
   "codemirror_mode": {
    "name": "ipython",
    "version": 2
   },
   "file_extension": ".py",
   "mimetype": "text/x-python",
   "name": "python",
   "nbconvert_exporter": "python",
   "pygments_lexer": "ipython2",
   "version": "2.7.6"
  }
 },
 "nbformat": 4,
 "nbformat_minor": 0
}