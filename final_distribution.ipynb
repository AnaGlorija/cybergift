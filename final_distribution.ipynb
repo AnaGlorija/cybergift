{
 "cells": [
  {
   "cell_type": "markdown",
   "source": [
    "# Final Distribution"
   ],
   "metadata": {
    "collapsed": false
   }
  },
  {
   "cell_type": "code",
   "execution_count": 1,
   "outputs": [],
   "source": [
    "import math\n",
    "import pandas as pd\n",
    "import seaborn as sns\n",
    "import matplotlib.pyplot as plt\n",
    "import itertools\n",
    "import numpy as np\n",
    "\n",
    "from config import PROJECT_ID, INITIAL_TS, SNAPSHOT_TS, \\\n",
    "    CITIZENS_AUDIENCE, ETH_ANALYSIS_DATASET_NAME, ETH_ANALYSIS_DISTRIBUTION_TABLE_NAME, \\\n",
    "    CRYPTOPUNKS_AUDIENCE, \\\n",
    "    HACKERS_AUDIENCE, GAS_ANALYSIS_DATASET_NAME, GAS_ANALYSIS_DISTRIBUTION_TABLE_NAME, \\\n",
    "    LEADERS_AUDIENCE, ERC20_TOP_DISTRIBUTION_TABLE_NAME, \\\n",
    "    MASTERS_AUDIENCE, ERC721_ANALYSIS_DATASET_NAME, ERC721_ANALYSIS_DISTRIBUTION_TABLE_NAME, \\\n",
    "    INVESTORS_AUDIENCE, ERC20_ANALYSIS_DATASET_NAME, ERC20_ANALYSIS_DISTRIBUTION_TABLE_NAME, \\\n",
    "    HEROES_AUDIENCE, GENESIS_AND_ETH2_DATASET_NAME, GENESIS_AND_ETH2_DISTRIBUTION_TABLE_NAME, \\\n",
    "    FINAL_DATASET_NAME, FINAL_DISTRIBUTION_VIEW_NAME, CONTRACT_ADDRESSES_TABLE, GIFT_PER_ADDRESS_PIVOT_VIEW_NAME\n",
    "from src.utils import create_view, create_table, drop_table, get_df\n",
    "\n",
    "\n",
    "DROP_TABLES = True\n",
    "CREATE_TABLES = True\n",
    "DROP_VIEW = True\n",
    "CREATE_VIEW = True"
   ],
   "metadata": {
    "collapsed": false,
    "pycharm": {
     "name": "#%%\n"
    }
   }
  },
  {
   "cell_type": "markdown",
   "source": [
    "## Set cyberGift for the Audiences\n",
    "**Total Supply:** 1 PCYB = 1e15 CYB\n",
    "\n",
    "\n",
    "**1% of Total Supply:** 10 TCYB = 1e13 CYB\n",
    "\n",
    "\n",
    "Distribution between **audiences**\n",
    "\n",
    "\n",
    "<table style=\"text-align: left\">\n",
    "    <thead style=\"text-align: center\">\n",
    "        <tr>\n",
    "            <th>Audience</th>\n",
    "            <th>Share of Total Supply</th>\n",
    "        </tr>\n",
    "    </thead>\n",
    "    <tbody>\n",
    "        <tr>\n",
    "            <td style=\"text-align: left\"> Average Citizens </td>\n",
    "            <td style=\"text-align: center\"> 35% </td>\n",
    "        </tr>\n",
    "        <tr>\n",
    "            <td style=\"text-align: left\"> Cyberpunks </td>\n",
    "            <td style=\"text-align: center\"> 1% </td>\n",
    "        </tr>\n",
    "        <tr>\n",
    "            <td style=\"text-align: left\"> Extraordinary Hackers </td>\n",
    "            <td style=\"text-align: center\"> 7% </td>\n",
    "        </tr>\n",
    "        <tr>\n",
    "            <td style=\"text-align: left\"> Key Opinion Leaders </td>\n",
    "            <td style=\"text-align: center\"> 2% </td>\n",
    "        </tr>\n",
    "        <tr>\n",
    "            <td style=\"text-align: left\"> Masters of the Great Web </td>\n",
    "            <td style=\"text-align: center\"> 13% </td>\n",
    "        </tr>\n",
    "        <tr>\n",
    "            <td style=\"text-align: left\"> Passionate Investors </td>\n",
    "            <td style=\"text-align: center\"> 3% </td>\n",
    "        </tr>\n",
    "        <tr>\n",
    "            <td style=\"text-align: left\"> True Heroes of the Great Web </td>\n",
    "            <td style=\"text-align: center\"> 5% </td>\n",
    "        </tr>\n",
    "    </tbody>\n",
    "</table>"
   ],
   "metadata": {
    "collapsed": false,
    "pycharm": {
     "name": "#%% md\n"
    }
   }
  },
  {
   "cell_type": "code",
   "execution_count": 2,
   "outputs": [],
   "source": [
    "gift_per_audience = {\n",
    "    CITIZENS_AUDIENCE : 35e13,\n",
    "    CRYPTOPUNKS_AUDIENCE: 1e13,\n",
    "    HACKERS_AUDIENCE: 7e13,\n",
    "    LEADERS_AUDIENCE: 2e13,\n",
    "    MASTERS_AUDIENCE: 13e13,\n",
    "    INVESTORS_AUDIENCE: 3e13,\n",
    "    HEROES_AUDIENCE: 5e13\n",
    "}"
   ],
   "metadata": {
    "collapsed": false,
    "pycharm": {
     "name": "#%%\n"
    }
   }
  },
  {
   "cell_type": "markdown",
   "source": [
    "## Create Contracts Table"
   ],
   "metadata": {
    "collapsed": false
   }
  },
  {
   "cell_type": "code",
   "execution_count": 3,
   "outputs": [
    {
     "name": "stdout",
     "output_type": "stream",
     "text": [
      "Table final:contract_addresses has been deleted.\n",
      "Table final:contract_addresses has been created and filled 40744601 rows.\n"
     ]
    }
   ],
   "source": [
    "query_1 = f'''\n",
    "    SELECT\n",
    "        to_address as address\n",
    "    FROM `bigquery-public-data.crypto_ethereum.traces`\n",
    "    WHERE block_timestamp >= '{INITIAL_TS}'\n",
    "      AND block_timestamp <= '{SNAPSHOT_TS}'\n",
    "      AND trace_type ='create'\n",
    "      AND status = 1\n",
    "'''\n",
    "\n",
    "# if DROP_TABLES:\n",
    "#     drop_table(CONTRACT_ADDRESSES_TABLE, dataset_name=FINAL_DATASET_NAME)\n",
    "# if CREATE_TABLES:\n",
    "#     create_table(query_1, CONTRACT_ADDRESSES_TABLE, dataset_name=FINAL_DATASET_NAME)"
   ],
   "metadata": {
    "collapsed": false,
    "pycharm": {
     "name": "#%%\n"
    }
   }
  },
  {
   "cell_type": "markdown",
   "source": [
    "## Create View"
   ],
   "metadata": {
    "collapsed": false,
    "pycharm": {
     "name": "#%% md\n"
    }
   }
  },
  {
   "cell_type": "code",
   "execution_count": 4,
   "outputs": [
    {
     "name": "stdout",
     "output_type": "stream",
     "text": [
      "Table final:final_distribution has been deleted.\n",
      "View VIEW:cosmic-keep-223223.final.final_distribution has been created.\n"
     ]
    }
   ],
   "source": [
    "query_1 = f'''\n",
    "    SELECT\n",
    "        audience,\n",
    "        subtype,\n",
    "        address,\n",
    "        grade\n",
    "    FROM (\n",
    "        SELECT\n",
    "            '{HEROES_AUDIENCE}' AS audience,\n",
    "            subtype,\n",
    "            address,\n",
    "            grade\n",
    "        FROM `{PROJECT_ID}.{GENESIS_AND_ETH2_DATASET_NAME}.{GENESIS_AND_ETH2_DISTRIBUTION_TABLE_NAME}`\n",
    "        WHERE grade IS NOT NULL\n",
    "\n",
    "        UNION ALL\n",
    "\n",
    "        SELECT\n",
    "            IF(subtype = 'Contract Creator by Factory', '{MASTERS_AUDIENCE}', '{HACKERS_AUDIENCE}') AS audience,\n",
    "            subtype,\n",
    "            address,\n",
    "            grade\n",
    "        FROM `{PROJECT_ID}.{GAS_ANALYSIS_DATASET_NAME}.{GAS_ANALYSIS_DISTRIBUTION_TABLE_NAME}`\n",
    "        WHERE grade IS NOT NULL\n",
    "\n",
    "        UNION ALL\n",
    "\n",
    "        SELECT\n",
    "            '{CITIZENS_AUDIENCE}' AS audience,\n",
    "            subtype,\n",
    "            address,\n",
    "            grade\n",
    "        FROM `{PROJECT_ID}.{ETH_ANALYSIS_DATASET_NAME}.{ETH_ANALYSIS_DISTRIBUTION_TABLE_NAME}`\n",
    "        WHERE grade IS NOT NULL\n",
    "\n",
    "        UNION ALL\n",
    "\n",
    "        SELECT\n",
    "            audience,\n",
    "            subtype,\n",
    "            address,\n",
    "            grade\n",
    "        FROM `{PROJECT_ID}.{ERC721_ANALYSIS_DATASET_NAME}.{ERC721_ANALYSIS_DISTRIBUTION_TABLE_NAME}`\n",
    "        WHERE grade IS NOT NULL\n",
    "\n",
    "        UNION ALL\n",
    "\n",
    "        SELECT\n",
    "            audience,\n",
    "            subtype,\n",
    "            address,\n",
    "            grade\n",
    "        FROM `{PROJECT_ID}.{ERC20_ANALYSIS_DATASET_NAME}.{ERC20_ANALYSIS_DISTRIBUTION_TABLE_NAME}`\n",
    "        WHERE grade IS NOT NULL\n",
    "\n",
    "        UNION ALL\n",
    "\n",
    "        SELECT\n",
    "            '{LEADERS_AUDIENCE}' AS audience,\n",
    "            '' AS subtype,\n",
    "            address,\n",
    "            grade\n",
    "        FROM `{PROJECT_ID}.{ERC20_ANALYSIS_DATASET_NAME}.{ERC20_TOP_DISTRIBUTION_TABLE_NAME}`\n",
    "        WHERE grade IS NOT NULL)\n",
    "    WHERE address NOT IN (SELECT address FROM `{PROJECT_ID}.{FINAL_DATASET_NAME}.{CONTRACT_ADDRESSES_TABLE}`)\n",
    "'''\n",
    "\n",
    "if DROP_VIEW:\n",
    "    drop_table(FINAL_DISTRIBUTION_VIEW_NAME, dataset_name=FINAL_DATASET_NAME)\n",
    "\n",
    "if CREATE_VIEW:\n",
    "    create_view(query_1, FINAL_DISTRIBUTION_VIEW_NAME)"
   ],
   "metadata": {
    "collapsed": false,
    "pycharm": {
     "name": "#%%\n"
    }
   }
  },
  {
   "cell_type": "markdown",
   "source": [],
   "metadata": {
    "collapsed": false,
    "pycharm": {
     "name": "#%% md\n"
    }
   }
  },
  {
   "cell_type": "code",
   "execution_count": 5,
   "outputs": [
    {
     "name": "stdout",
     "output_type": "stream",
     "text": [
      "Table final:gift_per_address_pivot has been deleted.\n",
      "View VIEW:cosmic-keep-223223.final.gift_per_address_pivot has been created.\n"
     ]
    }
   ],
   "source": [
    "query_2 = f'''\n",
    "    SELECT\n",
    "        audience,\n",
    "        grade_1 as `Number_of_addresses_in_Grade_1`,\n",
    "        ROUND(IF(grade_1 > 0, gift_amount_per_audience / grade_1 / number_of_grades / 1e6, 0), 2) as `Gift_per_address_for_Grade_1`,\n",
    "        grade_2 as `Number_of_addresses_in_Grade_2`,\n",
    "        ROUND(IF(grade_2 > 0, gift_amount_per_audience / grade_2 / number_of_grades / 1e6, 0), 2) as `Gift_per_address_for_Grade_2`,\n",
    "        grade_3 as `Number_of_addresses_in_Grade_3`,\n",
    "        ROUND(IF(grade_3 > 0, gift_amount_per_audience / grade_3 / number_of_grades / 1e6, 0), 2) as `Gift_per_address_for_Grade_3`,\n",
    "        total_addresses as `Number_of_addresses_in_audience`,\n",
    "        gift_amount_per_audience as `Gift_amount_per_audience`\n",
    "    FROM (\n",
    "        SELECT\n",
    "            audience,\n",
    "            SUM(IF(grade=1, address_count, 0)) as grade_1,\n",
    "            SUM(IF(grade=2, address_count, 0)) as grade_2,\n",
    "            SUM(IF(grade=3, address_count, 0)) as grade_3,\n",
    "            SUM(address_count) as total_addresses,\n",
    "            COUNTIF(address_count > 0) as number_of_grades\n",
    "        FROM (\n",
    "            SELECT\n",
    "                audience,\n",
    "                grade,\n",
    "                count(distinct address) as address_count\n",
    "            FROM `{PROJECT_ID}.{FINAL_DATASET_NAME}.{FINAL_DISTRIBUTION_VIEW_NAME}`\n",
    "            WHERE grade IN (1, 2, 3)\n",
    "            GROUP BY audience, grade)\n",
    "        GROUP BY audience)\n",
    "    LEFT JOIN (\n",
    "        SELECT\n",
    "            gift.audience as audience,\n",
    "            gift.amount_per_audience as gift_amount_per_audience\n",
    "        FROM UNNEST([{''.join(f\"STRUCT('{k}' AS audience, {v} AS amount_per_audience), \" for k,v in gift_per_audience.items())[:-2]}]) as gift\n",
    "        )\n",
    "    USING (audience)\n",
    "'''\n",
    "\n",
    "if DROP_VIEW:\n",
    "    drop_table(GIFT_PER_ADDRESS_PIVOT_VIEW_NAME, dataset_name=FINAL_DATASET_NAME)\n",
    "\n",
    "if CREATE_VIEW:\n",
    "    create_view(query_2, GIFT_PER_ADDRESS_PIVOT_VIEW_NAME)"
   ],
   "metadata": {
    "collapsed": false,
    "pycharm": {
     "name": "#%%\n"
    }
   }
  },
  {
   "cell_type": "markdown",
   "source": [
    "### Distribution Heatmap"
   ],
   "metadata": {
    "collapsed": false,
    "pycharm": {
     "name": "#%% md\n"
    }
   }
  },
  {
   "cell_type": "code",
   "execution_count": 6,
   "outputs": [],
   "source": [
    "query_3 = f'''\n",
    "    SELECT\n",
    "        ANY_VALUE(audiences) AS audiences,\n",
    "        count(address) AS address_count\n",
    "    FROM (\n",
    "        SELECT\n",
    "            address,\n",
    "            ARRAY_AGG(DISTINCT audience) as audiences\n",
    "        FROM `{PROJECT_ID}.{FINAL_DATASET_NAME}.{FINAL_DISTRIBUTION_VIEW_NAME}`\n",
    "        GROUP BY address)\n",
    "    GROUP BY TO_JSON_STRING(audiences)\n",
    "'''\n",
    "\n",
    "final_distribution_df = get_df(query_3)"
   ],
   "metadata": {
    "collapsed": false,
    "pycharm": {
     "name": "#%%\n"
    }
   }
  },
  {
   "cell_type": "code",
   "execution_count": 7,
   "outputs": [
    {
     "data": {
      "text/plain": "<Figure size 864x864 with 2 Axes>",
      "image/png": "[encoded data removed]"
     },
     "metadata": {},
     "output_type": "display_data"
    }
   ],
   "source": [
    "final_distribution_processed_df_data = []\n",
    "for item_value in final_distribution_df.values:\n",
    "    item_audiences_array = item_value[0]\n",
    "    item_address_count = item_value[1]\n",
    "    if len(item_audiences_array)> 1:\n",
    "        final_distribution_processed_df_data.extend([[item_audiences[0], item_audiences[1], item_address_count] for item_audiences in itertools.combinations(np.sort(item_audiences_array), 2)])\n",
    "    else:\n",
    "        final_distribution_processed_df_data.append([item_audiences_array[0], item_audiences_array[0], item_address_count])\n",
    "final_distribution_processed_df = pd.DataFrame(final_distribution_processed_df_data, columns=['audience 1', 'audience 2', 'number of addresses'])\n",
    "\n",
    "f = lambda x: math.log(pd.Series.sum(x), 10)\n",
    "sns.set_style(\"whitegrid\")\n",
    "plt.figure(figsize=(12, 12))\n",
    "l2_pv_df = final_distribution_processed_df.pivot_table('number of addresses', 'audience 1', 'audience 2', aggfunc=f)\n",
    "ax = sns.heatmap(l2_pv_df, cmap=\"Blues\")"
   ],
   "metadata": {
    "collapsed": false,
    "pycharm": {
     "name": "#%%\n"
    }
   }
  },
  {
   "cell_type": "code",
   "execution_count": 7,
   "outputs": [],
   "source": [],
   "metadata": {
    "collapsed": false,
    "pycharm": {
     "name": "#%%\n"
    }
   }
  }
 ],
 "metadata": {
  "kernelspec": {
   "display_name": "Python 3",
   "language": "python",
   "name": "python3"
  },
  "language_info": {
   "codemirror_mode": {
    "name": "ipython",
    "version": 2
   },
   "file_extension": ".py",
   "mimetype": "text/x-python",
   "name": "python",
   "nbconvert_exporter": "python",
   "pygments_lexer": "ipython2",
   "version": "2.7.6"
  }
 },
 "nbformat": 4,
 "nbformat_minor": 0
}