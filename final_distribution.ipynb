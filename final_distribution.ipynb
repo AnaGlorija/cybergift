{
 "cells": [
  {
   "cell_type": "markdown",
   "source": [
    "# Final Distribution"
   ],
   "metadata": {
    "collapsed": false
   }
  },
  {
   "cell_type": "code",
   "execution_count": 1,
   "outputs": [],
   "source": [
    "from config import PROJECT_ID, INITIAL_TS, SNAPSHOT_TS, \\\n",
    "    GENESIS_AND_ETH2_TYPE, GENESIS_AND_ETH2_DATASET_NAME, GENESIS_AND_ETH2_DISTRIBUTION_TABLE_NAME, \\\n",
    "    GAS_ANALYSIS_DATASET_NAME, GAS_ANALYSIS_DISTRIBUTION_TABLE_NAME, GAS_ANALYSIS_TYPE, \\\n",
    "    ETH_ANALYSIS_TYPE, ETH_ANALYSIS_DATASET_NAME, ETH_ANALYSIS_DISTRIBUTION_TABLE_NAME, \\\n",
    "    ERC721_ANALYSIS_TYPE, ERC721_ANALYSIS_DATASET_NAME, ERC721_ANALYSIS_DISTRIBUTION_TABLE_NAME, \\\n",
    "    ERC20_ANALYSIS_TYPE, ERC20_ANALYSIS_DATASET_NAME, ERC20_ANALYSIS_DISTRIBUTION_TABLE_NAME, \\\n",
    "    ERC20_TOP_TYPE, ERC20_TOP_DISTRIBUTION_TABLE_NAME, \\\n",
    "    FINAL_DATASET_NAME, FINAL_DISTRIBUTION_VIEW_NAME, CONTRACT_ADDRESSES_TABLE, GIFT_PER_ADDRESS_PIVOT_VIEW_NAME\n",
    "from src.utils import create_view, create_table, drop_table\n",
    "\n",
    "DROP_TABLES = True\n",
    "CREATE_TABLES = True\n",
    "DROP_VIEW = True\n",
    "CREATE_VIEW = True"
   ],
   "metadata": {
    "collapsed": false,
    "pycharm": {
     "name": "#%%\n"
    }
   }
  },
  {
   "cell_type": "markdown",
   "source": [
    "## Set cyberGift for the Audiences"
   ],
   "metadata": {
    "collapsed": false,
    "pycharm": {
     "name": "#%% md\n"
    }
   }
  },
  {
   "cell_type": "code",
   "execution_count": null,
   "outputs": [],
   "source": [
    "gift_per_audience = {\n",
    "    'Average Citizens. ETH Analysis' : 40e13,\n",
    "    'Passionate Investors. ERC20 Analysis': 5e13,\n",
    "    'Masters of the Great Web. ERC721 Analysis': 5e13,\n",
    "    'Extraordinary Hackers. Gas Analysis': 5e13,\n",
    "    'True Heroes of the Great Web. Genesis and ETH2 Stakers': 5e13,\n",
    "    'Key Opinion Leaders. Top Token Holders': 5e13\n",
    "}"
   ],
   "metadata": {
    "collapsed": false,
    "pycharm": {
     "name": "#%%\n"
    }
   }
  },
  {
   "cell_type": "markdown",
   "source": [
    "## Create Contracts Table"
   ],
   "metadata": {
    "collapsed": false
   }
  },
  {
   "cell_type": "code",
   "execution_count": 2,
   "outputs": [
    {
     "name": "stdout",
     "output_type": "stream",
     "text": [
      "Table final:contract_addresses has not been deleted.\n",
      "404 DELETE https://bigquery.googleapis.com/bigquery/v2/projects/cosmic-keep-223223/datasets/final/tables/contract_addresses?prettyPrint=false: Not found: Table cosmic-keep-223223:final.contract_addresses\n",
      "Table final:contract_addresses has been created and filled 38527292 rows.\n"
     ]
    }
   ],
   "source": [
    "query_1 = f'''\n",
    "    SELECT\n",
    "        to_address as address\n",
    "    FROM `bigquery-public-data.crypto_ethereum.traces`\n",
    "    WHERE block_timestamp >= '{INITIAL_TS}'\n",
    "      AND block_timestamp <= '{SNAPSHOT_TS}'\n",
    "      AND trace_type ='create'\n",
    "      AND status = 1\n",
    "'''\n",
    "\n",
    "if DROP_TABLES:\n",
    "    drop_table(CONTRACT_ADDRESSES_TABLE, dataset_name=FINAL_DATASET_NAME)\n",
    "if CREATE_TABLES:\n",
    "    create_table(query_1, CONTRACT_ADDRESSES_TABLE, dataset_name=FINAL_DATASET_NAME)"
   ],
   "metadata": {
    "collapsed": false,
    "pycharm": {
     "name": "#%%\n"
    }
   }
  },
  {
   "cell_type": "markdown",
   "source": [
    "## Create View"
   ],
   "metadata": {
    "collapsed": false,
    "pycharm": {
     "name": "#%% md\n"
    }
   }
  },
  {
   "cell_type": "code",
   "execution_count": 4,
   "outputs": [
    {
     "name": "stdout",
     "output_type": "stream",
     "text": [
      "Table final:final_distribution has not been deleted.\n",
      "404 DELETE https://bigquery.googleapis.com/bigquery/v2/projects/cosmic-keep-223223/datasets/final/tables/final_distribution?prettyPrint=false: Not found: Table cosmic-keep-223223:final.final_distribution\n",
      "View VIEW:cosmic-keep-223223.final.final_distribution has been created.\n"
     ]
    }
   ],
   "source": [
    "query_1 = f'''\n",
    "    SELECT\n",
    "        type,\n",
    "        subtype,\n",
    "        address,\n",
    "        grade\n",
    "    FROM (\n",
    "        SELECT\n",
    "            '{GENESIS_AND_ETH2_TYPE}' AS type,\n",
    "            subtype,\n",
    "            address,\n",
    "            grade\n",
    "        FROM `{PROJECT_ID}.{GENESIS_AND_ETH2_DATASET_NAME}.{GENESIS_AND_ETH2_DISTRIBUTION_TABLE_NAME}`\n",
    "        WHERE grade IS NOT NULL\n",
    "\n",
    "        UNION ALL\n",
    "\n",
    "        SELECT\n",
    "            '{GAS_ANALYSIS_TYPE}' AS type,\n",
    "            subtype,\n",
    "            address,\n",
    "            grade\n",
    "        FROM `{PROJECT_ID}.{GAS_ANALYSIS_DATASET_NAME}.{GAS_ANALYSIS_DISTRIBUTION_TABLE_NAME}`\n",
    "        WHERE grade IS NOT NULL\n",
    "\n",
    "        UNION ALL\n",
    "\n",
    "        SELECT\n",
    "            '{ETH_ANALYSIS_TYPE}' AS type,\n",
    "            subtype,\n",
    "            address,\n",
    "            grade\n",
    "        FROM `{PROJECT_ID}.{ETH_ANALYSIS_DATASET_NAME}.{ETH_ANALYSIS_DISTRIBUTION_TABLE_NAME}`\n",
    "        WHERE grade IS NOT NULL\n",
    "\n",
    "        UNION ALL\n",
    "\n",
    "        SELECT\n",
    "            '{ERC721_ANALYSIS_TYPE}' AS type,\n",
    "            '' AS subtype,\n",
    "            address,\n",
    "            grade\n",
    "        FROM `{PROJECT_ID}.{ERC721_ANALYSIS_DATASET_NAME}.{ERC721_ANALYSIS_DISTRIBUTION_TABLE_NAME}`\n",
    "        WHERE grade IS NOT NULL\n",
    "\n",
    "        UNION ALL\n",
    "\n",
    "        SELECT\n",
    "            '{ERC20_ANALYSIS_TYPE}' AS type,\n",
    "            '' AS subtype,\n",
    "            address,\n",
    "            grade\n",
    "        FROM `{PROJECT_ID}.{ERC20_ANALYSIS_DATASET_NAME}.{ERC20_ANALYSIS_DISTRIBUTION_TABLE_NAME}`\n",
    "        WHERE grade IS NOT NULL\n",
    "\n",
    "        UNION ALL\n",
    "\n",
    "        SELECT\n",
    "            '{ERC20_TOP_TYPE}' AS type,\n",
    "            '' AS subtype,\n",
    "            address,\n",
    "            grade\n",
    "        FROM `{PROJECT_ID}.{ERC20_ANALYSIS_DATASET_NAME}.{ERC20_TOP_DISTRIBUTION_TABLE_NAME}`\n",
    "        WHERE grade IS NOT NULL)\n",
    "    WHERE address NOT IN (SELECT address FROM `{PROJECT_ID}.{FINAL_DATASET_NAME}.{CONTRACT_ADDRESSES_TABLE}`)\n",
    "'''\n",
    "\n",
    "if DROP_VIEW:\n",
    "    drop_table(FINAL_DISTRIBUTION_VIEW_NAME, dataset_name=FINAL_DATASET_NAME)\n",
    "\n",
    "if CREATE_VIEW:\n",
    "    create_view(query_1, FINAL_DISTRIBUTION_VIEW_NAME)"
   ],
   "metadata": {
    "collapsed": false,
    "pycharm": {
     "name": "#%%\n"
    }
   }
  },
  {
   "cell_type": "markdown",
   "source": [],
   "metadata": {
    "collapsed": false,
    "pycharm": {
     "name": "#%% md\n"
    }
   }
  },
  {
   "cell_type": "code",
   "execution_count": 5,
   "outputs": [
    {
     "name": "stdout",
     "output_type": "stream",
     "text": [
      "Table final:gift_per_address_pivot has not been deleted.\n",
      "404 DELETE https://bigquery.googleapis.com/bigquery/v2/projects/cosmic-keep-223223/datasets/final/tables/gift_per_address_pivot?prettyPrint=false: Not found: Table cosmic-keep-223223:final.gift_per_address_pivot\n",
      "View VIEW:cosmic-keep-223223.final.gift_per_address_pivot has been created.\n"
     ]
    }
   ],
   "source": [
    "query_2 = f'''\n",
    "    SELECT\n",
    "        type,\n",
    "        grade_1 as `Number_of_addresses_in_Grade_1`,\n",
    "        ROUND(IF(grade_1 > 0, gift_amount_per_type / grade_1 / number_of_grades / 1e6, 0), 2) as `Gift_per_address_for_Grade_1`,\n",
    "        grade_2 as `Number_of_addresses_in_Grade_2`,\n",
    "        ROUND(IF(grade_2 > 0, gift_amount_per_type / grade_2 / number_of_grades / 1e6, 0), 2) as `Gift_per_address_for_Grade_2`,\n",
    "        grade_3 as `Number_of_addresses_in_Grade_3`,\n",
    "        ROUND(IF(grade_3 > 0, gift_amount_per_type / grade_3 / number_of_grades / 1e6, 0), 2) as `Gift_per_address_for_Grade_3`,\n",
    "        total_addresses as `Number_of_addresses_in_type`,\n",
    "        gift_amount_per_type as `Gift_amount_per_type`\n",
    "    FROM (\n",
    "        SELECT\n",
    "            type,\n",
    "            SUM(IF(grade=1, address_count, 0)) as grade_1,\n",
    "            SUM(IF(grade=2, address_count, 0)) as grade_2,\n",
    "            SUM(IF(grade=3, address_count, 0)) as grade_3,\n",
    "            SUM(address_count) as total_addresses,\n",
    "            COUNTIF(address_count > 0) as number_of_grades\n",
    "        FROM (\n",
    "            SELECT\n",
    "                type,\n",
    "                grade,\n",
    "                count(distinct address) as address_count\n",
    "            FROM `{PROJECT_ID}.{FINAL_DATASET_NAME}.{FINAL_DISTRIBUTION_VIEW_NAME}`\n",
    "            WHERE grade IN (1, 2, 3)\n",
    "            GROUP BY type, grade)\n",
    "        GROUP BY type)\n",
    "    LEFT JOIN (\n",
    "        SELECT\n",
    "            gift.type as type,\n",
    "            gift.amount_per_type as gift_amount_per_type\n",
    "        FROM UNNEST([{''.join(f\"STRUCT('{k}' AS type, {v} AS amount_per_type), \" for k,v in gift_per_audience.items())[:-2]}]) as gift\n",
    "        )\n",
    "    USING (type)\n",
    "'''\n",
    "\n",
    "if DROP_VIEW:\n",
    "    drop_table(GIFT_PER_ADDRESS_PIVOT_VIEW_NAME, dataset_name=FINAL_DATASET_NAME)\n",
    "\n",
    "if CREATE_VIEW:\n",
    "    create_view(query_2, GIFT_PER_ADDRESS_PIVOT_VIEW_NAME)"
   ],
   "metadata": {
    "collapsed": false,
    "pycharm": {
     "name": "#%%\n"
    }
   }
  },
  {
   "cell_type": "code",
   "execution_count": null,
   "outputs": [],
   "source": [],
   "metadata": {
    "collapsed": false,
    "pycharm": {
     "name": "#%%\n"
    }
   }
  }
 ],
 "metadata": {
  "kernelspec": {
   "display_name": "Python 3",
   "language": "python",
   "name": "python3"
  },
  "language_info": {
   "codemirror_mode": {
    "name": "ipython",
    "version": 2
   },
   "file_extension": ".py",
   "mimetype": "text/x-python",
   "name": "python",
   "nbconvert_exporter": "python",
   "pygments_lexer": "ipython2",
   "version": "2.7.6"
  }
 },
 "nbformat": 4,
 "nbformat_minor": 0
}