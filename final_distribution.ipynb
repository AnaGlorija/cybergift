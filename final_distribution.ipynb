{
 "cells": [
  {
   "cell_type": "markdown",
   "source": [
    "# Final Distribution"
   ],
   "metadata": {
    "collapsed": false
   }
  },
  {
   "cell_type": "code",
   "execution_count": 1,
   "outputs": [],
   "source": [
    "from config import PROJECT_ID, INITIAL_TS, SNAPSHOT_TS, \\\n",
    "    CITIZENS_AUDIENCE, ETH_ANALYSIS_DATASET_NAME, ETH_ANALYSIS_DISTRIBUTION_TABLE_NAME, \\\n",
    "    CRYPTOPUNKS_AUDIENCE, \\\n",
    "    HACKERS_AUDIENCE, GAS_ANALYSIS_DATASET_NAME, GAS_ANALYSIS_DISTRIBUTION_TABLE_NAME, \\\n",
    "    LEADERS_AUDIENCE, ERC20_TOP_DISTRIBUTION_TABLE_NAME, \\\n",
    "    MASTERS_AUDIENCE, ERC721_ANALYSIS_DATASET_NAME, ERC721_ANALYSIS_DISTRIBUTION_TABLE_NAME, \\\n",
    "    INVESTORS_AUDIENCE, ERC20_ANALYSIS_DATASET_NAME, ERC20_ANALYSIS_DISTRIBUTION_TABLE_NAME, \\\n",
    "    HEROES_AUDIENCE, GENESIS_AND_ETH2_DATASET_NAME, GENESIS_AND_ETH2_DISTRIBUTION_TABLE_NAME, \\\n",
    "    COSMOS_AUDIENCE, COSMOS_DATASET_NAME, COSMOS_DISTRIBUTION_TABLE_NAME, \\\n",
    "    MANUAL_ADDRESSES_AUDIENCE, MANUAL_ADDRESSES_DATASET_NAME, MANUAL_ADDRESSES_DISTRIBUTION_TABLE_NAME, \\\n",
    "    FINAL_DATASET_NAME, DISTRIBUTION_TABLE_NAME, FINAL_DISTRIBUTION_TABLE_NAME, CONTRACT_ADDRESSES_TABLE, \\\n",
    "    GIFT_PER_ADDRESS_PIVOT_TABLE_NAME\n",
    "from src.utils_bigquery import create_table, drop_table, get_df\n",
    "from src.utils_charts import heatmap_from_df\n",
    "\n",
    "\n",
    "CREATE_CONTRACT_TABLE = False\n",
    "DROP_TABLES = True\n",
    "CREATE_TABLES = True"
   ],
   "metadata": {
    "collapsed": false,
    "pycharm": {
     "name": "#%%\n"
    }
   }
  },
  {
   "cell_type": "markdown",
   "source": [
    "## Set cyberGift for the Audiences\n",
    "**Total Supply:** 1 PCYB = 1e15 CYB\n",
    "\n",
    "\n",
    "**1% of Total Supply:** 10 TCYB = 1e13 CYB\n",
    "\n",
    "\n",
    "Distribution between **audiences**\n",
    "\n",
    "\n",
    "<table style=\"text-align: left\">\n",
    "    <thead style=\"text-align: center\">\n",
    "        <tr>\n",
    "            <th>Audience</th>\n",
    "            <th>Share of Total Supply</th>\n",
    "        </tr>\n",
    "    </thead>\n",
    "    <tbody>\n",
    "        <tr>\n",
    "            <td style=\"text-align: left\"> Average Citizens </td>\n",
    "            <td style=\"text-align: center\"> 35% </td>\n",
    "        </tr>\n",
    "        <tr>\n",
    "            <td style=\"text-align: left\"> Cyberpunks </td>\n",
    "            <td style=\"text-align: center\"> 2% </td>\n",
    "        </tr>\n",
    "        <tr>\n",
    "            <td style=\"text-align: left\"> Extraordinary Hackers </td>\n",
    "            <td style=\"text-align: center\"> 7% </td>\n",
    "        </tr>\n",
    "        <tr>\n",
    "            <td style=\"text-align: left\"> Key Opinion Leaders </td>\n",
    "            <td style=\"text-align: center\"> 2% </td>\n",
    "        </tr>\n",
    "        <tr>\n",
    "            <td style=\"text-align: left\"> Masters of the Great Web </td>\n",
    "            <td style=\"text-align: center\"> 13% </td>\n",
    "        </tr>\n",
    "        <tr>\n",
    "            <td style=\"text-align: left\"> Passionate Investors </td>\n",
    "            <td style=\"text-align: center\"> 3% </td>\n",
    "        </tr>\n",
    "        <tr>\n",
    "            <td style=\"text-align: left\"> True Heroes of the Great Web </td>\n",
    "            <td style=\"text-align: center\"> 5% </td>\n",
    "        </tr>\n",
    "    </tbody>\n",
    "</table>"
   ],
   "metadata": {
    "collapsed": false,
    "pycharm": {
     "name": "#%% md\n"
    }
   }
  },
  {
   "cell_type": "code",
   "execution_count": 2,
   "outputs": [],
   "source": [
    "gift_per_audience = {\n",
    "    CITIZENS_AUDIENCE : 35e13,\n",
    "    CRYPTOPUNKS_AUDIENCE: 2e13,\n",
    "    HACKERS_AUDIENCE: 7e13,\n",
    "    LEADERS_AUDIENCE: 2e13,\n",
    "    MASTERS_AUDIENCE: 13e13,\n",
    "    INVESTORS_AUDIENCE: 3e13,\n",
    "    HEROES_AUDIENCE: 5e13,\n",
    "    COSMOS_AUDIENCE: 1e13\n",
    "}"
   ],
   "metadata": {
    "collapsed": false,
    "pycharm": {
     "name": "#%%\n"
    }
   }
  },
  {
   "cell_type": "markdown",
   "source": [
    "## Create Contracts Table"
   ],
   "metadata": {
    "collapsed": false
   }
  },
  {
   "cell_type": "code",
   "execution_count": 3,
   "outputs": [],
   "source": [
    "query_1 = f'''\n",
    "    SELECT\n",
    "        to_address as address\n",
    "    FROM `bigquery-public-data.crypto_ethereum.traces`\n",
    "    WHERE block_timestamp >= '{INITIAL_TS}'\n",
    "      AND block_timestamp <= '{SNAPSHOT_TS}'\n",
    "      AND trace_type ='create'\n",
    "      AND status = 1\n",
    "'''\n",
    "\n",
    "if CREATE_CONTRACT_TABLE:\n",
    "    if DROP_TABLES:\n",
    "        drop_table(table_name=CONTRACT_ADDRESSES_TABLE,\n",
    "                   dataset_name=FINAL_DATASET_NAME)\n",
    "    if CREATE_TABLES:\n",
    "        create_table(query_1=query_1,\n",
    "                     table_name=CONTRACT_ADDRESSES_TABLE,\n",
    "                     dataset_name=FINAL_DATASET_NAME)"
   ],
   "metadata": {
    "collapsed": false,
    "pycharm": {
     "name": "#%%\n"
    }
   }
  },
  {
   "cell_type": "markdown",
   "source": [
    "## Create Distribution Table without Gift Size"
   ],
   "metadata": {
    "collapsed": false,
    "pycharm": {
     "name": "#%% md\n"
    }
   }
  },
  {
   "cell_type": "code",
   "execution_count": 4,
   "outputs": [
    {
     "name": "stdout",
     "output_type": "stream",
     "text": [
      "Table final:distribution_without_gift_size has been deleted.\n",
      "Table final:distribution_without_gift_size has been created and filled 6522869 rows.\n"
     ]
    }
   ],
   "source": [
    "query_1 = f'''\n",
    "    SELECT\n",
    "        audience,\n",
    "        segment,\n",
    "        address,\n",
    "        grade\n",
    "    FROM (\n",
    "        SELECT\n",
    "            audience,\n",
    "            segment,\n",
    "            address,\n",
    "            grade,\n",
    "            ROW_NUMBER() OVER (PARTITION BY audience, address ORDER BY grade DESC) AS rank\n",
    "        FROM (\n",
    "            SELECT\n",
    "                '{HEROES_AUDIENCE}' AS audience,\n",
    "                segment,\n",
    "                address,\n",
    "                grade\n",
    "            FROM `{PROJECT_ID}.{GENESIS_AND_ETH2_DATASET_NAME}.{GENESIS_AND_ETH2_DISTRIBUTION_TABLE_NAME}`\n",
    "            WHERE grade IS NOT NULL\n",
    "\n",
    "            UNION ALL\n",
    "\n",
    "            SELECT\n",
    "                IF(segment = 'Contract Creator by Factory', '{MASTERS_AUDIENCE}', '{HACKERS_AUDIENCE}') AS audience,\n",
    "                segment,\n",
    "                address,\n",
    "                grade\n",
    "            FROM `{PROJECT_ID}.{GAS_ANALYSIS_DATASET_NAME}.{GAS_ANALYSIS_DISTRIBUTION_TABLE_NAME}`\n",
    "            WHERE grade IS NOT NULL\n",
    "\n",
    "            UNION ALL\n",
    "\n",
    "            SELECT\n",
    "                '{CITIZENS_AUDIENCE}' AS audience,\n",
    "                segment,\n",
    "                address,\n",
    "                grade\n",
    "            FROM `{PROJECT_ID}.{ETH_ANALYSIS_DATASET_NAME}.{ETH_ANALYSIS_DISTRIBUTION_TABLE_NAME}`\n",
    "            WHERE grade IS NOT NULL\n",
    "\n",
    "            UNION ALL\n",
    "\n",
    "            SELECT\n",
    "                audience,\n",
    "                segment,\n",
    "                address,\n",
    "                grade\n",
    "            FROM `{PROJECT_ID}.{ERC721_ANALYSIS_DATASET_NAME}.{ERC721_ANALYSIS_DISTRIBUTION_TABLE_NAME}`\n",
    "            WHERE grade IS NOT NULL\n",
    "\n",
    "            UNION ALL\n",
    "\n",
    "            SELECT\n",
    "                audience,\n",
    "                segment,\n",
    "                address,\n",
    "                grade\n",
    "            FROM `{PROJECT_ID}.{ERC20_ANALYSIS_DATASET_NAME}.{ERC20_ANALYSIS_DISTRIBUTION_TABLE_NAME}`\n",
    "            WHERE grade IS NOT NULL\n",
    "\n",
    "            UNION ALL\n",
    "\n",
    "            SELECT\n",
    "                '{LEADERS_AUDIENCE}' AS audience,\n",
    "                '{LEADERS_AUDIENCE}' AS segment,\n",
    "                address,\n",
    "                grade\n",
    "            FROM `{PROJECT_ID}.{ERC20_ANALYSIS_DATASET_NAME}.{ERC20_TOP_DISTRIBUTION_TABLE_NAME}`\n",
    "            WHERE grade IS NOT NULL\n",
    "\n",
    "            UNION ALL\n",
    "\n",
    "            SELECT\n",
    "                '{MANUAL_ADDRESSES_AUDIENCE}' AS audience,\n",
    "                '{MANUAL_ADDRESSES_AUDIENCE}' AS segment,\n",
    "                address,\n",
    "                3 AS grade\n",
    "            FROM `{PROJECT_ID}.{MANUAL_ADDRESSES_DATASET_NAME}.{MANUAL_ADDRESSES_DISTRIBUTION_TABLE_NAME}`\n",
    "            )\n",
    "        WHERE address NOT IN (SELECT address FROM `{PROJECT_ID}.{FINAL_DATASET_NAME}.{CONTRACT_ADDRESSES_TABLE}`))\n",
    "    WHERE rank = 1\n",
    "\n",
    "    UNION ALL\n",
    "\n",
    "    SELECT\n",
    "        '{COSMOS_AUDIENCE}' AS audience,\n",
    "        'ATOM Balances' AS segment,\n",
    "        address,\n",
    "        grade\n",
    "    FROM `{PROJECT_ID}.{COSMOS_DATASET_NAME}.{COSMOS_DISTRIBUTION_TABLE_NAME}`\n",
    "    WHERE grade IS NOT NULL\n",
    "'''\n",
    "\n",
    "if DROP_TABLES:\n",
    "    drop_table(table_name=DISTRIBUTION_TABLE_NAME,\n",
    "               dataset_name=FINAL_DATASET_NAME)\n",
    "\n",
    "if CREATE_TABLES:\n",
    "    create_table(query=query_1,\n",
    "                 table_name=DISTRIBUTION_TABLE_NAME,\n",
    "                 dataset_name=FINAL_DATASET_NAME)"
   ],
   "metadata": {
    "collapsed": false,
    "pycharm": {
     "name": "#%%\n"
    }
   }
  },
  {
   "cell_type": "markdown",
   "source": [
    "## Create Gift per Address Pivot Table"
   ],
   "metadata": {
    "collapsed": false,
    "pycharm": {
     "name": "#%% md\n"
    }
   }
  },
  {
   "cell_type": "code",
   "execution_count": 5,
   "outputs": [
    {
     "name": "stdout",
     "output_type": "stream",
     "text": [
      "Table final:gift_per_address_pivot has been deleted.\n",
      "Table final:gift_per_address_pivot has been created and filled 24 rows.\n"
     ]
    }
   ],
   "source": [
    "query_2 = f'''\n",
    "    WITH gift_data AS (\n",
    "        SELECT\n",
    "            audience,\n",
    "            [STRUCT(1 AS grade, grade_1 AS number_of_addresses, ROUND(IF(grade_1 > 0, gift_amount_per_audience / grade_1 / number_of_grades, 0), 2) as gift_per_address),\n",
    "             STRUCT(2 AS grade, grade_2 AS number_of_addresses, ROUND(IF(grade_2 > 0, gift_amount_per_audience / grade_2 / number_of_grades, 0), 2) as gift_per_address),\n",
    "             STRUCT(3 AS grade, grade_3 AS number_of_addresses, ROUND(IF(grade_3 > 0, gift_amount_per_audience / grade_3 / number_of_grades, 0), 2) as gift_per_address)] as gift_data_by_audience,\n",
    "            total_addresses AS number_of_addresses_in_audience,\n",
    "            gift_amount_per_audience\n",
    "        FROM (\n",
    "            SELECT\n",
    "                audience,\n",
    "                SUM(IF(grade=1, address_count, 0)) AS grade_1,\n",
    "                SUM(IF(grade=2, address_count, 0)) AS grade_2,\n",
    "                SUM(IF(grade=3, address_count, 0)) AS grade_3,\n",
    "                SUM(address_count) AS total_addresses,\n",
    "                COUNTIF(address_count > 0) AS number_of_grades\n",
    "            FROM (\n",
    "                SELECT\n",
    "                    audience,\n",
    "                    grade,\n",
    "                    count(distinct address) as address_count\n",
    "                FROM `{PROJECT_ID}.{FINAL_DATASET_NAME}.{DISTRIBUTION_TABLE_NAME}`\n",
    "                WHERE grade IN (1, 2, 3)\n",
    "                  AND audience != '{MANUAL_ADDRESSES_AUDIENCE}'\n",
    "                GROUP BY audience, grade)\n",
    "            GROUP BY audience)\n",
    "        LEFT JOIN (\n",
    "            SELECT\n",
    "                gift.audience as audience,\n",
    "                gift.amount_per_audience as gift_amount_per_audience\n",
    "            FROM UNNEST([{''.join(f\"STRUCT('{k}' AS audience, {v} AS amount_per_audience), \" for k,v in gift_per_audience.items())[:-2]}]) AS gift\n",
    "            )\n",
    "        USING (audience))\n",
    "    SELECT\n",
    "        audience,\n",
    "        number_of_addresses_in_audience,\n",
    "        gift_data_by_audience.number_of_addresses as number_of_addresses,\n",
    "        gift_data_by_audience.grade as grade,\n",
    "        gift_data_by_audience.gift_per_address as gift_per_address\n",
    "    FROM gift_data\n",
    "    CROSS JOIN UNNEST(gift_data.gift_data_by_audience) AS gift_data_by_audience\n",
    "'''\n",
    "\n",
    "if DROP_TABLES:\n",
    "    drop_table(table_name=GIFT_PER_ADDRESS_PIVOT_TABLE_NAME,\n",
    "               dataset_name=FINAL_DATASET_NAME)\n",
    "\n",
    "if CREATE_TABLES:\n",
    "    create_table(query=query_2,\n",
    "                table_name=GIFT_PER_ADDRESS_PIVOT_TABLE_NAME,\n",
    "                dataset_name=FINAL_DATASET_NAME)"
   ],
   "metadata": {
    "collapsed": false,
    "pycharm": {
     "name": "#%%\n"
    }
   }
  },
  {
   "cell_type": "markdown",
   "source": [
    "## Create Final Distribution Table"
   ],
   "metadata": {
    "collapsed": false,
    "pycharm": {
     "name": "#%% md\n"
    }
   }
  },
  {
   "cell_type": "code",
   "execution_count": 6,
   "outputs": [
    {
     "name": "stdout",
     "output_type": "stream",
     "text": [
      "Table final:final_distribution has been deleted.\n",
      "Table final:final_distribution has been created and filled 6522870 rows.\n"
     ]
    }
   ],
   "source": [
    "query_3 = f'''\n",
    "    SELECT\n",
    "        audience,\n",
    "        segment,\n",
    "        address,\n",
    "        grade,\n",
    "        gift\n",
    "    FROM `{PROJECT_ID}.{FINAL_DATASET_NAME}.{DISTRIBUTION_TABLE_NAME}`\n",
    "    LEFT JOIN (\n",
    "        SELECT\n",
    "            audience,\n",
    "            grade AS grade,\n",
    "            gift_per_address / 1e6 AS gift\n",
    "        FROM `{PROJECT_ID}.{FINAL_DATASET_NAME}.{GIFT_PER_ADDRESS_PIVOT_TABLE_NAME}`\n",
    "        )\n",
    "    USING (audience, grade)\n",
    "    WHERE audience != '{MANUAL_ADDRESSES_AUDIENCE}'\n",
    "\n",
    "    UNION ALL\n",
    "\n",
    "    SELECT\n",
    "        '{MANUAL_ADDRESSES_AUDIENCE}' AS audience,\n",
    "        '{MANUAL_ADDRESSES_AUDIENCE}' AS segment,\n",
    "        address,\n",
    "        3 AS grade,\n",
    "        amount / 1e6 AS gift\n",
    "    FROM `{PROJECT_ID}.{MANUAL_ADDRESSES_DATASET_NAME}.{MANUAL_ADDRESSES_DISTRIBUTION_TABLE_NAME}`\n",
    "'''\n",
    "\n",
    "if DROP_TABLES:\n",
    "    drop_table(table_name=FINAL_DISTRIBUTION_TABLE_NAME,\n",
    "               dataset_name=FINAL_DATASET_NAME)\n",
    "\n",
    "if CREATE_TABLES:\n",
    "    create_table(query=query_3,\n",
    "                 table_name=FINAL_DISTRIBUTION_TABLE_NAME,\n",
    "                 dataset_name=FINAL_DATASET_NAME)"
   ],
   "metadata": {
    "collapsed": false,
    "pycharm": {
     "name": "#%%\n"
    }
   }
  },
  {
   "cell_type": "markdown",
   "source": [
    "## Distribution Heatmap"
   ],
   "metadata": {
    "collapsed": false,
    "pycharm": {
     "name": "#%% md\n"
    }
   }
  },
  {
   "cell_type": "code",
   "execution_count": 7,
   "outputs": [],
   "source": [
    "query_4 = f'''\n",
    "    SELECT\n",
    "        ANY_VALUE(audiences) AS audiences,\n",
    "        count(address) AS address_count\n",
    "    FROM (\n",
    "        SELECT\n",
    "            address,\n",
    "            ARRAY_AGG(DISTINCT audience) as audiences\n",
    "        FROM `{PROJECT_ID}.{FINAL_DATASET_NAME}.{FINAL_DISTRIBUTION_TABLE_NAME}`\n",
    "        WHERE audience NOT IN ('{COSMOS_AUDIENCE}')\n",
    "        GROUP BY address)\n",
    "    GROUP BY TO_JSON_STRING(audiences)\n",
    "'''\n",
    "\n",
    "final_distribution_df = get_df(query_4)"
   ],
   "metadata": {
    "collapsed": false,
    "pycharm": {
     "name": "#%%\n"
    }
   }
  },
  {
   "cell_type": "code",
   "execution_count": 8,
   "outputs": [
    {
     "data": {
      "text/plain": "<Figure size 864x864 with 2 Axes>",
      "image/png": "[encoded data removed]"
     },
     "metadata": {},
     "output_type": "display_data"
    }
   ],
   "source": [
    "heatmap_from_df(final_distribution_df,\n",
    "                title='Distribution of Gift Participants by Audiences\\n',\n",
    "                fig_size=12)"
   ],
   "metadata": {
    "collapsed": false,
    "pycharm": {
     "name": "#%%\n"
    }
   }
  },
  {
   "cell_type": "code",
   "execution_count": 8,
   "outputs": [],
   "source": [],
   "metadata": {
    "collapsed": false,
    "pycharm": {
     "name": "#%%\n"
    }
   }
  }
 ],
 "metadata": {
  "kernelspec": {
   "display_name": "Python 3",
   "language": "python",
   "name": "python3"
  },
  "language_info": {
   "codemirror_mode": {
    "name": "ipython",
    "version": 2
   },
   "file_extension": ".py",
   "mimetype": "text/x-python",
   "name": "python",
   "nbconvert_exporter": "python",
   "pygments_lexer": "ipython2",
   "version": "2.7.6"
  }
 },
 "nbformat": 4,
 "nbformat_minor": 0
}