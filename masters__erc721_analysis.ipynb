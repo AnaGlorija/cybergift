{
 "cells": [
  {
   "cell_type": "markdown",
   "source": [
    "## Masters of the Great Web. ERC721 Analysis"
   ],
   "metadata": {
    "collapsed": false,
    "pycharm": {
     "name": "#%% md\n"
    }
   }
  },
  {
   "cell_type": "code",
   "execution_count": 1,
   "outputs": [],
   "source": [
    "import matplotlib.pyplot as plt\n",
    "import matplotlib as mpl\n",
    "from IPython.display import HTML, display\n",
    "import pandas as pd\n",
    "\n",
    "from config import PROJECT_ID, INITIAL_TS, SNAPSHOT_TS, \\\n",
    "    ERC721_ANALYSIS_DATASET_NAME, ERC721_AMOUNT_TABLE_NAME, ERC721_ANALYSIS_DISTRIBUTION_TABLE_NAME\n",
    "from utils import drop_table, create_table\n",
    "\n",
    "DROP_TABLES = True\n",
    "CREATE_TABLES = True"
   ],
   "metadata": {
    "collapsed": false,
    "pycharm": {
     "name": "#%%\n"
    }
   }
  },
  {
   "cell_type": "markdown",
   "metadata": {
    "collapsed": true,
    "pycharm": {
     "name": "#%% md\n"
    }
   },
   "source": [
    "### Distribution Rule\n",
    "\n",
    "<table style=\"text-align: center\">\n",
    "    <thead style=\"text-align: center\">\n",
    "        <tr>\n",
    "            <th rowspan=2></th>\n",
    "            <th colspan=3>Grade</th>\n",
    "        </tr>\n",
    "        <tr>\n",
    "            <th>1</th>\n",
    "            <th>2</th>\n",
    "            <th>3</th>\n",
    "        </tr>\n",
    "    </thead>\n",
    "    <tbody>\n",
    "        <tr>\n",
    "            <td style=\"text-align: left\"> Amount of ERC721 tokens </td>\n",
    "            <td> > 0 NFT </td>\n",
    "            <td> > 10 NFT </td>\n",
    "            <td> > 100 NFT </td>\n",
    "        </tr>\n",
    "    </tbody>\n",
    "</table>"
   ]
  },
  {
   "cell_type": "code",
   "execution_count": 2,
   "outputs": [],
   "source": [
    "min_number_of_tokens = 0\n",
    "boundary_erc721_amount = [0, 10, 100]"
   ],
   "metadata": {
    "collapsed": false,
    "pycharm": {
     "name": "#%%\n"
    }
   }
  },
  {
   "cell_type": "markdown",
   "source": [
    "### Set Token Data"
   ],
   "metadata": {
    "collapsed": false
   }
  },
  {
   "cell_type": "code",
   "execution_count": 3,
   "outputs": [],
   "source": [
    "erc721_tokens_dict = {\n",
    "                'Gitcoin Kudos': '0x2aea4add166ebf38b63d09a75de1a7b94aa24163',\n",
    "                'ENS': '0x57f1887a8bf19b14fc0df6fd9b2acc9af147ea85',\n",
    "                'LAND': '0xf87e31492faf9a91b02ee0deaad50d51d56d5d4d',\n",
    "                'Unicorns': '0x89205a3a3b2a69de6dbf7f01ed13b2108b2c43e7',\n",
    "                'DRAGON': '0x960f401aed58668ef476ef02b2a2d43b83c261d8',\n",
    "                'Cryptopunks': '0xb47e3cd837ddf8e4c57f05d70ab865de6e193bbb'}\n",
    "erc721_tokens = {k: v.lower() for k, v in erc721_tokens_dict.items()}\n",
    "erc721_tokens_address_tuple = tuple(erc721_tokens_dict.values())"
   ],
   "metadata": {
    "collapsed": false,
    "pycharm": {
     "name": "#%%\n"
    }
   }
  },
  {
   "cell_type": "markdown",
   "source": [
    "### Get Balances"
   ],
   "metadata": {
    "collapsed": false,
    "pycharm": {
     "name": "#%% md\n"
    }
   }
  },
  {
   "cell_type": "code",
   "execution_count": 4,
   "outputs": [
    {
     "name": "stdout",
     "output_type": "stream",
     "text": [
      "Table erc721_analysis:erc721_amounts has been deleted.\n",
      "Table erc721_analysis:erc721_amounts has been created and filled 59346 rows.\n"
     ]
    }
   ],
   "source": [
    "query_1 = f'''\n",
    "        WITH token_transfers AS (\n",
    "                SELECT\n",
    "                    token_address,\n",
    "                    address,\n",
    "                    sum(value) as amount\n",
    "                FROM (\n",
    "                    SELECT\n",
    "                        token_address,\n",
    "                        from_address as address,\n",
    "                        - count(value) as value\n",
    "                    FROM `bigquery-public-data.crypto_ethereum.token_transfers`\n",
    "                    WHERE token_address IN {erc721_tokens_address_tuple}\n",
    "                      AND from_address NOT IN ('0x0000000000000000000000000000000000000000')\n",
    "                      AND block_timestamp >= '{INITIAL_TS}'\n",
    "                      AND block_timestamp <= '{SNAPSHOT_TS}'\n",
    "                    GROUP BY token_address, from_address\n",
    "                    UNION ALL\n",
    "                    SELECT\n",
    "                        token_address,\n",
    "                        to_address as address,\n",
    "                        count(value) as value\n",
    "                    FROM `bigquery-public-data.crypto_ethereum.token_transfers`\n",
    "                    WHERE token_address IN {erc721_tokens_address_tuple}\n",
    "                      AND to_address NOT IN ('0x0000000000000000000000000000000000000000')\n",
    "                      AND block_timestamp >= '{INITIAL_TS}'\n",
    "                      AND block_timestamp <= '{SNAPSHOT_TS}'\n",
    "                    GROUP BY token_address, to_address\n",
    "                    )\n",
    "                GROUP BY token_address, address\n",
    "        )\n",
    "        SELECT\n",
    "            token_address,\n",
    "            address as address,\n",
    "            amount\n",
    "        FROM token_transfers\n",
    "'''\n",
    "\n",
    "if DROP_TABLES:\n",
    "    drop_table(ERC721_AMOUNT_TABLE_NAME, dataset_name=ERC721_ANALYSIS_DATASET_NAME)\n",
    "\n",
    "if CREATE_TABLES:\n",
    "    create_table(query_1, ERC721_AMOUNT_TABLE_NAME, dataset_name=ERC721_ANALYSIS_DATASET_NAME)"
   ],
   "metadata": {
    "collapsed": false,
    "pycharm": {
     "name": "#%%\n"
    }
   }
  },
  {
   "cell_type": "markdown",
   "source": [
    "### Create Distribution Table"
   ],
   "metadata": {
    "collapsed": false,
    "pycharm": {
     "name": "#%% md\n"
    }
   }
  },
  {
   "cell_type": "code",
   "execution_count": 5,
   "outputs": [
    {
     "name": "stdout",
     "output_type": "stream",
     "text": [
      "Table erc721_analysis:erc721_analysis_distribution has been deleted.\n",
      "Table erc721_analysis:erc721_analysis_distribution has been created and filled 51776 rows.\n"
     ]
    }
   ],
   "source": [
    "query_2 = f'''\n",
    "SELECT\n",
    "    address,\n",
    "    CASE\n",
    "        WHEN sum_amount > {boundary_erc721_amount[2]} THEN 3\n",
    "        WHEN sum_amount > {boundary_erc721_amount[1]} THEN 2\n",
    "        WHEN sum_amount > {boundary_erc721_amount[0]} THEN 1\n",
    "        ELSE null\n",
    "    END\n",
    "    AS grade,\n",
    "    sum_amount,\n",
    "    number_of_tokens\n",
    "FROM (\n",
    "    SELECT\n",
    "        address,\n",
    "        count( distinct token_address) as number_of_tokens,\n",
    "        sum(amount) as sum_amount\n",
    "    FROM `{PROJECT_ID}.{ERC721_ANALYSIS_DATASET_NAME}.{ERC721_AMOUNT_TABLE_NAME}`\n",
    "    WHERE amount > 0\n",
    "    GROUP BY address)\n",
    "WHERE number_of_tokens > {min_number_of_tokens}\n",
    "'''\n",
    "\n",
    "if DROP_TABLES:\n",
    "    drop_table(ERC721_ANALYSIS_DISTRIBUTION_TABLE_NAME, dataset_name=ERC721_ANALYSIS_DATASET_NAME)\n",
    "\n",
    "if CREATE_TABLES:\n",
    "    create_table(query_2, ERC721_ANALYSIS_DISTRIBUTION_TABLE_NAME, dataset_name=ERC721_ANALYSIS_DATASET_NAME)"
   ],
   "metadata": {
    "collapsed": false,
    "pycharm": {
     "name": "#%%\n"
    }
   }
  },
  {
   "cell_type": "code",
   "execution_count": 5,
   "outputs": [],
   "source": [],
   "metadata": {
    "collapsed": false,
    "pycharm": {
     "name": "#%%\n"
    }
   }
  }
 ],
 "metadata": {
  "kernelspec": {
   "display_name": "Python 3",
   "language": "python",
   "name": "python3"
  },
  "language_info": {
   "codemirror_mode": {
    "name": "ipython",
    "version": 2
   },
   "file_extension": ".py",
   "mimetype": "text/x-python",
   "name": "python",
   "nbconvert_exporter": "python",
   "pygments_lexer": "ipython2",
   "version": "2.7.6"
  }
 },
 "nbformat": 4,
 "nbformat_minor": 0
}