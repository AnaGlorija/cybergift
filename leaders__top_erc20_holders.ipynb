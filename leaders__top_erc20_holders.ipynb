{
 "cells": [
  {
   "cell_type": "markdown",
   "source": [
    "## Key Opinion Leaders. Top 100 ERC20 Holders by Tokens"
   ],
   "metadata": {
    "collapsed": false,
    "pycharm": {
     "name": "#%% md\n"
    }
   }
  },
  {
   "cell_type": "code",
   "execution_count": 4,
   "outputs": [],
   "source": [
    "import matplotlib.pyplot as plt\n",
    "import matplotlib as mpl\n",
    "from IPython.display import HTML, display\n",
    "import pandas as pd\n",
    "\n",
    "from config import PROJECT_ID, \\\n",
    "    ERC20_ANALYSIS_DATASET_NAME, ERC20_BALANCES_TABLE_NAME, \\\n",
    "    ERC20_TOP_DISTRIBUTION_TABLE_NAME\n",
    "from utils import drop_table, create_table\n",
    "\n",
    "DROP_TABLES = True\n",
    "CREATE_TABLES = True"
   ],
   "metadata": {
    "collapsed": false,
    "pycharm": {
     "name": "#%%\n"
    }
   }
  },
  {
   "cell_type": "markdown",
   "metadata": {
    "collapsed": true,
    "pycharm": {
     "name": "#%% md\n"
    }
   },
   "source": [
    "### Distribution Rule\n",
    "\n",
    "<table style=\"text-align: center\">\n",
    "    <thead style=\"text-align: center\">\n",
    "        <tr>\n",
    "            <th rowspan=2></th>\n",
    "            <th colspan=3>Grade</th>\n",
    "        </tr>\n",
    "        <tr>\n",
    "            <th>1</th>\n",
    "            <th>2</th>\n",
    "            <th>3</th>\n",
    "        </tr>\n",
    "    </thead>\n",
    "    <tbody>\n",
    "        <tr>\n",
    "            <td style=\"text-align: left\"> Top 100 ERC20 Holders by Tokens </td>\n",
    "            <td> - </td>\n",
    "            <td> - </td>\n",
    "            <td> only hear </td>\n",
    "        </tr>\n",
    "    </tbody>\n",
    "</table>"
   ]
  },
  {
   "cell_type": "code",
   "execution_count": 5,
   "outputs": [],
   "source": [
    "number_top_address = 100"
   ],
   "metadata": {
    "collapsed": false,
    "pycharm": {
     "name": "#%%\n"
    }
   }
  },
  {
   "cell_type": "markdown",
   "source": [
    "### Create Distribution Table"
   ],
   "metadata": {
    "collapsed": false,
    "pycharm": {
     "name": "#%% md\n"
    }
   }
  },
  {
   "cell_type": "code",
   "execution_count": 6,
   "outputs": [
    {
     "name": "stdout",
     "output_type": "stream",
     "text": [
      "Table erc20_analysis:erc20_top_distribution has not been deleted.\n",
      "404 DELETE https://bigquery.googleapis.com/bigquery/v2/projects/cosmic-keep-223223/datasets/erc20_analysis/tables/erc20_top_distribution?prettyPrint=false: Not found: Table cosmic-keep-223223:erc20_analysis.erc20_top_distribution\n",
      "Table erc20_analysis:erc20_top_distribution has been created and filled 3528 rows.\n"
     ]
    }
   ],
   "source": [
    "query_1 = f'''\n",
    "    SELECT\n",
    "        address,\n",
    "        3 AS grade,\n",
    "        token_address,\n",
    "        eth_balance,\n",
    "        rank\n",
    "    FROM (\n",
    "        SELECT\n",
    "            address,\n",
    "            token_address,\n",
    "            eth_balance,\n",
    "            RANK() OVER (PARTITION BY token_address ORDER BY eth_balance DESC) AS rank\n",
    "        FROM `{PROJECT_ID}.{ERC20_ANALYSIS_DATASET_NAME}.{ERC20_BALANCES_TABLE_NAME}`\n",
    "        WHERE balance > 0\n",
    "        )\n",
    "    WHERE rank <= {number_top_address}\n",
    "'''\n",
    "\n",
    "if DROP_TABLES:\n",
    "    drop_table(ERC20_TOP_DISTRIBUTION_TABLE_NAME, dataset_name=ERC20_ANALYSIS_DATASET_NAME)\n",
    "\n",
    "if CREATE_TABLES:\n",
    "    create_table(query_1, ERC20_TOP_DISTRIBUTION_TABLE_NAME, dataset_name=ERC20_ANALYSIS_DATASET_NAME)"
   ],
   "metadata": {
    "collapsed": false,
    "pycharm": {
     "name": "#%%\n"
    }
   }
  }
 ],
 "metadata": {
  "kernelspec": {
   "display_name": "Python 3",
   "language": "python",
   "name": "python3"
  },
  "language_info": {
   "codemirror_mode": {
    "name": "ipython",
    "version": 2
   },
   "file_extension": ".py",
   "mimetype": "text/x-python",
   "name": "python",
   "nbconvert_exporter": "python",
   "pygments_lexer": "ipython2",
   "version": "2.7.6"
  }
 },
 "nbformat": 4,
 "nbformat_minor": 0
}