{
 "cells": [
  {
   "cell_type": "markdown",
   "metadata": {
    "collapsed": true,
    "pycharm": {
     "name": "#%% md\n"
    }
   },
   "source": [
    "## Average Citizens. ETH Analysis"
   ]
  },
  {
   "cell_type": "code",
   "execution_count": 2,
   "outputs": [],
   "source": [
    "from config import PROJECT_ID, ETH_ANALYSIS_DATASET_NAME, INITIAL_TS, SNAPSHOT_TS, \\\n",
    "    ETH_ANALYSIS_DISTRIBUTION_TABLE_NAME\n",
    "from src.utils import drop_table, create_table, get_df\n",
    "from src.utils_charts import grade_boundaries_analysis\n",
    "\n",
    "DROP_TABLES = True\n",
    "CREATE_TABLES = True"
   ],
   "metadata": {
    "collapsed": false,
    "pycharm": {
     "name": "#%%\n"
    }
   }
  },
  {
   "cell_type": "markdown",
   "source": [
    "### Distribution Rule\n",
    "<table style=\"text-align: center\">\n",
    "    <thead style=\"text-align: center\">\n",
    "        <tr>\n",
    "            <th rowspan=2></th>\n",
    "            <th colspan=3>Grade</th>\n",
    "        </tr>\n",
    "        <tr>\n",
    "            <th>1</th>\n",
    "            <th>2</th>\n",
    "            <th>3</th>\n",
    "        </tr>\n",
    "    </thead>\n",
    "    <tbody>\n",
    "        <tr>\n",
    "            <td style=\"text-align: left\"> ETH balance > 0.01 ETH and Amount of outgoing tx</td>\n",
    "            <td> > 3 tx </td>\n",
    "            <td> > 25 tx </td>\n",
    "            <td> > 107 tx </td>\n",
    "        </tr>\n",
    "        <tr>\n",
    "            <td style=\"text-align: left\">OR ETH balance</td>\n",
    "            <td> > 1 ETH</td>\n",
    "            <td> > 10 ETH</td>\n",
    "            <td> > 100 ETH</td>\n",
    "        </tr>\n",
    "    </tbody>\n",
    "</table>"
   ],
   "metadata": {
    "collapsed": false,
    "pycharm": {
     "name": "#%% md\n"
    }
   }
  },
  {
   "cell_type": "code",
   "execution_count": 2,
   "outputs": [],
   "source": [
    "min_eth_balance = 0.01\n",
    "boundary_outgoing_tx = [3, 25, 107]\n",
    "boundary_eth_balance = [1, 10, 100]"
   ],
   "metadata": {
    "collapsed": false,
    "pycharm": {
     "name": "#%%\n"
    }
   }
  },
  {
   "cell_type": "markdown",
   "source": [
    "### ETH Balances"
   ],
   "metadata": {
    "collapsed": false
   }
  },
  {
   "cell_type": "code",
   "execution_count": 5,
   "outputs": [],
   "source": [
    "query_1 = f'''\n",
    "    CREATE TABLE `{PROJECT_ID}.{ETH_ANALYSIS_DATASET_NAME}.{ETH_ANALYSIS_DISTRIBUTION_TABLE_NAME}` AS (\n",
    "        WITH double_entry_book AS (\n",
    "            -- debits\n",
    "            SELECT\n",
    "                to_address AS address,\n",
    "                value as value\n",
    "            FROM `bigquery-public-data.crypto_ethereum.traces`\n",
    "            WHERE block_timestamp >= '{INITIAL_TS}'\n",
    "              AND block_timestamp <= '{SNAPSHOT_TS}'\n",
    "              AND to_address is not null\n",
    "              AND status = 1\n",
    "              AND (call_type not in ('delegatecall', 'callcode', 'staticcall') OR call_type is null)\n",
    "            UNION ALL\n",
    "            -- credits\n",
    "            SELECT\n",
    "                from_address AS address,\n",
    "                -value AS value\n",
    "            FROM `bigquery-public-data.crypto_ethereum.traces`\n",
    "            WHERE block_timestamp >= '{INITIAL_TS}'\n",
    "              AND block_timestamp <= '{SNAPSHOT_TS}'\n",
    "              AND from_address is not null\n",
    "              AND status = 1\n",
    "              AND (call_type not in ('delegatecall', 'callcode', 'staticcall') OR call_type is null)\n",
    "            UNION ALL\n",
    "            -- transaction fees debits\n",
    "            SELECT\n",
    "                miner AS address,\n",
    "                sum(cast(receipt_gas_used AS numeric) * cast(gas_price AS numeric)) AS value\n",
    "            FROM `bigquery-public-data.crypto_ethereum.transactions` AS transactions\n",
    "            JOIN `bigquery-public-data.crypto_ethereum.blocks` AS blocks ON blocks.number = transactions.block_number\n",
    "            WHERE block_timestamp >= '{INITIAL_TS}'\n",
    "              AND block_timestamp <= '{SNAPSHOT_TS}'\n",
    "            GROUP BY blocks.miner\n",
    "            UNION ALL\n",
    "            -- transaction fees credits\n",
    "            SELECT\n",
    "                from_address AS address,\n",
    "                -(cast(receipt_gas_used AS numeric) * cast(gas_price AS numeric)) AS value\n",
    "            FROM `bigquery-public-data.crypto_ethereum.transactions`\n",
    "            WHERE block_timestamp >= '{INITIAL_TS}'\n",
    "              AND block_timestamp <= '{SNAPSHOT_TS}'\n",
    "        ),\n",
    "        outgoing_transactions AS (\n",
    "            SELECT\n",
    "                from_address as address,\n",
    "                count(`hash`) as number_outgoing_transactions\n",
    "            FROM `bigquery-public-data.crypto_ethereum.transactions`\n",
    "            WHERE block_timestamp >= '{INITIAL_TS}'\n",
    "              AND block_timestamp <= '{SNAPSHOT_TS}'\n",
    "            GROUP BY from_address\n",
    "        )\n",
    "        SELECT\n",
    "            CASE\n",
    "                WHEN eth_balance > {boundary_eth_balance[2]} AND number_outgoing_transactions > {boundary_outgoing_tx[2]} THEN 'ETH Balance  and Amount of Outgoing Transactions'\n",
    "                WHEN eth_balance > {boundary_eth_balance[2]} THEN 'ETH Balance'\n",
    "                WHEN number_outgoing_transactions > {boundary_outgoing_tx[2]} THEN 'Amount of Outgoing Transactions'\n",
    "                WHEN eth_balance > {boundary_eth_balance[1]} AND number_outgoing_transactions > {boundary_outgoing_tx[1]} THEN 'ETH Balance  and Amount of Outgoing Transactions'\n",
    "                WHEN eth_balance > {boundary_eth_balance[1]} THEN 'ETH Balance'\n",
    "                WHEN number_outgoing_transactions > {boundary_outgoing_tx[1]}  THEN 'Amount of Outgoing Transactions'\n",
    "                WHEN eth_balance > {boundary_eth_balance[0]} AND number_outgoing_transactions > {boundary_outgoing_tx[0]} THEN 'ETH Balance  and Amount of Outgoing Transactions'\n",
    "                WHEN eth_balance > {boundary_eth_balance[0]} THEN 'ETH Balance'\n",
    "                WHEN number_outgoing_transactions > {boundary_outgoing_tx[0]} THEN 'Amount of Outgoing Transactions'\n",
    "                ELSE null\n",
    "            END\n",
    "            AS subtype,\n",
    "            CASE\n",
    "                WHEN eth_balance > {boundary_eth_balance[2]} OR number_outgoing_transactions > {boundary_outgoing_tx[2]} THEN 3\n",
    "                WHEN eth_balance > {boundary_eth_balance[1]} OR number_outgoing_transactions > {boundary_outgoing_tx[1]} THEN 2\n",
    "                WHEN eth_balance > {boundary_eth_balance[0]} OR number_outgoing_transactions > {boundary_outgoing_tx[0]} THEN 1\n",
    "                ELSE null\n",
    "            END\n",
    "            AS grade,\n",
    "            address,\n",
    "            eth_balance,\n",
    "            number_outgoing_transactions\n",
    "        FROM (\n",
    "            SELECT\n",
    "                address,\n",
    "                eth_balance,\n",
    "                number_outgoing_transactions\n",
    "            FROM (\n",
    "                SELECT\n",
    "                    address,\n",
    "                    sum(value)/1e18  AS eth_balance\n",
    "                FROM double_entry_book\n",
    "                GROUP BY address\n",
    "                HAVING eth_balance > {min_eth_balance})\n",
    "            JOIN outgoing_transactions USING (address)\n",
    "            )\n",
    "    )\n",
    "'''\n",
    "\n",
    "if DROP_TABLES:\n",
    "    drop_table(ETH_ANALYSIS_DISTRIBUTION_TABLE_NAME, dataset_name=ETH_ANALYSIS_DATASET_NAME)\n",
    "\n",
    "if CREATE_TABLES:\n",
    "    create_table(query_1, ETH_ANALYSIS_DISTRIBUTION_TABLE_NAME, dataset_name=ETH_ANALYSIS_DATASET_NAME)"
   ],
   "metadata": {
    "collapsed": false,
    "pycharm": {
     "name": "#%%\n"
    }
   }
  },
  {
   "cell_type": "markdown",
   "source": [
    "### Analysis of Grade Boundaries. Amount of Outgoing Transactions"
   ],
   "metadata": {
    "collapsed": false,
    "pycharm": {
     "name": "#%% md\n"
    }
   }
  },
  {
   "cell_type": "code",
   "execution_count": 3,
   "outputs": [],
   "source": [
    "query_2 = f'''\n",
    "    SELECT\n",
    "        number_outgoing_transactions,\n",
    "        count(address) as number_of_addresses\n",
    "    FROM `{PROJECT_ID}.{ETH_ANALYSIS_DATASET_NAME}.{ETH_ANALYSIS_DISTRIBUTION_TABLE_NAME}`\n",
    "    WHERE eth_balance > {min_eth_balance}\n",
    "    GROUP BY number_outgoing_transactions\n",
    "'''\n",
    "distribution_by_outgoing_tx_count_df = get_df(query_2)"
   ],
   "metadata": {
    "collapsed": false,
    "pycharm": {
     "name": "#%%\n"
    }
   }
  },
  {
   "cell_type": "code",
   "execution_count": 7,
   "outputs": [
    {
     "name": "stdout",
     "output_type": "stream",
     "text": [
      "Suggestion of Rules: \n",
      "\n"
     ]
    },
    {
     "data": {
      "text/plain": "<IPython.core.display.HTML object>",
      "text/html": "<div>\n<style scoped>\n    .dataframe tbody tr th:only-of-type {\n        vertical-align: middle;\n    }\n\n    .dataframe tbody tr th {\n        vertical-align: top;\n    }\n\n    .dataframe thead th {\n        text-align: right;\n    }\n</style>\n<table border=\"1\" class=\"dataframe\">\n  <thead>\n    <tr style=\"text-align: right;\">\n      <th>Grade</th>\n      <th>Rule</th>\n      <th>Addresses</th>\n      <th>Percentage of Addresses</th>\n    </tr>\n  </thead>\n  <tbody>\n    <tr>\n      <td>1</td>\n      <td>3 &lt; Amount of Outgoing Transactions &lt;= 25.0</td>\n      <td>3198669</td>\n      <td>34.8</td>\n    </tr>\n    <tr>\n      <td>2</td>\n      <td>25.0 &lt; Amount of Outgoing Transactions &lt;= 107.0</td>\n      <td>738979</td>\n      <td>8.0</td>\n    </tr>\n    <tr>\n      <td>3</td>\n      <td>107.0 &lt; Amount of Outgoing Transactions</td>\n      <td>276244</td>\n      <td>3.0</td>\n    </tr>\n  </tbody>\n</table>\n</div>"
     },
     "metadata": {},
     "output_type": "display_data"
    },
    {
     "data": {
      "text/plain": "<Figure size 1440x648 with 1 Axes>",
      "image/png": "[encoded data removed]"
     },
     "metadata": {
      "needs_background": "light"
     },
     "output_type": "display_data"
    },
    {
     "data": {
      "text/plain": "[3, 25.0, 107.0]"
     },
     "execution_count": 7,
     "metadata": {},
     "output_type": "execute_result"
    }
   ],
   "source": [
    "grade_boundaries_analysis(\n",
    "    distribution_by_outgoing_tx_count_df,\n",
    "    value_column = 'number_outgoing_transactions',\n",
    "    value_chart_label = 'Amount of Outgoing Transactions by address, Log10',\n",
    "    value_name = 'Amount of Outgoing Transactions',\n",
    "    chart_title = 'Distribution of Addresses by Outgoing Transactions',\n",
    "    initial_boundary=3,\n",
    "    max_show_value=10000)"
   ],
   "metadata": {
    "collapsed": false,
    "pycharm": {
     "name": "#%%\n"
    }
   }
  },
  {
   "cell_type": "code",
   "execution_count": null,
   "outputs": [],
   "source": [],
   "metadata": {
    "collapsed": false,
    "pycharm": {
     "name": "#%%\n"
    }
   }
  }
 ],
 "metadata": {
  "kernelspec": {
   "display_name": "Python 3",
   "language": "python",
   "name": "python3"
  },
  "language_info": {
   "codemirror_mode": {
    "name": "ipython",
    "version": 2
   },
   "file_extension": ".py",
   "mimetype": "text/x-python",
   "name": "python",
   "nbconvert_exporter": "python",
   "pygments_lexer": "ipython2",
   "version": "2.7.6"
  }
 },
 "nbformat": 4,
 "nbformat_minor": 0
}