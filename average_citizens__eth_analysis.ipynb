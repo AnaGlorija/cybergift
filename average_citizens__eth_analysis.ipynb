{
 "cells": [
  {
   "cell_type": "markdown",
   "metadata": {
    "collapsed": true,
    "pycharm": {
     "name": "#%% md\n"
    }
   },
   "source": [
    "## Average Citizens. ETH Analysis"
   ]
  },
  {
   "cell_type": "code",
   "execution_count": null,
   "outputs": [],
   "source": [
    "import matplotlib.pyplot as plt\n",
    "import matplotlib as mpl\n",
    "from IPython.display import HTML, display\n",
    "\n",
    "from config import PROJECT_ID, ETH_ANALYSIS_TYPE, ETH_ANALYSIS_DATASET_NAME, INITIAL_TS, SNAPSHOT_TS\n",
    "from utils import drop_table, create_table, get_df\n",
    "\n",
    "DROP_TABLES = True\n",
    "CREATE_TABLES = True"
   ],
   "metadata": {
    "collapsed": false,
    "pycharm": {
     "name": "#%%\n"
    }
   }
  },
  {
   "cell_type": "markdown",
   "source": [
    "### Distribution Rule\n",
    "<table style=\"text-align: center\">\n",
    "    <thead>\n",
    "        <tr>\n",
    "            <th rowspan=2></th>\n",
    "            <th colspan=3>Grade</th>\n",
    "        </tr>\n",
    "        <tr>\n",
    "            <th>1</th>\n",
    "            <th>2</th>\n",
    "            <th>3</th>\n",
    "        </tr>\n",
    "    </thead>\n",
    "    <tbody>\n",
    "        <tr>\n",
    "            <td style=\"text-align: left\"> ETH balance > 0.01 ETH and Amount of outgoing tx</td>\n",
    "            <td> > 3 tx </td>\n",
    "            <td> > 21 tx </td>\n",
    "            <td> > 100 tx </td>\n",
    "        </tr>\n",
    "        <tr>\n",
    "            <td style=\"text-align: left\">OR ETH balance</td>\n",
    "            <td> > 1 ETH</td>\n",
    "            <td> > 10 ETH</td>\n",
    "            <td> > 100 ETH</td>\n",
    "        </tr>\n",
    "    </tbody>\n",
    "</table>"
   ],
   "metadata": {
    "collapsed": false,
    "pycharm": {
     "name": "#%% md\n"
    }
   }
  },
  {
   "cell_type": "code",
   "execution_count": null,
   "outputs": [],
   "source": [],
   "metadata": {
    "collapsed": false,
    "pycharm": {
     "name": "#%%\n"
    }
   }
  }
 ],
 "metadata": {
  "kernelspec": {
   "display_name": "Python 3",
   "language": "python",
   "name": "python3"
  },
  "language_info": {
   "codemirror_mode": {
    "name": "ipython",
    "version": 2
   },
   "file_extension": ".py",
   "mimetype": "text/x-python",
   "name": "python",
   "nbconvert_exporter": "python",
   "pygments_lexer": "ipython2",
   "version": "2.7.6"
  }
 },
 "nbformat": 4,
 "nbformat_minor": 0
}