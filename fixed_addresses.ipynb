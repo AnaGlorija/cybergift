{
 "cells": [
  {
   "cell_type": "code",
   "execution_count": 1,
   "metadata": {
    "collapsed": true
   },
   "outputs": [],
   "source": [
    "import pandas as pd\n",
    "\n",
    "from config import FIXED_ADDRESSES__ETH2_DATASET_NAME, FIXED_ADDRESSES_DISTRIBUTION_TABLE_NAME\n",
    "from src.utils import create_table_from_df\n",
    "\n",
    "DROP_TABLES = True\n",
    "CREATE_TABLES = True"
   ]
  },
  {
   "cell_type": "markdown",
   "source": [
    "## Set List of Fixed Addresses"
   ],
   "metadata": {
    "collapsed": false,
    "pycharm": {
     "name": "#%% md\n"
    }
   }
  },
  {
   "cell_type": "code",
   "execution_count": 5,
   "outputs": [],
   "source": [
    "fixed_addresses_dict = {\n",
    "    '0xab5801a7d398351b8be11c439e05c5b3259aec9b': [5e12, 'Vitalik'],\n",
    "    '0x1db3439a222c519ab44bb1144fc28167b4fa6ee6': [5e12, 'Vitalik'],\n",
    "    '0x69670b0c1b100739812415dd474804bb32b3aeca': [0, 'Whitehats'] # ?\n",
    "}\n",
    "# TODO Add addresses of top-10 exchanges on Ethereum"
   ],
   "metadata": {
    "collapsed": false,
    "pycharm": {
     "name": "#%%\n"
    }
   }
  },
  {
   "cell_type": "code",
   "execution_count": 7,
   "outputs": [
    {
     "data": {
      "text/plain": "                                                  amount       name\n0xab5801a7d398351b8be11c439e05c5b3259aec9b  5.000000e+12    Vitalik\n0x1db3439a222c519ab44bb1144fc28167b4fa6ee6  5.000000e+12    Vitalik\n0x69670b0c1b100739812415dd474804bb32b3aeca  0.000000e+00  Whitehats",
      "text/html": "<div>\n<style scoped>\n    .dataframe tbody tr th:only-of-type {\n        vertical-align: middle;\n    }\n\n    .dataframe tbody tr th {\n        vertical-align: top;\n    }\n\n    .dataframe thead th {\n        text-align: right;\n    }\n</style>\n<table border=\"1\" class=\"dataframe\">\n  <thead>\n    <tr style=\"text-align: right;\">\n      <th></th>\n      <th>amount</th>\n      <th>name</th>\n    </tr>\n  </thead>\n  <tbody>\n    <tr>\n      <th>0xab5801a7d398351b8be11c439e05c5b3259aec9b</th>\n      <td>5.000000e+12</td>\n      <td>Vitalik</td>\n    </tr>\n    <tr>\n      <th>0x1db3439a222c519ab44bb1144fc28167b4fa6ee6</th>\n      <td>5.000000e+12</td>\n      <td>Vitalik</td>\n    </tr>\n    <tr>\n      <th>0x69670b0c1b100739812415dd474804bb32b3aeca</th>\n      <td>0.000000e+00</td>\n      <td>Whitehats</td>\n    </tr>\n  </tbody>\n</table>\n</div>"
     },
     "execution_count": 7,
     "metadata": {},
     "output_type": "execute_result"
    }
   ],
   "source": [
    "fixed_addresses = pd.DataFrame(fixed_addresses_dict.values(),\n",
    "                               index=fixed_addresses_dict.keys(),\n",
    "                               columns=['amount', 'name'])"
   ],
   "metadata": {
    "collapsed": false,
    "pycharm": {
     "name": "#%%\n"
    }
   }
  },
  {
   "cell_type": "code",
   "execution_count": null,
   "outputs": [],
   "source": [
    "if CREATE_TABLES:\n",
    "    r = create_table_from_df(source_df=fixed_addresses,\n",
    "                             table_name=FIXED_ADDRESSES_DISTRIBUTION_TABLE_NAME,\n",
    "                             dataset_name=FIXED_ADDRESSES__ETH2_DATASET_NAME,\n",
    "                             drop_existing_table=DROP_TABLES)"
   ],
   "metadata": {
    "collapsed": false,
    "pycharm": {
     "name": "#%%\n"
    }
   }
  }
 ],
 "metadata": {
  "kernelspec": {
   "display_name": "Python 3",
   "language": "python",
   "name": "python3"
  },
  "language_info": {
   "codemirror_mode": {
    "name": "ipython",
    "version": 2
   },
   "file_extension": ".py",
   "mimetype": "text/x-python",
   "name": "python",
   "nbconvert_exporter": "python",
   "pygments_lexer": "ipython2",
   "version": "2.7.6"
  }
 },
 "nbformat": 4,
 "nbformat_minor": 0
}