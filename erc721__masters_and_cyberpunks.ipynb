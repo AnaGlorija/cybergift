{
 "cells": [
  {
   "cell_type": "markdown",
   "source": [
    "## Masters of the Great Web and Cyberpunks. ERC721 Analysis"
   ],
   "metadata": {
    "collapsed": false,
    "pycharm": {
     "name": "#%% md\n"
    }
   }
  },
  {
   "cell_type": "code",
   "execution_count": 1,
   "outputs": [],
   "source": [
    "import pandas as pd\n",
    "from tqdm.notebook import tqdm\n",
    "\n",
    "from config import ETHERSCAN_NFT_CSV_NAME, PROJECT_ID, INITIAL_TS, SNAPSHOT_TS, \\\n",
    "    ERC721_ANALYSIS_DATASET_NAME, ERC721_AMOUNT_TABLE_NAME, ERC721_ANALYSIS_DISTRIBUTION_TABLE_NAME, \\\n",
    "    ERC721_NFT_TOKEN_TABLE_NAME, ERC721_TOKEN_TABLE_NAME, MASTERS_AUDIENCE, \\\n",
    "    CYBERPUNKS_AUDIENCE\n",
    "from src.utils_bigquery import drop_table, create_table, get_df, create_table_from_df\n",
    "from src.utils_charts import grade_boundaries_analysis\n",
    "from src.extractor_nft_token_list import extract_nft_tokens\n",
    "from src.utils_eth import get_contract_decimals\n",
    "\n",
    "EXTRACT_NFT = False\n",
    "DROP_TABLES = True\n",
    "CREATE_TABLES = True"
   ],
   "metadata": {
    "collapsed": false,
    "pycharm": {
     "name": "#%%\n"
    }
   }
  },
  {
   "cell_type": "markdown",
   "metadata": {
    "collapsed": true,
    "pycharm": {
     "name": "#%% md\n"
    }
   },
   "source": [
    "### Distribution Rule. Masters of the Great Web\n",
    "\n",
    "<table style=\"text-align: left\">\n",
    "    <thead style=\"text-align: center\">\n",
    "        <tr>\n",
    "            <th rowspan=2></th>\n",
    "            <th colspan=3>Grade</th>\n",
    "        </tr>\n",
    "        <tr>\n",
    "            <th>1</th>\n",
    "            <th>2</th>\n",
    "            <th>3</th>\n",
    "        </tr>\n",
    "    </thead>\n",
    "    <tbody>\n",
    "        <tr>\n",
    "            <td style=\"text-align: left\"> Amount of ERC721 tokens </td>\n",
    "            <td style=\"text-align: center\"> > 0 NFT </td>\n",
    "            <td style=\"text-align: center\"> > 7 NFT </td>\n",
    "            <td style=\"text-align: center\"> > 186 NFT </td>\n",
    "        </tr>\n",
    "        <tr>\n",
    "            <td style=\"text-align: left\"> Owners of the Selected ERC721 tokens </td>\n",
    "            <td style=\"text-align: center\"> - </td>\n",
    "            <td style=\"text-align: center\"> ENS </td>\n",
    "            <td style=\"text-align: center\"> Gitcoin Kudos or LAND </td>\n",
    "        </tr>\n",
    "        <tr>\n",
    "            <td style=\"text-align: left\"> Fee spending to contracts<sup>1</sup>, by contract creators, ETH </td>\n",
    "            <td style=\"text-align: center\"> > 0 ETH </td>\n",
    "            <td style=\"text-align: center\"> > 0.005 ETH </td>\n",
    "            <td style=\"text-align: center\"> > 0.755 ETH </td>\n",
    "        </tr>\n",
    "    </tbody>\n",
    "</table>\n",
    "\n",
    "<sup>1</sup> including contracts created by factories only\n",
    "\n",
    "\n",
    "### Distribution Rule. Cyberpunks\n",
    "\n",
    "<table style=\"text-align: left\">\n",
    "    <thead style=\"text-align: center\">\n",
    "        <tr>\n",
    "            <th rowspan=2></th>\n",
    "            <th colspan=3>Grade</th>\n",
    "        </tr>\n",
    "        <tr>\n",
    "            <th>1</th>\n",
    "            <th>2</th>\n",
    "            <th>3</th>\n",
    "        </tr>\n",
    "    </thead>\n",
    "    <tbody>\n",
    "        <tr>\n",
    "            <td style=\"text-align: left\"> Owners of the Selected ERC721 tokens </td>\n",
    "            <td style=\"text-align: center\"> - </td>\n",
    "            <td style=\"text-align: center\"> - </td>\n",
    "            <td style=\"text-align: center\"> Unicorns, DRAGON or Cryptopunks </td>\n",
    "        </tr>\n",
    "        <tr>\n",
    "            <td style=\"text-align: left\"> Urbit Owners </td>\n",
    "            <td style=\"text-align: center\"> - </td>\n",
    "            <td style=\"text-align: center\"> - </td>\n",
    "            <td style=\"text-align: center\"> here </td>\n",
    "        </tr>\n",
    "    </tbody>\n",
    "</table>"
   ]
  },
  {
   "cell_type": "code",
   "execution_count": 2,
   "outputs": [],
   "source": [
    "min_number_of_tokens = 0\n",
    "boundary_erc721_amount = [0, 7, 186]\n",
    "\n",
    "erc721_tokens_manual_grade_2_dict = {\n",
    "    'ENS': '0x57f1887a8bf19b14fc0df6fd9b2acc9af147ea85'}\n",
    "erc721_tokens_manual_grade_3_dict = {\n",
    "    'Gitcoin Kudos': '0x2aea4add166ebf38b63d09a75de1a7b94aa24163',\n",
    "    'LAND': '0xf87e31492faf9a91b02ee0deaad50d51d56d5d4d'}\n",
    "erc721_tokens_manual_cyberpunks_dict = {\n",
    "    'Unicorns': '0x89205a3a3b2a69de6dbf7f01ed13b2108b2c43e7',\n",
    "    'DRAGON': '0x960f401aed58668ef476ef02b2a2d43b83c261d8',\n",
    "    'Cryptopunks': '0xb47e3cd837ddf8e4c57f05d70ab865de6e193bbb'}\n",
    "\n",
    "ENS_NAMEREGISTERED_EVENT_HASH = '0xb3d987963d01b2f68493b4bdb130988f157ea43070d4ad840fee0466ed9370d9'\n",
    "LAND_TRANSFER_1_EVENT_HASH = '0x8988d59efc2c4547ef86c88f6543963bab0cea94f8e486e619c7c3a790db93be'\n",
    "LAND_TRANSFER_2_EVENT_HASH = '0xd5c97f2e041b2046be3b4337472f05720760a198f4d7d84980b7155eec7cca6f'\n",
    "CRYPTOPUNKS_ASSIGN_EVENT_HASH = '0x8a0e37b73a0d9c82e205d4d1a3ff3d0b57ce5f4d7bccf6bac03336dc101cb7ba'\n",
    "MINT_EVENT_HASH = '0x0f6798a560793a54c3bcfe86a93cde1e73087d944c0ea20544137d4121396885'\n",
    "BURN_EVENT_HASH = '0xcc16f5dbb4873280815c1ee09dbd06736cffcc184412cf7a71a0fdb75d397ca5'\n",
    "\n",
    "INCOMING_EVENT_HASHES_DICT = {\n",
    "    ENS_NAMEREGISTERED_EVENT_HASH: 2,\n",
    "    LAND_TRANSFER_1_EVENT_HASH: 2,\n",
    "    LAND_TRANSFER_2_EVENT_HASH: 2,\n",
    "    CRYPTOPUNKS_ASSIGN_EVENT_HASH: 1,\n",
    "    MINT_EVENT_HASH: 1\n",
    "}\n",
    "OUTGOING_EVENT_HASHES_DICT = {\n",
    "    LAND_TRANSFER_1_EVENT_HASH: 1,\n",
    "    LAND_TRANSFER_2_EVENT_HASH: 1,\n",
    "    BURN_EVENT_HASH: 1\n",
    "}\n",
    "INCOMING_EVENT_HASHES_TUPLE = tuple(INCOMING_EVENT_HASHES_DICT.keys())\n",
    "OUTGOING_EVENT_HASHES_TUPLE = tuple(OUTGOING_EVENT_HASHES_DICT.keys())\n",
    "EVENT_HASHES_TUPLE = INCOMING_EVENT_HASHES_TUPLE + OUTGOING_EVENT_HASHES_TUPLE"
   ],
   "metadata": {
    "collapsed": false,
    "pycharm": {
     "name": "#%%\n"
    }
   }
  },
  {
   "cell_type": "markdown",
   "source": [
    "### Set Token Data"
   ],
   "metadata": {
    "collapsed": false
   }
  },
  {
   "cell_type": "code",
   "execution_count": 3,
   "outputs": [],
   "source": [
    "# Get NFT list from Etherscan\n",
    "if EXTRACT_NFT:\n",
    "    extract_nft_tokens()\n",
    "\n",
    "nft_tokens_df = pd.read_csv(ETHERSCAN_NFT_CSV_NAME, index_col=0)\n",
    "\n",
    "erc721_tokens_manual_grade_2_tuple_str = str(tuple(erc721_tokens_manual_grade_2_dict.values())).replace(',)', ')')\n",
    "erc721_tokens_manual_grade_3_tuple_str = str(tuple(erc721_tokens_manual_grade_3_dict.values())).replace(',)', ')')\n",
    "erc721_tokens_manual_cyberpunks_tuple_str = str(tuple(erc721_tokens_manual_cyberpunks_dict.values())).replace(',)', ')')"
   ],
   "metadata": {
    "collapsed": false,
    "pycharm": {
     "name": "#%%\n"
    }
   }
  },
  {
   "cell_type": "markdown",
   "source": [
    "### Create NFT Token Table"
   ],
   "metadata": {
    "collapsed": false,
    "pycharm": {
     "name": "#%% md\n"
    }
   }
  },
  {
   "cell_type": "code",
   "execution_count": 4,
   "outputs": [
    {
     "name": "stdout",
     "output_type": "stream",
     "text": [
      "Table erc721_analysis:nft_tokens has been deleted.\n",
      "Table erc721_analysis:nft_tokens has been created.\n"
     ]
    }
   ],
   "source": [
    "if CREATE_TABLES:\n",
    "    create_table_from_df(source_df=nft_tokens_df,\n",
    "                         table_name=ERC721_NFT_TOKEN_TABLE_NAME,\n",
    "                         dataset_name=ERC721_ANALYSIS_DATASET_NAME,\n",
    "                         drop_existing_table=DROP_TABLES)"
   ],
   "metadata": {
    "collapsed": false,
    "pycharm": {
     "name": "#%%\n"
    }
   }
  },
  {
   "cell_type": "markdown",
   "source": [
    "### Create Aggregated ERC721 Token DataFrame"
   ],
   "metadata": {
    "collapsed": false,
    "pycharm": {
     "name": "#%% md\n"
    }
   }
  },
  {
   "cell_type": "code",
   "execution_count": 5,
   "outputs": [],
   "source": [
    "query_1 = f'''\n",
    "    WITH etherscan_nft_tokens AS (\n",
    "        SELECT\n",
    "            token_name AS name,\n",
    "            token_address AS address,\n",
    "            description,\n",
    "            'etherscan' AS source\n",
    "        FROM `{PROJECT_ID}.{ERC721_ANALYSIS_DATASET_NAME}.{ERC721_NFT_TOKEN_TABLE_NAME}`),\n",
    "    erc721_manual_tokens AS (\n",
    "        SELECT\n",
    "            token.name AS name,\n",
    "            token.address AS address,\n",
    "            'manual' AS source\n",
    "        FROM UNNEST(\n",
    "            [{''.join(f\"STRUCT('{k}' AS name,'{v}' AS address), \" for k,v in {**erc721_tokens_manual_grade_2_dict, **erc721_tokens_manual_grade_3_dict}.items())[:-2]}]\n",
    "            ) as token),\n",
    "    erc721_ethereum_etl_tokens AS (\n",
    "        SELECT\n",
    "            address,\n",
    "            'ethereum_etl' AS source\n",
    "        FROM `bigquery-public-data.crypto_ethereum.contracts`\n",
    "        WHERE is_erc721=True)\n",
    "\n",
    "    SELECT\n",
    "        address,\n",
    "        symbol,\n",
    "        COALESCE(token_names.name, etherscan_and_manual.name) as name,\n",
    "        CASE\n",
    "            WHEN ethereum_etl.source is null THEN etherscan_and_manual.source\n",
    "            WHEN etherscan_and_manual.source is null THEN [ethereum_etl.source]\n",
    "            ELSE array_concat(etherscan_and_manual.source, [ethereum_etl.source])\n",
    "        END as source\n",
    "    FROM (\n",
    "        SELECT\n",
    "            address,\n",
    "            COALESCE(etherscan.name, manual.name) AS name,\n",
    "            IF(COALESCE(etherscan.source, manual.source) = COALESCE(manual.source, etherscan.source),\n",
    "               [COALESCE(etherscan.source, manual.source)],\n",
    "               [COALESCE(etherscan.source, manual.source), COALESCE(manual.source, etherscan.source)]) AS source\n",
    "        FROM etherscan_nft_tokens AS etherscan\n",
    "        FULL OUTER JOIN erc721_manual_tokens as manual\n",
    "        USING (address)\n",
    "        ) as etherscan_and_manual\n",
    "    FULL OUTER JOIN erc721_ethereum_etl_tokens as ethereum_etl\n",
    "    USING (address)\n",
    "    LEFT JOIN (\n",
    "        SELECT\n",
    "            address,\n",
    "            ANY_VALUE(symbol) as symbol,\n",
    "            ANY_VALUE(name) as name\n",
    "        FROM `bigquery-public-data.crypto_ethereum.tokens`\n",
    "        GROUP BY address) as token_names\n",
    "    USING (address)\n",
    "'''\n",
    "\n",
    "erc721_tokens_df = get_df(query_1)"
   ],
   "metadata": {
    "collapsed": false,
    "pycharm": {
     "name": "#%%\n"
    }
   }
  },
  {
   "cell_type": "markdown",
   "source": [
    "### Exclude ERC20 contracts"
   ],
   "metadata": {
    "collapsed": false,
    "pycharm": {
     "name": "#%% md\n"
    }
   }
  },
  {
   "cell_type": "code",
   "execution_count": 12,
   "outputs": [],
   "source": [
    "token_addresses = erc721_tokens_df['address'].unique()\n",
    "\n",
    "excluding_token_addresses = []\n",
    "for token_address in tqdm(token_addresses):\n",
    "    try:\n",
    "        decimal = get_contract_decimals(\n",
    "            token_address=token_address,\n",
    "            print_messages=False)\n",
    "        if decimal > 0:\n",
    "            excluding_token_addresses.append(token_address)\n",
    "    except ValueError:\n",
    "        pass"
   ],
   "metadata": {
    "collapsed": false,
    "pycharm": {
     "name": "#%%\n"
    }
   }
  },
  {
   "cell_type": "markdown",
   "source": [
    "### Create Aggregated ERC721 Token Table"
   ],
   "metadata": {
    "collapsed": false,
    "pycharm": {
     "name": "#%% md\n"
    }
   }
  },
  {
   "cell_type": "code",
   "execution_count": 7,
   "outputs": [
    {
     "name": "stdout",
     "output_type": "stream",
     "text": [
      "Table erc721_analysis:erc721_tokens has been deleted.\n"
     ]
    },
    {
     "name": "stderr",
     "output_type": "stream",
     "text": [
      "/home/groovybear/.local/lib/python3.8/site-packages/google/cloud/bigquery/_pandas_helpers.py:391: UserWarning: Pyarrow could not determine the type of columns: source.\n",
      "  warnings.warn(\n"
     ]
    },
    {
     "name": "stdout",
     "output_type": "stream",
     "text": [
      "Table erc721_analysis:erc721_tokens has been created.\n"
     ]
    }
   ],
   "source": [
    "erc721_tokens_filtered_df = erc721_tokens_df[~erc721_tokens_df.address.isin(excluding_token_addresses)]\n",
    "if CREATE_TABLES:\n",
    "    create_table_from_df(source_df=erc721_tokens_filtered_df,\n",
    "                         table_name=ERC721_TOKEN_TABLE_NAME,\n",
    "                         dataset_name=ERC721_ANALYSIS_DATASET_NAME,\n",
    "                         drop_existing_table=DROP_TABLES)"
   ],
   "metadata": {
    "collapsed": false,
    "pycharm": {
     "name": "#%%\n"
    }
   }
  },
  {
   "cell_type": "markdown",
   "source": [
    "### Get Balances"
   ],
   "metadata": {
    "collapsed": false,
    "pycharm": {
     "name": "#%% md\n"
    }
   }
  },
  {
   "cell_type": "code",
   "execution_count": 8,
   "outputs": [
    {
     "name": "stdout",
     "output_type": "stream",
     "text": [
      "Table erc721_analysis:erc721_amounts has been deleted.\n",
      "Table erc721_analysis:erc721_amounts has been created and filled 1310977 rows.\n"
     ]
    }
   ],
   "source": [
    "query_2 = f'''\n",
    "    WITH transfers AS (\n",
    "      SELECT\n",
    "          transaction_hash,\n",
    "          token_address,\n",
    "          from_address,\n",
    "          to_address\n",
    "      FROM `bigquery-public-data.crypto_ethereum.token_transfers`\n",
    "      WHERE block_timestamp >= '{INITIAL_TS}'\n",
    "        AND block_timestamp <= '{SNAPSHOT_TS}'\n",
    "        AND token_address IN (\n",
    "                SELECT address\n",
    "                FROM `{PROJECT_ID}.{ERC721_ANALYSIS_DATASET_NAME}.{ERC721_TOKEN_TABLE_NAME}`\n",
    "                )\n",
    "      ),\n",
    "    logs AS (\n",
    "      SELECT\n",
    "          transaction_hash,\n",
    "          address as token_address,\n",
    "          topics[ORDINAL(1)] as event_hash,\n",
    "          topics\n",
    "      FROM `bigquery-public-data.crypto_ethereum.logs`\n",
    "      WHERE block_timestamp >= '{INITIAL_TS}'\n",
    "        AND block_timestamp <= '{SNAPSHOT_TS}'\n",
    "        AND address IN (\n",
    "                SELECT address\n",
    "                FROM `{PROJECT_ID}.{ERC721_ANALYSIS_DATASET_NAME}.{ERC721_TOKEN_TABLE_NAME}`\n",
    "                )\n",
    "      ),\n",
    "    incoming_logs AS (\n",
    "        SELECT\n",
    "            transaction_hash,\n",
    "            token_address,\n",
    "            REPLACE(topics[ORDINAL(argument_number + 1)], '0x000000000000000000000000', '0x') as to_address,\n",
    "            count(topics) as value\n",
    "        FROM (\n",
    "            SELECT\n",
    "                transaction_hash,\n",
    "                token_address,\n",
    "                argument_number,\n",
    "                topics,\n",
    "            FROM logs\n",
    "            INNER JOIN (\n",
    "                SELECT\n",
    "                    event_hash,\n",
    "                    argument_number\n",
    "                FROM UNNEST([{''.join(f\"STRUCT('{k}' AS event_hash, {v} AS argument_number), \" for k,v in INCOMING_EVENT_HASHES_DICT.items())[:-2]}])\n",
    "                ) AS event_hashes\n",
    "            USING (event_hash)\n",
    "            WHERE ARRAY_LENGTH(topics) >= 2 )\n",
    "        GROUP BY transaction_hash, token_address,to_address\n",
    "      ),\n",
    "    outgoing_logs AS (\n",
    "        SELECT\n",
    "            transaction_hash,\n",
    "            token_address,\n",
    "            REPLACE(topics[ORDINAL(argument_number + 1)], '0x000000000000000000000000', '0x') as from_address,\n",
    "            count(topics) as value\n",
    "        FROM (\n",
    "            SELECT\n",
    "                transaction_hash,\n",
    "                token_address,\n",
    "                argument_number,\n",
    "                topics,\n",
    "            FROM logs\n",
    "            INNER JOIN (\n",
    "                SELECT\n",
    "                    event_hash,\n",
    "                    argument_number\n",
    "                FROM UNNEST([{''.join(f\"STRUCT('{k}' AS event_hash, {v} AS argument_number), \" for k,v in OUTGOING_EVENT_HASHES_DICT.items())[:-2]}])\n",
    "                ) AS event_hashes\n",
    "            USING (event_hash)\n",
    "            WHERE ARRAY_LENGTH(topics) >= 2 )\n",
    "        GROUP BY transaction_hash, token_address, from_address\n",
    "      ),\n",
    "    incoming_transfers AS (\n",
    "        SELECT\n",
    "            transaction_hash,\n",
    "            token_address,\n",
    "            to_address as address,\n",
    "            incoming_logs.value as incoming_logs_value,\n",
    "            incoming_transfers.value as incoming_transfers_value,\n",
    "            IF(COALESCE(incoming_logs.value, 0) != COALESCE(incoming_transfers.value, 0), COALESCE(incoming_logs.value, 0) + COALESCE(incoming_transfers.value, 0), COALESCE(incoming_logs.value, 0)) as value\n",
    "        FROM (\n",
    "            SELECT\n",
    "                transaction_hash,\n",
    "                token_address,\n",
    "                to_address,\n",
    "                count(from_address) as value\n",
    "            FROM transfers\n",
    "            GROUP BY transaction_hash, token_address, to_address) AS incoming_transfers\n",
    "        FULL OUTER JOIN incoming_logs\n",
    "        USING (transaction_hash, token_address, to_address)\n",
    "    ),\n",
    "    outgoing_transfers AS (\n",
    "        SELECT\n",
    "            transaction_hash,\n",
    "            token_address,\n",
    "            from_address as address,\n",
    "            outgoing_logs.value as outgoing_logs_value,\n",
    "            outgoing_transfers.value as outgoing_transfers_value,\n",
    "            IF(COALESCE(outgoing_logs.value, 0) != COALESCE(outgoing_transfers.value, 0), COALESCE(outgoing_logs.value, 0) + COALESCE(outgoing_transfers.value, 0), COALESCE(outgoing_logs.value, 0)) as value\n",
    "        FROM (\n",
    "            SELECT\n",
    "                transaction_hash,\n",
    "                token_address,\n",
    "                from_address,\n",
    "                count(from_address) as value\n",
    "            FROM transfers\n",
    "            GROUP BY transaction_hash, token_address, from_address) AS outgoing_transfers\n",
    "        FULL OUTER JOIN outgoing_logs\n",
    "        USING (transaction_hash, token_address, from_address)\n",
    "    )\n",
    "\n",
    "SELECT\n",
    "    token_address,\n",
    "    address,\n",
    "    SUM(incoming_logs_value) as incoming_logs_value,\n",
    "    SUM(incoming_transfers_value) as incoming_transfers_value,\n",
    "    SUM(outgoing_logs_value) as outgoing_logs_value,\n",
    "    SUM(outgoing_transfers_value) as outgoing_transfers_value,\n",
    "    SUM(value) AS amount\n",
    "FROM (\n",
    "    SELECT\n",
    "        token_address,\n",
    "        address,\n",
    "        incoming_logs_value,\n",
    "        incoming_transfers_value,\n",
    "        0 AS outgoing_logs_value,\n",
    "        0 AS outgoing_transfers_value,\n",
    "        value\n",
    "    FROM incoming_transfers\n",
    "\n",
    "    UNION ALL\n",
    "\n",
    "    SELECT\n",
    "        token_address,\n",
    "        address,\n",
    "        0 AS incoming_logs_value,\n",
    "        0 AS incoming_transfers_value,\n",
    "        - outgoing_logs_value,\n",
    "        - outgoing_transfers_value,\n",
    "        - value\n",
    "    FROM outgoing_transfers)\n",
    "GROUP BY token_address, address\n",
    "'''\n",
    "\n",
    "if DROP_TABLES:\n",
    "    drop_table(table_name=ERC721_AMOUNT_TABLE_NAME,\n",
    "               dataset_name=ERC721_ANALYSIS_DATASET_NAME)\n",
    "\n",
    "if CREATE_TABLES:\n",
    "    create_table(query=query_2,\n",
    "                 table_name=ERC721_AMOUNT_TABLE_NAME,\n",
    "                 dataset_name=ERC721_ANALYSIS_DATASET_NAME)"
   ],
   "metadata": {
    "collapsed": false,
    "pycharm": {
     "name": "#%%\n"
    }
   }
  },
  {
   "cell_type": "markdown",
   "source": [
    "### Create Distribution Table for ERC721 Tokens"
   ],
   "metadata": {
    "collapsed": false,
    "pycharm": {
     "name": "#%% md\n"
    }
   }
  },
  {
   "cell_type": "code",
   "execution_count": 9,
   "outputs": [
    {
     "name": "stdout",
     "output_type": "stream",
     "text": [
      "Table erc721_analysis:erc721_analysis_distribution has been deleted.\n",
      "Table erc721_analysis:erc721_analysis_distribution has been created and filled 801841 rows.\n"
     ]
    }
   ],
   "source": [
    "query_3 = f'''\n",
    "    WITH erc721_amount AS (\n",
    "        SELECT\n",
    "            address,\n",
    "            count(distinct token_address) as number_of_tokens,\n",
    "            ARRAY_AGG(DISTINCT token_address) as token_list,\n",
    "            sum(amount) as sum_amount\n",
    "        FROM `{PROJECT_ID}.{ERC721_ANALYSIS_DATASET_NAME}.{ERC721_AMOUNT_TABLE_NAME}`\n",
    "        WHERE amount > 0\n",
    "        GROUP BY address),\n",
    "    urbit_owners AS (\n",
    "        SELECT\n",
    "            owner,\n",
    "            count(point) as sum_amount\n",
    "        FROM `cosmic-keep-223223.erc721_analysis.azimuth_points`\n",
    "        GROUP BY owner)\n",
    "    SELECT\n",
    "        '{MASTERS_AUDIENCE}' as audience,\n",
    "        CASE\n",
    "            WHEN (SELECT COUNT(1) FROM UNNEST(token_list) el WHERE el IN {erc721_tokens_manual_grade_3_tuple_str}) > 0 THEN 'Owners of the Selected ERC721 tokens'\n",
    "            WHEN (SELECT COUNT(1) FROM UNNEST(token_list) el WHERE el IN {erc721_tokens_manual_grade_2_tuple_str}) > 0 AND sum_amount <= {boundary_erc721_amount[2]} THEN 'Owners of the Selected ERC721 tokens'\n",
    "            ELSE 'Owners of ERC721 tokens'\n",
    "        END\n",
    "        AS segment,\n",
    "        address,\n",
    "        CASE\n",
    "            WHEN sum_amount > {boundary_erc721_amount[2]} OR (SELECT COUNT(1) FROM UNNEST(token_list) el WHERE el IN {erc721_tokens_manual_grade_3_tuple_str}) > 0 THEN 3\n",
    "            WHEN sum_amount > {boundary_erc721_amount[1]} OR (SELECT COUNT(1) FROM UNNEST(token_list) el WHERE el IN {erc721_tokens_manual_grade_2_tuple_str}) > 0 THEN 2\n",
    "            WHEN sum_amount > {boundary_erc721_amount[0]} THEN 1\n",
    "            ELSE null\n",
    "        END\n",
    "        AS grade,\n",
    "        sum_amount,\n",
    "        number_of_tokens\n",
    "    FROM erc721_amount\n",
    "    WHERE number_of_tokens > {min_number_of_tokens}\n",
    "\n",
    "    UNION ALL\n",
    "\n",
    "    SELECT\n",
    "        '{CYBERPUNKS_AUDIENCE}' as audience,\n",
    "        'Owners of the Selected ERC721 tokens' as segment,\n",
    "        address,\n",
    "        3 AS grade,\n",
    "        sum_amount,\n",
    "        number_of_tokens\n",
    "    FROM erc721_amount\n",
    "    WHERE (SELECT COUNT(1) FROM UNNEST(token_list) el WHERE el IN {erc721_tokens_manual_cyberpunks_tuple_str}) > 0\n",
    "\n",
    "    UNION ALL\n",
    "\n",
    "    SELECT\n",
    "        '{CYBERPUNKS_AUDIENCE}' as audience,\n",
    "        'Urbit Owners' as segment,\n",
    "        owner as address,\n",
    "        3 AS grade,\n",
    "        sum_amount,\n",
    "        1 as number_of_tokens\n",
    "    FROM urbit_owners\n",
    "'''\n",
    "\n",
    "if DROP_TABLES:\n",
    "    drop_table(table_name=ERC721_ANALYSIS_DISTRIBUTION_TABLE_NAME,\n",
    "               dataset_name=ERC721_ANALYSIS_DATASET_NAME)\n",
    "\n",
    "if CREATE_TABLES:\n",
    "    create_table(query=query_3,\n",
    "                 table_name=ERC721_ANALYSIS_DISTRIBUTION_TABLE_NAME,\n",
    "                 dataset_name=ERC721_ANALYSIS_DATASET_NAME)\n"
   ],
   "metadata": {
    "collapsed": false,
    "pycharm": {
     "name": "#%%\n"
    }
   }
  },
  {
   "cell_type": "markdown",
   "source": [
    "### Create Distribution Table for Spending Fee Analysis\n",
    "Distribution has been calculated in the [Extraordinary Hackers and Masters of the Great Web. Gas Analysis](extraordinary_hackers_and_masters__gas_analysis.ipynb) Jupyter notebook."
   ],
   "metadata": {
    "collapsed": false,
    "pycharm": {
     "name": "#%% md\n"
    }
   }
  },
  {
   "cell_type": "markdown",
   "source": [
    "### Analysis of Grade Boundaries. Amount of ERC721 tokens"
   ],
   "metadata": {
    "collapsed": false,
    "pycharm": {
     "name": "#%% md\n"
    }
   }
  },
  {
   "cell_type": "code",
   "execution_count": 10,
   "outputs": [],
   "source": [
    "query_4 = f'''\n",
    "    WITH amount_agg AS (\n",
    "        SELECT\n",
    "            address,\n",
    "            count(distinct token_address) as number_of_tokens,\n",
    "            sum(amount) as sum_amount\n",
    "        FROM `{PROJECT_ID}.{ERC721_ANALYSIS_DATASET_NAME}.{ERC721_AMOUNT_TABLE_NAME}`\n",
    "        WHERE amount > 0\n",
    "        GROUP BY address\n",
    "    )\n",
    "    SELECT\n",
    "        sum_amount,\n",
    "        count(address) as number_of_addresses\n",
    "    FROM amount_agg\n",
    "    GROUP BY sum_amount\n",
    "'''\n",
    "\n",
    "address_agg_by_sum_amount_of_tokens_df = get_df(query_4)"
   ],
   "metadata": {
    "collapsed": false,
    "pycharm": {
     "name": "#%%\n"
    }
   }
  },
  {
   "cell_type": "code",
   "execution_count": 11,
   "outputs": [
    {
     "name": "stdout",
     "output_type": "stream",
     "text": [
      "Suggestion of Rules: \n",
      "\n"
     ]
    },
    {
     "data": {
      "text/plain": "<IPython.core.display.HTML object>",
      "text/html": "<div>\n<style scoped>\n    .dataframe tbody tr th:only-of-type {\n        vertical-align: middle;\n    }\n\n    .dataframe tbody tr th {\n        vertical-align: top;\n    }\n\n    .dataframe thead th {\n        text-align: right;\n    }\n</style>\n<table border=\"1\" class=\"dataframe\">\n  <thead>\n    <tr style=\"text-align: right;\">\n      <th>Grade</th>\n      <th>Rule</th>\n      <th>Addresses</th>\n      <th>Percentage of Addresses</th>\n    </tr>\n  </thead>\n  <tbody>\n    <tr>\n      <td>1</td>\n      <td>0.0 &lt; Amount of ERC721 tokens &lt;= 7.0</td>\n      <td>703291</td>\n      <td>88.7</td>\n    </tr>\n    <tr>\n      <td>2</td>\n      <td>7.0 &lt; Amount of ERC721 tokens &lt;= 186.0</td>\n      <td>81538</td>\n      <td>10.3</td>\n    </tr>\n    <tr>\n      <td>3</td>\n      <td>186.0 &lt; Amount of ERC721 tokens</td>\n      <td>7915</td>\n      <td>1.0</td>\n    </tr>\n  </tbody>\n</table>\n</div>"
     },
     "metadata": {},
     "output_type": "display_data"
    },
    {
     "data": {
      "text/plain": "<Figure size 1440x648 with 1 Axes>",
      "image/png": "[encoded data removed]"
     },
     "metadata": {
      "needs_background": "light"
     },
     "output_type": "display_data"
    }
   ],
   "source": [
    "amount_of_erc721_tokens_boundary_levels = \\\n",
    "    grade_boundaries_analysis(\n",
    "        distribution_df=address_agg_by_sum_amount_of_tokens_df,\n",
    "        value_column = 'sum_amount',\n",
    "        value_chart_label = 'Amount of ERC721 tokens by address, Log10',\n",
    "        value_name = 'Amount of ERC721 tokens',\n",
    "        chart_title = 'Distribution of Addresses by Amount of ERC721 Tokens',\n",
    "        max_show_value = 5000)"
   ],
   "metadata": {
    "collapsed": false,
    "pycharm": {
     "name": "#%%\n"
    }
   }
  },
  {
   "cell_type": "markdown",
   "source": [
    "### Analysis of Grade Boundaries. Fee spending to contracts\n",
    "Described in the [Extraordinary Hackers and Masters of the Great Web. Gas Analysis](extraordinary_hackers_and_masters__gas_analysis.ipynb) Jupyter notebook"
   ],
   "metadata": {
    "collapsed": false,
    "pycharm": {
     "name": "#%% md\n"
    }
   }
  }
 ],
 "metadata": {
  "kernelspec": {
   "display_name": "Python 3",
   "language": "python",
   "name": "python3"
  },
  "language_info": {
   "codemirror_mode": {
    "name": "ipython",
    "version": 2
   },
   "file_extension": ".py",
   "mimetype": "text/x-python",
   "name": "python",
   "nbconvert_exporter": "python",
   "pygments_lexer": "ipython2",
   "version": "2.7.6"
  }
 },
 "nbformat": 4,
 "nbformat_minor": 0
}