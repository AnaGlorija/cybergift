{
 "cells": [
  {
   "cell_type": "markdown",
   "source": [
    "## Masters of the Great Web and Cyberpunks. ERC721 Analysis"
   ],
   "metadata": {
    "collapsed": false,
    "pycharm": {
     "name": "#%% md\n"
    }
   }
  },
  {
   "cell_type": "code",
   "execution_count": 1,
   "outputs": [],
   "source": [
    "from config import PROJECT_ID, INITIAL_TS, SNAPSHOT_TS, \\\n",
    "    ERC721_ANALYSIS_DATASET_NAME, ERC721_AMOUNT_TABLE_NAME, ERC721_ANALYSIS_DISTRIBUTION_TABLE_NAME, \\\n",
    "    ERC721_ROW_AMOUNT_TABLE_NAME, ERC721_NFT_TOKEN_TABLE_NAME, ERC721_TOKEN_TABLE_NAME, MASTERS_AUDIENCE, \\\n",
    "    CYBERPUNKS_AUDIENCE\n",
    "from src.utils_bigquery import drop_table, create_table, get_df, create_table_from_df\n",
    "from src.utils_charts import grade_boundaries_analysis\n",
    "from src.utils_eth import get_contract_decimals\n",
    "\n",
    "EXTRACT_NFT = False\n",
    "DROP_TABLES = True\n",
    "CREATE_TABLES = True"
   ],
   "metadata": {
    "collapsed": false,
    "pycharm": {
     "name": "#%%\n"
    }
   }
  },
  {
   "cell_type": "markdown",
   "metadata": {
    "collapsed": true,
    "pycharm": {
     "name": "#%% md\n"
    }
   },
   "source": [
    "### Distribution Rule. Masters of the Great Web\n",
    "\n",
    "<table style=\"text-align: left\">\n",
    "    <thead style=\"text-align: center\">\n",
    "        <tr>\n",
    "            <th rowspan=2></th>\n",
    "            <th colspan=3>Grade</th>\n",
    "        </tr>\n",
    "        <tr>\n",
    "            <th>1</th>\n",
    "            <th>2</th>\n",
    "            <th>3</th>\n",
    "        </tr>\n",
    "    </thead>\n",
    "    <tbody>\n",
    "        <tr>\n",
    "            <td style=\"text-align: left\"> Amount of ERC721 tokens </td>\n",
    "            <td style=\"text-align: center\"> > 0 NFT </td>\n",
    "            <td style=\"text-align: center\"> > 7 NFT </td>\n",
    "            <td style=\"text-align: center\"> > 185 NFT </td>\n",
    "        </tr>\n",
    "        <tr>\n",
    "            <td style=\"text-align: left\"> Owners of the Selected ERC721 tokens </td>\n",
    "            <td style=\"text-align: center\"> - </td>\n",
    "            <td style=\"text-align: center\"> ENS </td>\n",
    "            <td style=\"text-align: center\"> Gitcoin Kudos or LAND </td>\n",
    "        </tr>\n",
    "        <tr>\n",
    "            <td style=\"text-align: left\"> Fee spending to contracts<sup>1</sup>, by contract creators, ETH </td>\n",
    "            <td style=\"text-align: center\"> > 0 ETH </td>\n",
    "            <td style=\"text-align: center\"> > 0.005 ETH </td>\n",
    "            <td style=\"text-align: center\"> > 0.755 ETH </td>\n",
    "        </tr>\n",
    "    </tbody>\n",
    "</table>\n",
    "\n",
    "<sup>1</sup> including contracts created by factories only\n",
    "\n",
    "### Distribution Rule. Cyberpunks\n",
    "\n",
    "<table style=\"text-align: left\">\n",
    "    <thead style=\"text-align: center\">\n",
    "        <tr>\n",
    "            <th rowspan=2></th>\n",
    "            <th colspan=3>Grade</th>\n",
    "        </tr>\n",
    "        <tr>\n",
    "            <th>1</th>\n",
    "            <th>2</th>\n",
    "            <th>3</th>\n",
    "        </tr>\n",
    "    </thead>\n",
    "    <tbody>\n",
    "        <tr>\n",
    "            <td style=\"text-align: left\"> Owners of the Selected ERC721 tokens </td>\n",
    "            <td style=\"text-align: center\"> - </td>\n",
    "            <td style=\"text-align: center\"> - </td>\n",
    "            <td style=\"text-align: center\"> Unicorns, DRAGON or Cryptopunks </td>\n",
    "        </tr>\n",
    "        <tr>\n",
    "            <td style=\"text-align: left\"> Urbit Owners </td>\n",
    "            <td style=\"text-align: center\"> - </td>\n",
    "            <td style=\"text-align: center\"> - </td>\n",
    "            <td style=\"text-align: center\"> here </td>\n",
    "        </tr>\n",
    "    </tbody>\n",
    "</table>"
   ]
  },
  {
   "cell_type": "code",
   "execution_count": 2,
   "outputs": [],
   "source": [
    "min_number_of_tokens = 0\n",
    "\n",
    "erc721_tokens_manual_grade_2_dict = {\n",
    "    'ENS': '0x57f1887a8bf19b14fc0df6fd9b2acc9af147ea85'}\n",
    "erc721_tokens_manual_grade_3_dict = {\n",
    "    'Gitcoin Kudos': '0x2aea4add166ebf38b63d09a75de1a7b94aa24163',\n",
    "    'LAND': '0xf87e31492faf9a91b02ee0deaad50d51d56d5d4d'}\n",
    "erc721_tokens_manual_cyberpunks_dict = {\n",
    "    'Unicorns': '0x89205a3a3b2a69de6dbf7f01ed13b2108b2c43e7',\n",
    "    'DRAGON': '0x960f401aed58668ef476ef02b2a2d43b83c261d8',\n",
    "    'Cryptopunks': '0xb47e3cd837ddf8e4c57f05d70ab865de6e193bbb'}\n",
    "\n",
    "TRANSFER_256_EVENT_HASH = '0xddf252ad1be2c89b69c2b068fc378daa952ba7f163c4a11628f55a4df523b3ef'\n",
    "TRANSFER_128_EVENT_HASH = '0x27772adc63db07aae765b71eb2b533064fa781bd57457e1b138592d8198d0959'\n",
    "TRANSFER_SINGLE_EVENT_HASH = '0xc3d58168c5ae7397731d063d5bbf3d657854427343f4c083240f7aacaa2d0f62'\n",
    "TRANSFER_BATCH_EVENT_HASH = '0x4a39dc06d4c0dbc64b70af90fd698a233a518aa5d07e595d983b8c0526c8f7fb'\n",
    "\n",
    "APPROVAL_FOR_ALL_EVENT_HASH = '0x17307eab39ab6107e8899845ad3d59bd9653f200f220920489ca2b5937696c31'\n",
    "\n",
    "MINT_EVENT_HASH = '0x0f6798a560793a54c3bcfe86a93cde1e73087d944c0ea20544137d4121396885'\n",
    "BURN_EVENT_HASH = '0xcc16f5dbb4873280815c1ee09dbd06736cffcc184412cf7a71a0fdb75d397ca5'\n",
    "\n",
    "ENS_NAMEREGISTERED_EVENT_HASH = '0xb3d987963d01b2f68493b4bdb130988f157ea43070d4ad840fee0466ed9370d9'\n",
    "LAND_TRANSFER_1_EVENT_HASH = '0x8988d59efc2c4547ef86c88f6543963bab0cea94f8e486e619c7c3a790db93be'\n",
    "LAND_TRANSFER_2_EVENT_HASH = '0xd5c97f2e041b2046be3b4337472f05720760a198f4d7d84980b7155eec7cca6f'\n",
    "CRYPTOPUNKS_ASSIGN_EVENT_HASH = '0x8a0e37b73a0d9c82e205d4d1a3ff3d0b57ce5f4d7bccf6bac03336dc101cb7ba'\n",
    "CK_BIRTH_EVENT_HASH = '0x0a5311bd2a6608f08a180df2ee7c5946819a649b204b554bb8e39825b2c50ad5'\n",
    "\n",
    "EVENTS = {\n",
    "    TRANSFER_256_EVENT_HASH: [1, 2, 3],\n",
    "    TRANSFER_128_EVENT_HASH: [1, 2, 3],\n",
    "    TRANSFER_SINGLE_EVENT_HASH: [2, 3, 4],\n",
    "    TRANSFER_BATCH_EVENT_HASH: [2, 3, 4],\n",
    "    MINT_EVENT_HASH: [0, 1, 2],\n",
    "    BURN_EVENT_HASH: [1, 0, 2],\n",
    "    ENS_NAMEREGISTERED_EVENT_HASH: [0, 2, 1],\n",
    "    LAND_TRANSFER_1_EVENT_HASH: [1, 2, 3],\n",
    "    LAND_TRANSFER_2_EVENT_HASH: [1, 2, 3],\n",
    "    CRYPTOPUNKS_ASSIGN_EVENT_HASH: [0, 1, 2],\n",
    "    CK_BIRTH_EVENT_HASH: [0, 1, 2]\n",
    "}\n",
    "EVENTS_HASHES = list(EVENTS.keys())\n",
    "\n",
    "erc721_tokens_manual_grade_2_tuple_str = str(tuple(erc721_tokens_manual_grade_2_dict.values())).replace(',)', ')')\n",
    "erc721_tokens_manual_grade_3_tuple_str = str(tuple(erc721_tokens_manual_grade_3_dict.values())).replace(',)', ')')\n",
    "erc721_tokens_manual_cyberpunks_tuple_str = str(tuple(erc721_tokens_manual_cyberpunks_dict.values())).replace(',)', ')')\n"
   ],
   "metadata": {
    "collapsed": false,
    "pycharm": {
     "name": "#%%\n"
    }
   }
  },
  {
   "cell_type": "markdown",
   "source": [
    "### Get Balances"
   ],
   "metadata": {
    "collapsed": false,
    "pycharm": {
     "name": "#%% md\n"
    }
   }
  },
  {
   "cell_type": "code",
   "execution_count": 3,
   "outputs": [
    {
     "name": "stdout",
     "output_type": "stream",
     "text": [
      "Table erc721_analysis:erc721_balances_row has been deleted.\n",
      "Table erc721_analysis:erc721_balances_row has been created and filled 1,615,982 rows.\n"
     ]
    }
   ],
   "source": [
    "query_2 = f'''\n",
    "WITH logs AS (\n",
    "    SELECT\n",
    "        address as token_address,\n",
    "        topics[SAFE_ORDINAL(1)] as event_hash,\n",
    "        topics,\n",
    "        transaction_hash,\n",
    "        data\n",
    "    FROM `bigquery-public-data.crypto_ethereum.logs`\n",
    "    WHERE block_timestamp >= '{INITIAL_TS}'\n",
    "      AND block_timestamp <= '{SNAPSHOT_TS}'\n",
    "      AND topics[SAFE_ORDINAL(1)] IN {tuple(EVENTS_HASHES + [APPROVAL_FOR_ALL_EVENT_HASH])}\n",
    "),\n",
    "token_addresses AS (\n",
    "    SELECT\n",
    "        token_address\n",
    "    FROM (\n",
    "        SELECT\n",
    "            token_address,\n",
    "            ARRAY_AGG(DISTINCT event_hash) as event_hashes\n",
    "        FROM logs\n",
    "        GROUP BY token_address\n",
    "        HAVING '{APPROVAL_FOR_ALL_EVENT_HASH}' in UNNEST(event_hashes)\n",
    "           AND ARRAY_LENGTH(event_hashes) > 1\n",
    "    )\n",
    "),\n",
    "token_transfers_row AS (\n",
    "    SELECT\n",
    "        token_address,\n",
    "        event_hash,\n",
    "        if(from_argument_number = 0, '0x0000000000000000000000000000000000000000', REPLACE(topics[SAFE_ORDINAL(from_argument_number + 1)], '0x000000000000000000000000', '0x')) as from_address,\n",
    "        if(to_argument_number = 0, '0x0000000000000000000000000000000000000000', REPLACE(topics[SAFE_ORDINAL(to_argument_number + 1)], '0x000000000000000000000000', '0x')) as to_address,\n",
    "        if(ARRAY_LENGTH(topics) >= id_argument_number + 1, [topics[SAFE_ORDINAL(id_argument_number + 1)]],\n",
    "            if(event_hash='{TRANSFER_SINGLE_EVENT_HASH}', [LEFT(data, 66)],\n",
    "                if(event_hash='{TRANSFER_BATCH_EVENT_HASH}',\n",
    "                    (SELECT\n",
    "                         ARRAY_AGG(CONCAT('0x', SUBSTR(token_data.token_data, i * 64 + 1, 64)))\n",
    "                     FROM (\n",
    "                         SELECT SAFE.SUBSTR(data, 64*3+3, CAST((LENGTH(data) - 2 - 64 * 4)/2 AS int64)) AS token_data) AS token_data\n",
    "                     CROSS JOIN\n",
    "                     UNNEST (GENERATE_ARRAY(0,CAST(LENGTH(token_data.token_data)/64 - 1 AS int64))) AS i),\n",
    "                   [data]))) as token_id,\n",
    "        data,\n",
    "        topics,\n",
    "        transaction_hash,\n",
    "        from_argument_number,\n",
    "        to_argument_number,\n",
    "        id_argument_number\n",
    "    FROM logs\n",
    "    INNER JOIN token_addresses USING (token_address)\n",
    "    INNER JOIN (\n",
    "        SELECT\n",
    "            event_hash,\n",
    "            from_argument_number,\n",
    "            to_argument_number,\n",
    "            id_argument_number\n",
    "        FROM UNNEST([{''.join(f\"STRUCT('{k}' AS event_hash, {v[0]} AS from_argument_number, {v[1]} AS to_argument_number, {v[2]} AS id_argument_number), \" for k,v in EVENTS.items())[:-2]}])\n",
    "    )\n",
    "    USING (event_hash)\n",
    "),\n",
    "token_transfers AS (\n",
    "    SELECT DISTINCT\n",
    "        token_address,\n",
    "        from_address,\n",
    "        to_address,\n",
    "        token_id,\n",
    "        transaction_hash\n",
    "    FROM token_transfers_row\n",
    "    CROSS JOIN token_transfers_row.token_id\n",
    "),\n",
    "token_transfers_amount AS (\n",
    "    SELECT\n",
    "        token_address,\n",
    "        from_address,\n",
    "        to_address,\n",
    "        if(LENGTH(token_id) > 66, DIV(LENGTH(token_id), 64), 1) as amount_of_token_id,\n",
    "        transaction_hash\n",
    "    FROM token_transfers\n",
    ")\n",
    "SELECT\n",
    "    token_address,\n",
    "    address,\n",
    "    sum(amount_change) as amount\n",
    "FROM (\n",
    "SELECT\n",
    "        token_address,\n",
    "        from_address as address,\n",
    "        - amount_of_token_id as amount_change\n",
    "FROM token_transfers_amount\n",
    "\n",
    "UNION ALL\n",
    "\n",
    "SELECT\n",
    "        token_address,\n",
    "        to_address as address,\n",
    "        amount_of_token_id as amount_change\n",
    "FROM token_transfers_amount)\n",
    "WHERE address != '0x0000000000000000000000000000000000000000'\n",
    "GROUP BY token_address, address\n",
    "ORDER BY amount\n",
    "'''\n",
    "\n",
    "if DROP_TABLES:\n",
    "    drop_table(table_name=ERC721_ROW_AMOUNT_TABLE_NAME,\n",
    "               dataset_name=ERC721_ANALYSIS_DATASET_NAME)\n",
    "\n",
    "if CREATE_TABLES:\n",
    "    create_table(query=query_2,\n",
    "                 table_name=ERC721_ROW_AMOUNT_TABLE_NAME,\n",
    "                 dataset_name=ERC721_ANALYSIS_DATASET_NAME)"
   ],
   "metadata": {
    "collapsed": false,
    "pycharm": {
     "name": "#%%\n"
    }
   }
  },
  {
   "cell_type": "markdown",
   "source": [
    "### ! TODO: Fix negative amount in some token contracts\n",
    "\n",
    "### Analysis of Grade Boundaries. Amount of ERC721 tokens"
   ],
   "metadata": {
    "collapsed": false
   }
  },
  {
   "cell_type": "code",
   "execution_count": 4,
   "outputs": [],
   "source": [
    "query_3 = f'''\n",
    "    SELECT\n",
    "        sum_amount,\n",
    "        count(address) as number_of_addresses\n",
    "    FROM (\n",
    "        SELECT\n",
    "            address,\n",
    "            count(distinct token_address) as number_of_tokens,\n",
    "            sum(amount) as sum_amount\n",
    "        FROM `{PROJECT_ID}.{ERC721_ANALYSIS_DATASET_NAME}.{ERC721_ROW_AMOUNT_TABLE_NAME}`\n",
    "        WHERE amount > 0\n",
    "          AND address != '0x0000000000000000000000000000000000000000'\n",
    "          AND address != token_address\n",
    "        GROUP BY address\n",
    "        HAVING sum_amount > {min_number_of_tokens})\n",
    "    GROUP BY sum_amount\n",
    "'''\n",
    "\n",
    "address_agg_by_sum_amount_of_tokens_df = get_df(query_3)"
   ],
   "metadata": {
    "collapsed": false,
    "pycharm": {
     "name": "#%%\n"
    }
   }
  },
  {
   "cell_type": "code",
   "execution_count": 5,
   "outputs": [
    {
     "name": "stdout",
     "output_type": "stream",
     "text": [
      "Suggestion of Rules: \n",
      "\n"
     ]
    },
    {
     "data": {
      "text/plain": "<IPython.core.display.HTML object>",
      "text/html": "<div>\n<style scoped>\n    .dataframe tbody tr th:only-of-type {\n        vertical-align: middle;\n    }\n\n    .dataframe tbody tr th {\n        vertical-align: top;\n    }\n\n    .dataframe thead th {\n        text-align: right;\n    }\n</style>\n<table border=\"1\" class=\"dataframe\">\n  <thead>\n    <tr style=\"text-align: right;\">\n      <th>Grade</th>\n      <th>Rule</th>\n      <th>Addresses</th>\n      <th>Percentage of Addresses</th>\n    </tr>\n  </thead>\n  <tbody>\n    <tr>\n      <td>1</td>\n      <td>0.0 &lt; Amount of ERC721 tokens &lt;= 6.0</td>\n      <td>850745</td>\n      <td>88.5</td>\n    </tr>\n    <tr>\n      <td>2</td>\n      <td>6.0 &lt; Amount of ERC721 tokens &lt;= 149.0</td>\n      <td>101152</td>\n      <td>10.5</td>\n    </tr>\n    <tr>\n      <td>3</td>\n      <td>149.0 &lt; Amount of ERC721 tokens</td>\n      <td>9600</td>\n      <td>1.0</td>\n    </tr>\n  </tbody>\n</table>\n</div>"
     },
     "metadata": {},
     "output_type": "display_data"
    },
    {
     "data": {
      "text/plain": "<Figure size 1440x648 with 1 Axes>",
      "image/png": "[encoded data removed]"
     },
     "metadata": {
      "needs_background": "light"
     },
     "output_type": "display_data"
    }
   ],
   "source": [
    "boundary_erc721_amount = \\\n",
    "    grade_boundaries_analysis(\n",
    "        distribution_df=address_agg_by_sum_amount_of_tokens_df,\n",
    "        value_column = 'sum_amount',\n",
    "        value_chart_label = 'Amount of ERC721 tokens by address, Log10',\n",
    "        value_name = 'Amount of ERC721 tokens',\n",
    "        chart_title = 'Distribution of Addresses by Amount of ERC721 Tokens',\n",
    "        max_show_value = 5000)"
   ],
   "metadata": {
    "collapsed": false,
    "pycharm": {
     "name": "#%%\n"
    }
   }
  },
  {
   "cell_type": "markdown",
   "source": [
    "### Analysis of Grade Boundaries. Fee spending to contracts\n",
    "Described in the [Extraordinary Hackers and Masters of the Great Web. Gas Analysis](gas__hackers_and_masters.ipynb)\n",
    "Jupyter notebook"
   ],
   "metadata": {
    "collapsed": false
   }
  },
  {
   "cell_type": "markdown",
   "source": [
    "### Create Distribution Table for ERC721 Tokens"
   ],
   "metadata": {
    "collapsed": false,
    "pycharm": {
     "name": "#%% md\n"
    }
   }
  },
  {
   "cell_type": "code",
   "execution_count": 6,
   "outputs": [
    {
     "name": "stdout",
     "output_type": "stream",
     "text": [
      "Table erc721_analysis:erc721_analysis_distribution has been deleted.\n",
      "Table erc721_analysis:erc721_analysis_distribution has been created and filled 970,564 rows.\n"
     ]
    }
   ],
   "source": [
    "query_4 = f'''\n",
    "    WITH erc721_amount AS (\n",
    "        SELECT\n",
    "            address,\n",
    "            count(distinct token_address) as number_of_tokens,\n",
    "            ARRAY_AGG(DISTINCT token_address) as token_list,\n",
    "            sum(amount) as sum_amount\n",
    "        FROM `{PROJECT_ID}.{ERC721_ANALYSIS_DATASET_NAME}.{ERC721_ROW_AMOUNT_TABLE_NAME}`\n",
    "        WHERE amount > 0\n",
    "          AND address != '0x0000000000000000000000000000000000000000'\n",
    "          AND address != token_address\n",
    "        GROUP BY address),\n",
    "    urbit_owners AS (\n",
    "        SELECT\n",
    "            owner,\n",
    "            count(point) as sum_amount\n",
    "        FROM `cosmic-keep-223223.erc721_analysis.azimuth_points`\n",
    "        GROUP BY owner)\n",
    "    SELECT\n",
    "        '{MASTERS_AUDIENCE}' as audience,\n",
    "        CASE\n",
    "            WHEN (SELECT COUNT(1) FROM UNNEST(token_list) el WHERE el IN {erc721_tokens_manual_grade_3_tuple_str}) > 0 THEN 'Owners of the Selected ERC721 tokens'\n",
    "            WHEN (SELECT COUNT(1) FROM UNNEST(token_list) el WHERE el IN {erc721_tokens_manual_grade_2_tuple_str}) > 0 AND sum_amount <= {boundary_erc721_amount[2]} THEN 'Owners of the Selected ERC721 tokens'\n",
    "            ELSE 'Owners of ERC721 tokens'\n",
    "        END\n",
    "        AS segment,\n",
    "        address,\n",
    "        CASE\n",
    "            WHEN sum_amount > {boundary_erc721_amount[2]} OR (SELECT COUNT(1) FROM UNNEST(token_list) el WHERE el IN {erc721_tokens_manual_grade_3_tuple_str}) > 0 THEN 3\n",
    "            WHEN sum_amount > {boundary_erc721_amount[1]} OR (SELECT COUNT(1) FROM UNNEST(token_list) el WHERE el IN {erc721_tokens_manual_grade_2_tuple_str}) > 0 THEN 2\n",
    "            WHEN sum_amount > {boundary_erc721_amount[0]} THEN 1\n",
    "            ELSE null\n",
    "        END\n",
    "        AS grade,\n",
    "        sum_amount,\n",
    "        number_of_tokens\n",
    "    FROM erc721_amount\n",
    "    WHERE number_of_tokens > {min_number_of_tokens}\n",
    "\n",
    "    UNION ALL\n",
    "\n",
    "    SELECT\n",
    "        '{CYBERPUNKS_AUDIENCE}' as audience,\n",
    "        'Owners of the Selected ERC721 tokens' as segment,\n",
    "        address,\n",
    "        3 AS grade,\n",
    "        sum_amount,\n",
    "        number_of_tokens\n",
    "    FROM erc721_amount\n",
    "    WHERE (SELECT COUNT(1) FROM UNNEST(token_list) el WHERE el IN {erc721_tokens_manual_cyberpunks_tuple_str}) > 0\n",
    "\n",
    "    UNION ALL\n",
    "\n",
    "    SELECT\n",
    "        '{CYBERPUNKS_AUDIENCE}' as audience,\n",
    "        'Urbit Owners' as segment,\n",
    "        owner as address,\n",
    "        3 AS grade,\n",
    "        sum_amount,\n",
    "        1 as number_of_tokens\n",
    "    FROM urbit_owners\n",
    "'''\n",
    "\n",
    "if DROP_TABLES:\n",
    "    drop_table(table_name=ERC721_ANALYSIS_DISTRIBUTION_TABLE_NAME,\n",
    "               dataset_name=ERC721_ANALYSIS_DATASET_NAME)\n",
    "\n",
    "if CREATE_TABLES:\n",
    "    create_table(query=query_4,\n",
    "                 table_name=ERC721_ANALYSIS_DISTRIBUTION_TABLE_NAME,\n",
    "                 dataset_name=ERC721_ANALYSIS_DATASET_NAME)\n"
   ],
   "metadata": {
    "collapsed": false,
    "pycharm": {
     "name": "#%%\n"
    }
   }
  },
  {
   "cell_type": "markdown",
   "source": [
    "### Create Distribution Table for Spending Fee Analysis\n",
    "Distribution has been calculated in the [Extraordinary Hackers and Masters of the Great Web. Gas Analysis](gas__hackers_and_masters.ipynb) Jupyter notebook.\n",
    "\n"
   ],
   "metadata": {
    "collapsed": false,
    "pycharm": {
     "name": "#%% md\n"
    }
   }
  }
 ],
 "metadata": {
  "kernelspec": {
   "display_name": "Python 3",
   "language": "python",
   "name": "python3"
  },
  "language_info": {
   "codemirror_mode": {
    "name": "ipython",
    "version": 2
   },
   "file_extension": ".py",
   "mimetype": "text/x-python",
   "name": "python",
   "nbconvert_exporter": "python",
   "pygments_lexer": "ipython2",
   "version": "2.7.6"
  }
 },
 "nbformat": 4,
 "nbformat_minor": 0
}