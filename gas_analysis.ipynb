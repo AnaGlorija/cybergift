{
 "cells": [
  {
   "cell_type": "markdown",
   "metadata": {
    "collapsed": true,
    "pycharm": {
     "name": "#%% md\n"
    }
   },
   "source": [
    "## Extraordinary Hackers. Gas Analysis"
   ]
  },
  {
   "cell_type": "code",
   "execution_count": 1,
   "outputs": [],
   "source": [
    "from config import PROJECT_ID, DATASET_NAME, INITIAL_TS, SNAPSHOT_TS, bq_client\n",
    "from utils import drop_table, create_table\n",
    "\n",
    "DROP_TABLES = True\n",
    "CREATE_TABLES = True\n",
    "\n",
    "table_name_1 = 'gas_spend_by_contract'\n",
    "table_name_2 = 'gasdrop_distribution'"
   ],
   "metadata": {
    "collapsed": false,
    "pycharm": {
     "name": "#%%\n"
    }
   }
  },
  {
   "cell_type": "markdown",
   "source": [
    "### Drop Tables"
   ],
   "metadata": {
    "collapsed": false
   }
  },
  {
   "cell_type": "code",
   "execution_count": 2,
   "outputs": [
    {
     "name": "stdout",
     "output_type": "stream",
     "text": [
      "Table gasdrop:gas_spend_by_contract deleted.\n",
      "Table gasdrop:gasdrop_distribution deleted.\n"
     ]
    }
   ],
   "source": [
    "if DROP_TABLES:\n",
    "    drop_table('gas_spend_by_contract')\n",
    "    drop_table('gasdrop_distribution')"
   ],
   "metadata": {
    "collapsed": false,
    "pycharm": {
     "name": "#%%\n"
    }
   }
  },
  {
   "cell_type": "markdown",
   "source": [
    "### Create Table with Spending Gas by Contracts"
   ],
   "metadata": {
    "collapsed": false,
    "pycharm": {
     "name": "#%% md\n"
    }
   }
  },
  {
   "cell_type": "code",
   "execution_count": 3,
   "outputs": [
    {
     "name": "stdout",
     "output_type": "stream",
     "text": [
      "Table gasdrop:gas_spend_by_contract created and filled.\n"
     ]
    }
   ],
   "source": [
    "query_1 = f'''\n",
    "    CREATE TABLE `{PROJECT_ID}.{DATASET_NAME}.{table_name_1}` AS (\n",
    "        WITH gas_spend AS (\n",
    "            SELECT\n",
    "                to_address,\n",
    "                sum(cast(receipt_gas_used as numeric) * cast(gas_price as numeric))/1e18 as fee\n",
    "            FROM `bigquery-public-data.crypto_ethereum.transactions`\n",
    "            WHERE block_timestamp >= '{INITIAL_TS}'\n",
    "              AND block_timestamp <= '{SNAPSHOT_TS}'\n",
    "            GROUP BY to_address\n",
    "            ORDER BY fee DESC\n",
    "        ),\n",
    "        traces AS (\n",
    "            SELECT\n",
    "                transaction_hash,\n",
    "                from_address,\n",
    "                to_address\n",
    "            FROM `bigquery-public-data.crypto_ethereum.traces`\n",
    "            WHERE block_timestamp >= '{INITIAL_TS}'\n",
    "              AND block_timestamp <= '{SNAPSHOT_TS}'\n",
    "              AND trace_type ='create'\n",
    "              AND status = 1),\n",
    "        contract_creators AS (\n",
    "            SELECT\n",
    "                from_address as creator_address,\n",
    "                `hash` as transaction_hash\n",
    "            FROM `bigquery-public-data.crypto_ethereum.transactions`\n",
    "            WHERE block_timestamp >= '{INITIAL_TS}'\n",
    "              AND block_timestamp <= '{SNAPSHOT_TS}')\n",
    "        SELECT\n",
    "            t.to_address as contract_address,\n",
    "            if(t.from_address=cc.creator_address, null, t.from_address)  as fabric_address,\n",
    "            cc.creator_address as creator_address,\n",
    "            g.fee\n",
    "        FROM gas_spend as g\n",
    "        INNER JOIN traces as t ON g.to_address = t.to_address\n",
    "        LEFT JOIN contract_creators as cc ON t.transaction_hash = cc.transaction_hash);\n",
    "'''\n",
    "if CREATE_TABLES:\n",
    "    create_table(query_1, table_name_1)"
   ],
   "metadata": {
    "collapsed": false,
    "pycharm": {
     "name": "#%%\n"
    }
   }
  },
  {
   "cell_type": "markdown",
   "source": [
    "### Create Table with Distribution by Contract and Fabric Creators"
   ],
   "metadata": {
    "collapsed": false
   }
  },
  {
   "cell_type": "code",
   "execution_count": 4,
   "outputs": [
    {
     "name": "stdout",
     "output_type": "stream",
     "text": [
      "Table gasdrop:gasdrop_distribution created and filled.\n"
     ]
    }
   ],
   "source": [
    "query_2 = f'''\n",
    "    CREATE TABLE `{PROJECT_ID}.{DATASET_NAME}.{table_name_2}` AS (\n",
    "        WITH fee_by_fabric AS (\n",
    "            SELECT\n",
    "                fabric_address,\n",
    "                sum(fee) as sum_fee\n",
    "            FROM `{PROJECT_ID}.{DATASET_NAME}.{table_name_1}`\n",
    "            WHERE fabric_address is not null\n",
    "            GROUP BY fabric_address\n",
    "            ),\n",
    "        fabric_creators AS (\n",
    "            SELECT\n",
    "                contract_address as fabric_address,\n",
    "                creator_address as fabric_creator\n",
    "            FROM `{PROJECT_ID}.{DATASET_NAME}.{table_name_1}`\n",
    "            WHERE contract_address IN (\n",
    "                SELECT DISTINCT fabric_address\n",
    "                FROM `{PROJECT_ID}.{DATASET_NAME}.{table_name_1}`\n",
    "                )\n",
    "            )\n",
    "        SELECT\n",
    "            'fabric' as subtype,\n",
    "            fabric_creator as address,\n",
    "            fee_3 as sum_fee,\n",
    "            CASE\n",
    "                WHEN fee_3 > 10 THEN 3\n",
    "                WHEN fee_3 > 0 THEN 2\n",
    "                ELSE null\n",
    "            END\n",
    "            AS grade\n",
    "        FROM (\n",
    "            SELECT\n",
    "                fabric_creator,\n",
    "                sum(sum_fee) as fee_3\n",
    "            FROM fee_by_fabric as ff\n",
    "            LEFT JOIN fabric_creators as fc ON ff.fabric_address = fc.fabric_address\n",
    "            GROUP BY fabric_creator)\n",
    "        WHERE fabric_creator is not null\n",
    "        UNION ALL\n",
    "        SELECT\n",
    "            'creator' as subtype,\n",
    "            address,\n",
    "            sum_fee,\n",
    "            CASE\n",
    "                WHEN sum_fee > 10 THEN 3\n",
    "                WHEN sum_fee > 1 THEN 2\n",
    "                WHEN sum_fee > 0 THEN 1\n",
    "                ELSE null\n",
    "            END\n",
    "            AS grade\n",
    "        FROM (\n",
    "            SELECT\n",
    "                creator_address as address,\n",
    "                sum(fee) as sum_fee\n",
    "            FROM `{PROJECT_ID}.{DATASET_NAME}.{table_name_1}`\n",
    "            GROUP BY creator_address)\n",
    "        WHERE address is not null\n",
    "        ORDER BY sum_fee DESC);\n",
    "'''\n",
    "\n",
    "if CREATE_TABLES:\n",
    "    create_table(query_2, table_name_2)"
   ],
   "metadata": {
    "collapsed": false,
    "pycharm": {
     "name": "#%%\n"
    }
   }
  }
 ],
 "metadata": {
  "kernelspec": {
   "display_name": "Python 3",
   "language": "python",
   "name": "python3"
  },
  "language_info": {
   "codemirror_mode": {
    "name": "ipython",
    "version": 2
   },
   "file_extension": ".py",
   "mimetype": "text/x-python",
   "name": "python",
   "nbconvert_exporter": "python",
   "pygments_lexer": "ipython2",
   "version": "2.7.6"
  }
 },
 "nbformat": 4,
 "nbformat_minor": 0
}