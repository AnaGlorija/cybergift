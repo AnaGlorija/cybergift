{
 "cells": [
  {
   "cell_type": "code",
   "execution_count": 1,
   "metadata": {
    "collapsed": true
   },
   "outputs": [],
   "source": [
    "import json\n",
    "import pandas as pd\n",
    "from web3 import Web3, HTTPProvider\n",
    "from tqdm.notebook import tqdm\n",
    "from IPython.core.display import display, HTML\n",
    "\n",
    "from config import ERC721_ANALYSIS_DATASET_NAME, SNAPSHOT_BLOCKNUMBER, AZIMUTH_POINTS_TABLE_NAME, PARITY_URL, SNAPSHOT_TS\n",
    "from src.utils_bigquery import get_df, create_table_from_df\n",
    "\n",
    "DROP_TABLES = True\n",
    "CREATE_TABLES = True\n",
    "\n",
    "AZIMUTH_TOKEN_CONTRACT_ADDRESS = '0x6ac07b7c4601b5ce11de8dfe6335b871c7c4dd4d'\n",
    "AZIMUTH_CONTRACT_ADDRESS = \"0x223c067F8CF28ae173EE5CafEa60cA44C335fecB\""
   ]
  },
  {
   "cell_type": "markdown",
   "source": [
    "## Get List of Transferred Tokens"
   ],
   "metadata": {
    "collapsed": false,
    "pycharm": {
     "name": "#%% md\n"
    }
   }
  },
  {
   "cell_type": "code",
   "execution_count": 5,
   "outputs": [
    {
     "name": "stdout",
     "output_type": "stream",
     "text": [
      "Number of Transferred Azimuth Tokens 5,144\n"
     ]
    }
   ],
   "source": [
    "query_1 = f'''\n",
    "SELECT\n",
    "    DISTINCT value\n",
    "FROM `bigquery-public-data.ethereum_blockchain.token_transfers`\n",
    "WHERE token_address = '{AZIMUTH_TOKEN_CONTRACT_ADDRESS}'\n",
    "  AND block_timestamp > '2019-01-03 00:00:00'\n",
    "  AND block_timestamp < '{SNAPSHOT_TS}'\n",
    "'''\n",
    "\n",
    "azimuth_tokens_list = list(get_df(query=query_1).value)\n",
    "print(f'Number of Transferred Azimuth Tokens {len(azimuth_tokens_list):>,}')"
   ],
   "metadata": {
    "collapsed": false,
    "pycharm": {
     "name": "#%%\n"
    }
   }
  },
  {
   "cell_type": "markdown",
   "source": [
    "## Get Point Owners and Types"
   ],
   "metadata": {
    "collapsed": false,
    "pycharm": {
     "name": "#%% md\n"
    }
   }
  },
  {
   "cell_type": "code",
   "execution_count": 6,
   "outputs": [],
   "source": [
    "with open(\"src/azimuth_abi.json\") as f:\n",
    "    AZIMUTH_CONTRACT_ABI = json.load(f)\n",
    "\n",
    "w3 = Web3(HTTPProvider(PARITY_URL))\n",
    "contract = w3.eth.contract(\n",
    "    address=w3.toChecksumAddress(AZIMUTH_CONTRACT_ADDRESS),\n",
    "    abi=AZIMUTH_CONTRACT_ABI)"
   ],
   "metadata": {
    "collapsed": false,
    "pycharm": {
     "name": "#%%\n"
    }
   }
  },
  {
   "cell_type": "code",
   "execution_count": 7,
   "outputs": [
    {
     "data": {
      "text/plain": "  0%|          | 0/100 [00:00<?, ?it/s]",
      "application/vnd.jupyter.widget-view+json": {
       "version_major": 2,
       "version_minor": 0,
       "model_id": "3928e6b72ec34d6993d79cfd17114270"
      }
     },
     "metadata": {},
     "output_type": "display_data"
    },
    {
     "data": {
      "text/plain": "<IPython.core.display.HTML object>",
      "text/html": "<div>\n<style scoped>\n    .dataframe tbody tr th:only-of-type {\n        vertical-align: middle;\n    }\n\n    .dataframe tbody tr th {\n        vertical-align: top;\n    }\n\n    .dataframe thead th {\n        text-align: right;\n    }\n</style>\n<table border=\"1\" class=\"dataframe\">\n  <thead>\n    <tr style=\"text-align: right;\">\n      <th>point</th>\n      <th>point_size</th>\n      <th>point_type</th>\n      <th>owner</th>\n      <th>parent_point</th>\n    </tr>\n  </thead>\n  <tbody>\n    <tr>\n      <td>3208590752</td>\n      <td>2</td>\n      <td>planet</td>\n      <td>0x1C98188d632b64a15C6147bD4f8A503B457518c5</td>\n      <td>48959</td>\n    </tr>\n    <tr>\n      <td>3018326434</td>\n      <td>2</td>\n      <td>planet</td>\n      <td>0x451423bF9Cdeb98a8D310c2B9542c593A1b507C6</td>\n      <td>46056</td>\n    </tr>\n    <tr>\n      <td>1481114018</td>\n      <td>2</td>\n      <td>planet</td>\n      <td>0x797dC75B60CB63984c1221345D0C7B549cb7f978</td>\n      <td>22600</td>\n    </tr>\n    <tr>\n      <td>4182507938</td>\n      <td>2</td>\n      <td>planet</td>\n      <td>0x15c94F4fD1F73621e877aE7d80FC0b30886bD44F</td>\n      <td>63820</td>\n    </tr>\n    <tr>\n      <td>3406102946</td>\n      <td>2</td>\n      <td>planet</td>\n      <td>0xb684DA8411532c45448371460168c11A914b1245</td>\n      <td>51973</td>\n    </tr>\n  </tbody>\n</table>\n</div>"
     },
     "metadata": {},
     "output_type": "display_data"
    }
   ],
   "source": [
    "POINT_DICT = {\n",
    "    0: ['galaxy', 8],\n",
    "    1: ['star', 8],\n",
    "    2: ['planet', 16]\n",
    "}\n",
    "points_data = []\n",
    "for point in tqdm(azimuth_tokens_list):\n",
    "    owner = str(contract.functions.getOwner(int(point)).call({'defaultBlock': SNAPSHOT_BLOCKNUMBER}))\n",
    "    point_size = contract.functions.getPointSize(int(point)).call()\n",
    "    point_type = POINT_DICT[point_size][0]\n",
    "    parent_point = int(point) // 2**POINT_DICT[point_size][1]\n",
    "    points_data.append([point, point_size, point_type, owner, parent_point])\n",
    "points_df = pd.DataFrame(points_data,\n",
    "                         columns=['point', 'point_size', 'point_type', 'owner', 'parent_point'])\n",
    "display(HTML(points_df.head().to_html(index=False, notebook=True, show_dimensions=False)))"
   ],
   "metadata": {
    "collapsed": false,
    "pycharm": {
     "name": "#%%\n"
    }
   }
  },
  {
   "cell_type": "markdown",
   "source": [
    "## Insert Point Data"
   ],
   "metadata": {
    "collapsed": false,
    "pycharm": {
     "name": "#%% md\n"
    }
   }
  },
  {
   "cell_type": "code",
   "execution_count": 8,
   "outputs": [
    {
     "name": "stdout",
     "output_type": "stream",
     "text": [
      "Table erc721_analysis:azimuth_points has been deleted.\n"
     ]
    },
    {
     "data": {
      "text/plain": "True"
     },
     "execution_count": 8,
     "metadata": {},
     "output_type": "execute_result"
    }
   ],
   "source": [
    "create_table_from_df(source_df=points_df,\n",
    "                     dataset_name=ERC721_ANALYSIS_DATASET_NAME,\n",
    "                     table_name=AZIMUTH_POINTS_TABLE_NAME,\n",
    "                     drop_existing_table=DROP_TABLES)"
   ],
   "metadata": {
    "collapsed": false,
    "pycharm": {
     "name": "#%%\n"
    }
   }
  },
  {
   "cell_type": "code",
   "execution_count": null,
   "outputs": [],
   "source": [],
   "metadata": {
    "collapsed": false,
    "pycharm": {
     "name": "#%%\n"
    }
   }
  }
 ],
 "metadata": {
  "kernelspec": {
   "display_name": "Python 3",
   "language": "python",
   "name": "python3"
  },
  "language_info": {
   "codemirror_mode": {
    "name": "ipython",
    "version": 2
   },
   "file_extension": ".py",
   "mimetype": "text/x-python",
   "name": "python",
   "nbconvert_exporter": "python",
   "pygments_lexer": "ipython2",
   "version": "2.7.6"
  }
 },
 "nbformat": 4,
 "nbformat_minor": 0
}