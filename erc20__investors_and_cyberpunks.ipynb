{
 "cells": [
  {
   "cell_type": "markdown",
   "source": [
    "## Passionate Investors and Cyberpunks. ERC20 Analysis"
   ],
   "metadata": {
    "collapsed": false,
    "pycharm": {
     "name": "#%% md\n"
    }
   }
  },
  {
   "cell_type": "code",
   "execution_count": 1,
   "outputs": [],
   "source": [
    "import pandas as pd\n",
    "from math import log10\n",
    "from tqdm.notebook import tqdm_notebook\n",
    "\n",
    "from config import PROJECT_ID, INITIAL_TS, SNAPSHOT_TS, \\\n",
    "    ETH_ANALYSIS_DATASET_NAME, ETH_ANALYSIS_DISTRIBUTION_TABLE_NAME, \\\n",
    "    ERC20_ANALYSIS_DATASET_NAME, ERC20_ROW_BALANCES_TABLE_NAME, ERC20_REVISED_BALANCES_TABLE_NAME, \\\n",
    "    ERC20_BALANCES_TABLE_NAME, ERC20_ANALYSIS_DISTRIBUTION_TABLE_NAME, ERC20_TOKEN_METADATA_TABLE_NAME, \\\n",
    "    STABLECOINS_LOVERS_TABLE_NAME, INVESTORS_AUDIENCE, CYBERPUNKS_AUDIENCE\n",
    "from src.utils_bigquery import drop_table, create_table, create_table_from_df, get_df\n",
    "from src.utils_charts import grade_boundaries_analysis\n",
    "from src.extractor_balances import get_balances\n",
    "\n",
    "DROP_TABLES = True\n",
    "CREATE_TABLES = True"
   ],
   "metadata": {
    "collapsed": false,
    "pycharm": {
     "name": "#%%\n"
    }
   }
  },
  {
   "cell_type": "markdown",
   "metadata": {
    "collapsed": true,
    "pycharm": {
     "name": "#%% md\n"
    }
   },
   "source": [
    "### Distribution Rule. Passionate Investors\n",
    "\n",
    "<table style=\"text-align: left\">\n",
    "    <thead style=\"text-align: center\">\n",
    "        <tr>\n",
    "            <th rowspan=2></th>\n",
    "            <th colspan=3>Grade</th>\n",
    "        </tr>\n",
    "        <tr>\n",
    "            <th>1</th>\n",
    "            <th>2</th>\n",
    "            <th>3</th>\n",
    "        </tr>\n",
    "    </thead>\n",
    "    <tbody>\n",
    "        <tr>\n",
    "            <td style=\"text-align: left\"> Number of tokens >= 2 and ERC20 balance </td>\n",
    "            <td> > 0.01 ETH </td>\n",
    "            <td> > 6 ETH </td>\n",
    "            <td> > 88 ETH </td>\n",
    "        </tr>\n",
    "    </tbody>\n",
    "</table>"
   ]
  },
  {
   "cell_type": "markdown",
   "source": [
    "### Distribution Rule. Cyberpunks\n",
    "\n",
    "<table style=\"text-align: left\">\n",
    "<thead style=\"text-align: center\">\n",
    "<tr>\n",
    "<th rowspan=2></th>\n",
    "<th colspan=3>Grade</th>\n",
    "</tr>\n",
    "<tr>\n",
    "<th>1</th>\n",
    "<th>2</th>\n",
    "<th>3</th>\n",
    "</tr>\n",
    "</thead>\n",
    "<tbody>\n",
    "<tr>\n",
    "<td style=\"text-align: left\"> Owners of the Selected tokens </td>\n",
    "<td> - </td>\n",
    "<td> - </td>\n",
    "<td> here </td>\n",
    "</tr>\n",
    "</tbody>\n",
    "</table>"
   ],
   "metadata": {
    "collapsed": false,
    "pycharm": {
     "name": "#%% md\n"
    }
   }
  },
  {
   "cell_type": "code",
   "execution_count": 2,
   "outputs": [],
   "source": [
    "investors_min_number_of_tokens = 2\n",
    "initial_boundary = 0.01\n",
    "\n",
    "erc20_tokens_dict = {\n",
    "    # name:           [address,                                      type,         ETH price,  decimals]\n",
    "    'YFI':            ['0x0bc529c00c6401aef6d220be8c6ea1667f6ad93e', 'investment', 17.2,      18],\n",
    "    'FTM':            ['0x4e15361fd6b4bb609fa63c81a2be19d873717870', 'investment', 0.000256,  18],\n",
    "    'AMPL':           ['0xd46ba6d942050d489dbd938a2c909a5d5039a161', 'investment', 0.000400,   9],\n",
    "    'renBTC':         ['0xeb4c2781e4eba804ce9a9803c67d0893436bb27d', 'investment', 20.2,       8],\n",
    "    'OCEAN':          ['0x967da4048cd07ab37855c090aaf366e4ce1b9f48', 'investment', 0.000480,  18],\n",
    "    'RPL':            ['0xb4efd85c19999d84251304bda99e90b92300bd93', 'investment', 0.00669,   18],\n",
    "    'UNI':            ['0x1f9840a85d5af5bf1d1762f925bdaddc4201f984', 'investment', 0.0143,    18],\n",
    "    'KEEP3R':         ['0x1ceb5cb57c4d4e2b2433641b95dd330a33185a44', 'investment', 0.108,     18],\n",
    "    'GST2':           ['0x0000000000b3f879cb30fe243b4dfee438691c04', 'investment', 0.0493,     2],\n",
    "    'CHI':            ['0x0000000000004946c0e9f43f4dee607b0ef1fa1c', 'investment', 0.00101,    0],\n",
    "    'MLN':            ['0xec67005c4e498ec7f55e092bd1d35cbc47c91892', 'investment', 0.0414,    18],\n",
    "    'AAVE':           ['0x7fc66500c84a76ad7e9c93437bfc5ac33e2ddae9', 'investment', 0.162,     18],\n",
    "    'GLM':            ['0x7dd9c5cba05e151c895fde1cf355c9a1d5da6429', 'investment', 0.000162,  18],\n",
    "    'ZRX':            ['0xe41d2489571d322189246dafa5ebde1f4699f498', 'investment', 0.000639,  18],\n",
    "    'SNX':            ['0xc011a73ee8576fb46f5e1c5751ca3b9fe0af2a6f', 'investment', 0.00635,   18],\n",
    "    'SUSHI':          ['0x6b3595068778dd592e39a122f4f5a5cf09c90fe2', 'investment', 0.00513,   18],\n",
    "    'COMP':           ['0xc00e94cb662c3520282e6f5717214004a7f26888', 'investment', 0.261,     18],\n",
    "    'BAL':            ['0xba100000625a3754423978a60c9317c58a424e3d', 'investment', 0.0218,    18],\n",
    "    'GRT':            ['0xc944e90c64b2c07662a292be6244bdf05cda44a7', 'investment', 0.000583,  18],\n",
    "    'MKR':            ['0x9f8f72aa9304c8b593d555f12ef6589cc3a579a2', 'investment', 1.57,      18],\n",
    "    'CRV':            ['0xd533a949740bb3306d119cc777fa900ba034cd52', 'investment', 0.00115,   18],\n",
    "    'LPT':            ['0x58b6a8a3302369daec383334672404ee733ab239', 'investment', 0.0121,    18],\n",
    "    'REL':            ['0xb6c4267c4877bb0d6b1685cfd85b0fbe82f105ec', 'investment', 0.00122,   18],\n",
    "    'ANT':            ['0xa117000000f279d81a1d3cc75430faa017fa5a2e', 'investment', 0.00348,   18],\n",
    "    'GEN':            ['0x543ff227f64aa17ea132bf9886cab5db55dcaddf', 'investment', 0.0000915, 18],\n",
    "    'PNK':            ['0x93ed3fbe21207ec2e8f2d3c3de6e058cb73bc04d', 'investment', 0.0000682, 18],\n",
    "    'REP':            ['0x221657776846890989a759ba2973e427dff5c9bb', 'investment', 0.0142,    18],\n",
    "    'SNT':            ['0x744d70fdbe2ba4cf95131626614a1763df805b9e', 'investment', 0.0000629, 18],\n",
    "    '2KEY':           ['0xE48972fCd82a274411c01834e2f031D4377Fa2c0', 'investment', 0.0000241, 18],\n",
    "    'NU':             ['0x4fE83213D56308330EC302a8BD641f1d0113A4Cc', 'investment', 0.000184,  18],\n",
    "    'MANA':           ['0x0f5d2fb29fb7d3cfee444a200298f468908cc942', 'investment', 0.000505,  18],\n",
    "    'TORN':           ['0x77777feddddffc19ff86db637967013e6c6a116c', 'investment', 0.0412,    18],\n",
    "    'XRT':            ['0x7de91b204c1c737bcee6f000aaa6569cf7061cb7', 'investment', 0.0152,     9],\n",
    "    'FOAM':           ['0x4946fcea7c692606e8908002e55a582af44ac121', 'cyberpunk',  0.0000278, 18],\n",
    "    'GOLD':           ['0x150b0b96933b75ce27af8b92441f8fb683bf9739', 'cyberpunk',  0.00000243,18],\n",
    "    'Tether':         ['0xdac17f958d2ee523a2206206994597c13d831ec7', 'stablecoin', 0.000364,   6],\n",
    "    'USD Coin':       ['0xa0b86991c6218b36c1d19d4a2e9eb0ce3606eb48', 'stablecoin', 0.000364,   6],\n",
    "    'Binance USD':    ['0x4fabb145d64652a948d72533023f6e7a623c7c53', 'stablecoin', 0.000364,  18],\n",
    "    'DAI':            ['0x6b175474e89094c44da98b954eedeac495271d0f', 'stablecoin', 0.000364,  18],\n",
    "    'Fei Protocol':   ['0x956f47f50a910163d8bf957cf5846d573e7f87ca', 'stablecoin', 0.000364,  18],\n",
    "    'TerraUSD':       ['0xa47c8bf37f92abed4a126bda807a7b7498661acd', 'stablecoin', 0.000364,  18],\n",
    "    'Liquity USD':    ['0x5f98805a4e8be255a32880fdec7f6728c6568ba0', 'stablecoin', 0.000364,  18],\n",
    "    'Paxos Standard': ['0x8e870d67f660d95d5be530380d0ec0bd388289e1', 'stablecoin', 0.000364,  18],\n",
    "    'TrueUSD':        ['0x0000000000085d4780b73119b644ae5ecd22b376', 'stablecoin', 0.000364,  18],\n",
    "    'HUSD':           ['0xdf574c24545e5ffecb9a659c229253d4111d87e1', 'stablecoin', 0.000364,   8],\n",
    "    'Neutrino USD':   ['0x674c6ad92fd080e4004b2312b45f796a192d27a0', 'stablecoin', 0.000364,  18],\n",
    "    'sUSD':           ['0x57ab1ec28d129707052df4df418d58a2d46d5f51', 'stablecoin', 0.000364,  18]\n",
    "}\n",
    "\n",
    "erc20_tokens_dict = {k: [v[0].lower(), v[1], v[2], v[3]] for k, v in erc20_tokens_dict.items()}\n",
    "erc20_tokens_inverse_dict = {v[0].lower():k for k, v in erc20_tokens_dict.items()}\n",
    "\n",
    "\n",
    "erc20_tokens_df = pd.DataFrame(erc20_tokens_dict.values(),\n",
    "                               index=erc20_tokens_dict.keys(),\n",
    "                               columns=['address', 'type', 'eth_price', 'decimals']).reset_index()\n",
    "\n",
    "MINT_EVENT_HASH = '0x0f6798a560793a54c3bcfe86a93cde1e73087d944c0ea20544137d4121396885'\n",
    "BURN_EVENT_HASH = '0xcc16f5dbb4873280815c1ee09dbd06736cffcc184412cf7a71a0fdb75d397ca5'"
   ],
   "metadata": {
    "collapsed": false,
    "pycharm": {
     "name": "#%%\n"
    }
   }
  },
  {
   "cell_type": "markdown",
   "source": [
    "### Set Token Data"
   ],
   "metadata": {
    "collapsed": false,
    "pycharm": {
     "name": "#%% md\n"
    }
   }
  },
  {
   "cell_type": "code",
   "execution_count": 3,
   "outputs": [],
   "source": [
    "investors_erc20_tokens_addresses_tuple = tuple(erc20_tokens_df[erc20_tokens_df.type=='investment'].address.values.tolist())\n",
    "\n",
    "cyberpunks_erc20_tokens_addresses_tuple = tuple(erc20_tokens_df[erc20_tokens_df.type=='cyberpunk'].address.values.tolist())\n",
    "\n",
    "stablecoins_erc20_tokens_addresses_tuple = tuple(erc20_tokens_df[erc20_tokens_df.type=='stablecoin'].address.values.tolist())\n",
    "\n",
    "erc20_tokens_addresses_tuple = investors_erc20_tokens_addresses_tuple + \\\n",
    "                               cyberpunks_erc20_tokens_addresses_tuple + \\\n",
    "                               stablecoins_erc20_tokens_addresses_tuple"
   ],
   "metadata": {
    "collapsed": false,
    "pycharm": {
     "name": "#%%\n"
    }
   }
  },
  {
   "cell_type": "markdown",
   "source": [
    "### Create Token Metadata Table"
   ],
   "metadata": {
    "collapsed": false,
    "pycharm": {
     "name": "#%% md\n"
    }
   }
  },
  {
   "cell_type": "code",
   "execution_count": 4,
   "outputs": [
    {
     "name": "stdout",
     "output_type": "stream",
     "text": [
      "Table erc20_analysis:erc20_token_metadata has been deleted.\n",
      "Table erc20_analysis:erc20_token_metadata has been created.\n"
     ]
    }
   ],
   "source": [
    "if CREATE_TABLES:\n",
    "    r = create_table_from_df(source_df=erc20_tokens_df,\n",
    "                             table_name=ERC20_TOKEN_METADATA_TABLE_NAME,\n",
    "                             dataset_name=ERC20_ANALYSIS_DATASET_NAME,\n",
    "                             drop_existing_table=DROP_TABLES)\n",
    "elif DROP_TABLES:\n",
    "    drop_table(table_name=ERC20_ANALYSIS_DISTRIBUTION_TABLE_NAME,\n",
    "               dataset_name=ERC20_ANALYSIS_DATASET_NAME)"
   ],
   "metadata": {
    "collapsed": false,
    "pycharm": {
     "name": "#%%\n"
    }
   }
  },
  {
   "cell_type": "markdown",
   "source": [
    "### Get Balances"
   ],
   "metadata": {
    "collapsed": false,
    "pycharm": {
     "name": "#%% md\n"
    }
   }
  },
  {
   "cell_type": "code",
   "execution_count": 5,
   "outputs": [
    {
     "name": "stdout",
     "output_type": "stream",
     "text": [
      "404 DELETE https://bigquery.googleapis.com/bigquery/v2/projects/cosmic-keep-223223/datasets/erc20_analysis/tables/erc20_row_balances?prettyPrint=false: Not found: Table cosmic-keep-223223:erc20_analysis.erc20_row_balances\n",
      "Table erc20_analysis:erc20_row_balances has not been deleted.\n",
      "Table erc20_analysis:erc20_row_balances has been created and filled 28,774,828 rows.\n"
     ]
    }
   ],
   "source": [
    "query_1 = f'''\n",
    "    WITH incoming_transfers AS (\n",
    "        SELECT\n",
    "            transaction_hash,\n",
    "            token_address,\n",
    "            to_address as address,\n",
    "            safe_cast(value as float64) as value\n",
    "        FROM `bigquery-public-data.crypto_ethereum.token_transfers`\n",
    "        WHERE token_address IN {erc20_tokens_addresses_tuple}\n",
    "          AND to_address NOT IN ('0x0000000000000000000000000000000000000000')\n",
    "          AND block_timestamp >= '{INITIAL_TS}'\n",
    "          AND block_timestamp <= '{SNAPSHOT_TS}'\n",
    "    ),\n",
    "    outgoing_transfers AS (\n",
    "        SELECT\n",
    "            transaction_hash,\n",
    "            token_address,\n",
    "            from_address as address,\n",
    "            - safe_cast(value as float64) as value\n",
    "        FROM `bigquery-public-data.crypto_ethereum.token_transfers`\n",
    "        WHERE token_address IN {erc20_tokens_addresses_tuple}\n",
    "          AND from_address NOT IN ('0x0000000000000000000000000000000000000000')\n",
    "          AND block_timestamp >= '{INITIAL_TS}'\n",
    "          AND block_timestamp <= '{SNAPSHOT_TS}'\n",
    "    ),\n",
    "    mint_burn AS (\n",
    "        SELECT\n",
    "            transaction_hash,\n",
    "            address as token_address,\n",
    "            REPLACE(topics[ORDINAL(2)], '0x000000000000000000000000', '0x') as address,\n",
    "            IF(topics[ORDINAL(1)] = '{MINT_EVENT_HASH}', 'mint', 'burn') as event_name,\n",
    "            safe_cast(data AS float64) as value\n",
    "        FROM `bigquery-public-data.crypto_ethereum.logs`\n",
    "        WHERE block_timestamp >= '{INITIAL_TS}'\n",
    "          AND block_timestamp <= '{SNAPSHOT_TS}'\n",
    "          AND address IN {erc20_tokens_addresses_tuple}\n",
    "          AND topics[ORDINAL(1)] IN ('{MINT_EVENT_HASH}', '{BURN_EVENT_HASH}')\n",
    "    ),\n",
    "    token_transfers AS (\n",
    "        SELECT\n",
    "            token_address,\n",
    "            address,\n",
    "            sum(value) as balance\n",
    "        FROM (\n",
    "            SELECT\n",
    "                token_address,\n",
    "                address,\n",
    "                IF((mint_value > COALESCE(transfer_value, 0) * 1.01) OR (mint_value < COALESCE(transfer_value, 0) * 0.99), mint_value, 0) as value\n",
    "            FROM (\n",
    "                SELECT\n",
    "                    transaction_hash,\n",
    "                    token_address,\n",
    "                    address,\n",
    "                    sum(value) as mint_value\n",
    "                FROM mint_burn\n",
    "                WHERE event_name = 'mint'\n",
    "                GROUP BY transaction_hash, token_address, address\n",
    "                )\n",
    "            LEFT JOIN (\n",
    "                SELECT\n",
    "                    transaction_hash,\n",
    "                    token_address,\n",
    "                    address,\n",
    "                    sum(value) as transfer_value\n",
    "                FROM incoming_transfers\n",
    "                GROUP BY transaction_hash, token_address, address\n",
    "                )\n",
    "            USING (transaction_hash, token_address, address)\n",
    "\n",
    "            UNION ALL\n",
    "\n",
    "            SELECT\n",
    "                token_address,\n",
    "                address,\n",
    "                value\n",
    "            FROM incoming_transfers\n",
    "\n",
    "            UNION ALL\n",
    "\n",
    "            SELECT\n",
    "                token_address,\n",
    "                address,\n",
    "                value\n",
    "            FROM outgoing_transfers\n",
    "\n",
    "            UNION ALL\n",
    "\n",
    "            SELECT\n",
    "                token_address,\n",
    "                address,\n",
    "                IF((burn_value < COALESCE(transfer_value, 0)*1.01) OR (burn_value > COALESCE(transfer_value, 0)*0.99), burn_value, 0) as value\n",
    "            FROM (\n",
    "                SELECT\n",
    "                    transaction_hash,\n",
    "                    token_address,\n",
    "                    address,\n",
    "                    - sum(value) as burn_value\n",
    "                FROM mint_burn\n",
    "                WHERE event_name = 'burn'\n",
    "                GROUP BY transaction_hash, token_address, address\n",
    "                )\n",
    "            LEFT JOIN (\n",
    "                SELECT\n",
    "                    transaction_hash,\n",
    "                    token_address,\n",
    "                    address,\n",
    "                    sum(value) as transfer_value\n",
    "                FROM outgoing_transfers\n",
    "                GROUP BY transaction_hash, token_address, address\n",
    "                )\n",
    "            USING (transaction_hash, token_address, address)\n",
    "                )\n",
    "        GROUP BY token_address, address\n",
    "    )\n",
    "    SELECT\n",
    "        token_address,\n",
    "        token_transfers.address as address,\n",
    "        balance,\n",
    "        token_metadata.eth_price as eth_price,\n",
    "        token_metadata.decimals as decimals,\n",
    "        balance * token_metadata.eth_price / pow(10, token_metadata.decimals) as eth_balance\n",
    "    FROM token_transfers\n",
    "    LEFT JOIN `{PROJECT_ID}.{ERC20_ANALYSIS_DATASET_NAME}.{ERC20_TOKEN_METADATA_TABLE_NAME}` as token_metadata\n",
    "    ON token_transfers.token_address = token_metadata.address\n",
    "'''\n",
    "\n",
    "if DROP_TABLES:\n",
    "    drop_table(table_name=ERC20_ROW_BALANCES_TABLE_NAME,\n",
    "               dataset_name=ERC20_ANALYSIS_DATASET_NAME)\n",
    "\n",
    "if CREATE_TABLES:\n",
    "    create_table(query=query_1,\n",
    "                 table_name=ERC20_ROW_BALANCES_TABLE_NAME,\n",
    "                 dataset_name=ERC20_ANALYSIS_DATASET_NAME)"
   ],
   "metadata": {
    "collapsed": false,
    "pycharm": {
     "name": "#%%\n"
    }
   }
  },
  {
   "cell_type": "markdown",
   "source": [
    "## Check Token Balances"
   ],
   "metadata": {
    "collapsed": false,
    "pycharm": {
     "name": "#%% md\n"
    }
   }
  },
  {
   "cell_type": "code",
   "execution_count": 6,
   "outputs": [
    {
     "name": "stdout",
     "output_type": "stream",
     "text": [
      "Total addresses with negative balance 100,557\n",
      "Total addresses with this tokens 516,244\n"
     ]
    },
    {
     "data": {
      "text/plain": "                                token_address  eth_positive_balances  \\\n0  0xc011a73ee8576fb46f5e1c5751ca3b9fe0af2a6f           1.140657e+06   \n1  0xe41d2489571d322189246dafa5ebde1f4699f498           6.389985e+05   \n2  0xd46ba6d942050d489dbd938a2c909a5d5039a161           1.115285e+05   \n3  0x0000000000085d4780b73119b644ae5ecd22b376           2.139586e+05   \n4  0x57ab1ec28d129707052df4df418d58a2d46d5f51           6.695209e+04   \n5  0x1ceb5cb57c4d4e2b2433641b95dd330a33185a44           2.517757e+04   \n6  0x674c6ad92fd080e4004b2312b45f796a192d27a0           7.226038e+04   \n7  0xe48972fcd82a274411c01834e2f031d4377fa2c0           1.445968e+04   \n8  0x0000000000b3f879cb30fe243b4dfee438691c04           2.890115e+03   \n\n   eth_negative_balances  number_positive_balances  number_zero_balances  \\\n0           1.140657e+06                     78951                133030   \n1           6.389985e+05                    206153                433847   \n2           9.152853e+04                     49934                 18366   \n3           6.178933e+04                     52676                128620   \n4           6.922486e+02                     13566                 15516   \n5           3.879091e+02                      8302                 16011   \n6           2.206693e+01                       980                  1088   \n7           1.445968e+04                      4245                  3595   \n8           2.890115e+03                       880                  1001   \n\n   number_negative_balances  \n0                     25179  \n1                     24318  \n2                     22816  \n3                     16026  \n4                      6071  \n5                      3133  \n6                      1973  \n7                       536  \n8                       505  ",
      "text/html": "<div>\n<style scoped>\n    .dataframe tbody tr th:only-of-type {\n        vertical-align: middle;\n    }\n\n    .dataframe tbody tr th {\n        vertical-align: top;\n    }\n\n    .dataframe thead th {\n        text-align: right;\n    }\n</style>\n<table border=\"1\" class=\"dataframe\">\n  <thead>\n    <tr style=\"text-align: right;\">\n      <th></th>\n      <th>token_address</th>\n      <th>eth_positive_balances</th>\n      <th>eth_negative_balances</th>\n      <th>number_positive_balances</th>\n      <th>number_zero_balances</th>\n      <th>number_negative_balances</th>\n    </tr>\n  </thead>\n  <tbody>\n    <tr>\n      <th>0</th>\n      <td>0xc011a73ee8576fb46f5e1c5751ca3b9fe0af2a6f</td>\n      <td>1.140657e+06</td>\n      <td>1.140657e+06</td>\n      <td>78951</td>\n      <td>133030</td>\n      <td>25179</td>\n    </tr>\n    <tr>\n      <th>1</th>\n      <td>0xe41d2489571d322189246dafa5ebde1f4699f498</td>\n      <td>6.389985e+05</td>\n      <td>6.389985e+05</td>\n      <td>206153</td>\n      <td>433847</td>\n      <td>24318</td>\n    </tr>\n    <tr>\n      <th>2</th>\n      <td>0xd46ba6d942050d489dbd938a2c909a5d5039a161</td>\n      <td>1.115285e+05</td>\n      <td>9.152853e+04</td>\n      <td>49934</td>\n      <td>18366</td>\n      <td>22816</td>\n    </tr>\n    <tr>\n      <th>3</th>\n      <td>0x0000000000085d4780b73119b644ae5ecd22b376</td>\n      <td>2.139586e+05</td>\n      <td>6.178933e+04</td>\n      <td>52676</td>\n      <td>128620</td>\n      <td>16026</td>\n    </tr>\n    <tr>\n      <th>4</th>\n      <td>0x57ab1ec28d129707052df4df418d58a2d46d5f51</td>\n      <td>6.695209e+04</td>\n      <td>6.922486e+02</td>\n      <td>13566</td>\n      <td>15516</td>\n      <td>6071</td>\n    </tr>\n    <tr>\n      <th>5</th>\n      <td>0x1ceb5cb57c4d4e2b2433641b95dd330a33185a44</td>\n      <td>2.517757e+04</td>\n      <td>3.879091e+02</td>\n      <td>8302</td>\n      <td>16011</td>\n      <td>3133</td>\n    </tr>\n    <tr>\n      <th>6</th>\n      <td>0x674c6ad92fd080e4004b2312b45f796a192d27a0</td>\n      <td>7.226038e+04</td>\n      <td>2.206693e+01</td>\n      <td>980</td>\n      <td>1088</td>\n      <td>1973</td>\n    </tr>\n    <tr>\n      <th>7</th>\n      <td>0xe48972fcd82a274411c01834e2f031d4377fa2c0</td>\n      <td>1.445968e+04</td>\n      <td>1.445968e+04</td>\n      <td>4245</td>\n      <td>3595</td>\n      <td>536</td>\n    </tr>\n    <tr>\n      <th>8</th>\n      <td>0x0000000000b3f879cb30fe243b4dfee438691c04</td>\n      <td>2.890115e+03</td>\n      <td>2.890115e+03</td>\n      <td>880</td>\n      <td>1001</td>\n      <td>505</td>\n    </tr>\n  </tbody>\n</table>\n</div>"
     },
     "execution_count": 6,
     "metadata": {},
     "output_type": "execute_result"
    }
   ],
   "source": [
    "query_2 = f'''\n",
    "    SELECT\n",
    "        token_address,\n",
    "        SUM(IF(balance > 0, eth_balance, 0)) as eth_positive_balances,\n",
    "        SUM(IF(balance < 0, - eth_balance, 0)) as eth_negative_balances,\n",
    "        COUNTIF(balance > 0) as number_positive_balances,\n",
    "        COUNTIF(balance = 0) as number_zero_balances,\n",
    "        COUNTIF(balance < 0) as number_negative_balances\n",
    "     FROM `{PROJECT_ID}.{ERC20_ANALYSIS_DATASET_NAME}.{ERC20_ROW_BALANCES_TABLE_NAME}`\n",
    "     GROUP BY token_address\n",
    "     HAVING eth_negative_balances > 0.01\n",
    "        AND number_negative_balances > 5\n",
    "     ORDER BY number_negative_balances DESC\n",
    "'''\n",
    "negative_balances_df = get_df(query_2)\n",
    "print(f'Total addresses with negative balance {sum(negative_balances_df.number_negative_balances):>,}')\n",
    "print(f'Total addresses with this tokens {sum(negative_balances_df.number_negative_balances) + sum(negative_balances_df.number_positive_balances):>,}')\n",
    "negative_balances_df"
   ],
   "metadata": {
    "collapsed": false,
    "pycharm": {
     "name": "#%%\n"
    }
   }
  },
  {
   "cell_type": "markdown",
   "source": [
    "## Revise Token Balances"
   ],
   "metadata": {
    "collapsed": false,
    "pycharm": {
     "name": "#%% md\n"
    }
   }
  },
  {
   "cell_type": "code",
   "execution_count": 7,
   "outputs": [],
   "source": [
    "revise_token_list = tuple(negative_balances_df['token_address'].values)\n",
    "revised_balances_df = pd.DataFrame(columns=('address', 'token_address', 'balance'))\n",
    "\n",
    "for revise_token in tqdm_notebook(revise_token_list):\n",
    "    print(erc20_tokens_inverse_dict[revise_token], revise_token)\n",
    "    balances_df = get_balances(token_address=revise_token, threads_number=15)\n",
    "    revised_balances_df = revised_balances_df.append(balances_df)\n",
    "    balances_df.to_csv('data/balances_'+erc20_tokens_inverse_dict[revise_token]+'.csv')\n",
    "\n",
    "revised_balances_df = revised_balances_df.astype({'balance': 'float'})"
   ],
   "metadata": {
    "collapsed": false,
    "pycharm": {
     "name": "#%%\n"
    }
   }
  },
  {
   "cell_type": "code",
   "execution_count": 8,
   "outputs": [],
   "source": [
    "if CREATE_TABLES:\n",
    "    create_table_from_df(source_df=revised_balances_df,\n",
    "                         table_name=ERC20_REVISED_BALANCES_TABLE_NAME,\n",
    "                         dataset_name=ERC20_ANALYSIS_DATASET_NAME)"
   ],
   "metadata": {
    "collapsed": false,
    "pycharm": {
     "name": "#%%\n"
    }
   }
  },
  {
   "cell_type": "code",
   "execution_count": 9,
   "outputs": [
    {
     "name": "stdout",
     "output_type": "stream",
     "text": [
      "Table erc20_analysis:erc20_balances has been deleted.\n",
      "Table erc20_analysis:erc20_balances has been created and filled 28,774,828 rows.\n"
     ]
    }
   ],
   "source": [
    "revise_token_list = tuple(negative_balances_df['token_address'].values)\n",
    "query_3 = f'''\n",
    "    WITH balances as (\n",
    "        SELECT\n",
    "            address,\n",
    "            token_address,\n",
    "            balance\n",
    "        FROM `{PROJECT_ID}.{ERC20_ANALYSIS_DATASET_NAME}.{ERC20_REVISED_BALANCES_TABLE_NAME}`\n",
    "        WHERE token_address IN {tuple(revise_token_list)}\n",
    "\n",
    "        UNION ALL\n",
    "\n",
    "        SELECT\n",
    "            address,\n",
    "            token_address,\n",
    "            balance\n",
    "        FROM `{PROJECT_ID}.{ERC20_ANALYSIS_DATASET_NAME}.{ERC20_ROW_BALANCES_TABLE_NAME}`\n",
    "        WHERE token_address NOT IN {tuple(revise_token_list)}\n",
    "           OR balance = 0\n",
    "    )\n",
    "    SELECT\n",
    "        token_address,\n",
    "        balances.address as address,\n",
    "        balance,\n",
    "        token_metadata.eth_price as eth_price,\n",
    "        token_metadata.decimals as decimals,\n",
    "        balance * token_metadata.eth_price / pow(10, token_metadata.decimals) as eth_balance\n",
    "    FROM balances\n",
    "    LEFT JOIN `{PROJECT_ID}.{ERC20_ANALYSIS_DATASET_NAME}.{ERC20_TOKEN_METADATA_TABLE_NAME}`  as token_metadata\n",
    "    ON balances.token_address = token_metadata.address\n",
    "'''\n",
    "\n",
    "if DROP_TABLES:\n",
    "    drop_table(table_name=ERC20_BALANCES_TABLE_NAME,\n",
    "               dataset_name=ERC20_ANALYSIS_DATASET_NAME)\n",
    "\n",
    "if CREATE_TABLES:\n",
    "    create_table(query=query_3,\n",
    "                 table_name=ERC20_BALANCES_TABLE_NAME,\n",
    "                 dataset_name=ERC20_ANALYSIS_DATASET_NAME)"
   ],
   "metadata": {
    "collapsed": false,
    "pycharm": {
     "name": "#%%\n"
    }
   }
  },
  {
   "cell_type": "markdown",
   "source": [
    "## Get Stablecoin Lovers"
   ],
   "metadata": {
    "collapsed": false,
    "pycharm": {
     "name": "#%% md\n"
    }
   }
  },
  {
   "cell_type": "code",
   "execution_count": 10,
   "outputs": [
    {
     "name": "stdout",
     "output_type": "stream",
     "text": [
      "Table erc20_analysis:stablecoins_lovers has been deleted.\n",
      "Table erc20_analysis:stablecoins_lovers has been created and filled 156,764 rows.\n"
     ]
    }
   ],
   "source": [
    "query_4 = f'''\n",
    "    WITH erc20_balances AS (\n",
    "        SELECT\n",
    "            address,\n",
    "            sum(selected_erc20_balance) as sum_selected_erc20_balance,\n",
    "            sum(stablecoin_balance) as sum_stablecoin_balance\n",
    "        FROM (\n",
    "            SELECT\n",
    "                address,\n",
    "                if(token_address IN {investors_erc20_tokens_addresses_tuple + cyberpunks_erc20_tokens_addresses_tuple}, eth_balance, 0) as selected_erc20_balance,\n",
    "                if(token_address IN {stablecoins_erc20_tokens_addresses_tuple}, eth_balance, 0) as stablecoin_balance\n",
    "            FROM `{PROJECT_ID}.{ERC20_ANALYSIS_DATASET_NAME}.{ERC20_BALANCES_TABLE_NAME}`)\n",
    "        GROUP BY address\n",
    "        HAVING sum_stablecoin_balance > sum_selected_erc20_balance\n",
    "           AND sum_stablecoin_balance > 0.1),\n",
    "    eth_balances AS (\n",
    "        SELECT\n",
    "            address,\n",
    "            eth_balance\n",
    "        FROM `{PROJECT_ID}.{ETH_ANALYSIS_DATASET_NAME}.{ETH_ANALYSIS_DISTRIBUTION_TABLE_NAME}`\n",
    "    )\n",
    "    SELECT\n",
    "        address,\n",
    "        sum_selected_erc20_balance,\n",
    "        sum_stablecoin_balance,\n",
    "        eth_balance\n",
    "    FROM erc20_balances\n",
    "    LEFT JOIN eth_balances\n",
    "    USING (address)\n",
    "    WHERE sum_stablecoin_balance > sum_selected_erc20_balance + eth_balance\n",
    "'''\n",
    "\n",
    "if DROP_TABLES:\n",
    "    drop_table(table_name=STABLECOINS_LOVERS_TABLE_NAME,\n",
    "               dataset_name=ERC20_ANALYSIS_DATASET_NAME)\n",
    "\n",
    "if CREATE_TABLES:\n",
    "    create_table(query=query_4,\n",
    "                 table_name=STABLECOINS_LOVERS_TABLE_NAME,\n",
    "                 dataset_name=ERC20_ANALYSIS_DATASET_NAME)"
   ],
   "metadata": {
    "collapsed": false,
    "pycharm": {
     "name": "#%%\n"
    }
   }
  },
  {
   "cell_type": "markdown",
   "source": [
    "### Analysis of Grade Boundaries. ERC20 balance"
   ],
   "metadata": {
    "collapsed": false,
    "pycharm": {
     "name": "#%% md\n"
    }
   }
  },
  {
   "cell_type": "code",
   "execution_count": 11,
   "outputs": [],
   "source": [
    "query_5 = f'''\n",
    "    SELECT\n",
    "        if(round(sum_eth_balance, 1) < 0.1, 0.05, round(sum_eth_balance, 1)) as erc20_balance_class,\n",
    "        count(address) as number_of_addresses\n",
    "    FROM (\n",
    "        SELECT\n",
    "            address,\n",
    "            count(distinct token_address) as number_of_tokens,\n",
    "            sum(eth_balance) as sum_eth_balance\n",
    "        FROM `{PROJECT_ID}.{ERC20_ANALYSIS_DATASET_NAME}.{ERC20_BALANCES_TABLE_NAME}`\n",
    "        WHERE balance > {initial_boundary}\n",
    "            AND token_address IN {investors_erc20_tokens_addresses_tuple}\n",
    "        GROUP BY address\n",
    "        HAVING number_of_tokens >= {investors_min_number_of_tokens}\n",
    "           AND sum_eth_balance > {initial_boundary})\n",
    "    GROUP BY erc20_balance_class\n",
    "    HAVING erc20_balance_class > 0\n",
    "'''\n",
    "distribution_by_erc20_balance_df = get_df(query_5)"
   ],
   "metadata": {
    "collapsed": false,
    "pycharm": {
     "name": "#%%\n"
    }
   }
  },
  {
   "cell_type": "code",
   "execution_count": 12,
   "outputs": [
    {
     "name": "stdout",
     "output_type": "stream",
     "text": [
      "Suggestion of Rules: \n",
      "\n"
     ]
    },
    {
     "data": {
      "text/plain": "<IPython.core.display.HTML object>",
      "text/html": "<div>\n<style scoped>\n    .dataframe tbody tr th:only-of-type {\n        vertical-align: middle;\n    }\n\n    .dataframe tbody tr th {\n        vertical-align: top;\n    }\n\n    .dataframe thead th {\n        text-align: right;\n    }\n</style>\n<table border=\"1\" class=\"dataframe\">\n  <thead>\n    <tr style=\"text-align: right;\">\n      <th>Grade</th>\n      <th>Rule</th>\n      <th>Addresses</th>\n      <th>Percentage of Addresses</th>\n    </tr>\n  </thead>\n  <tbody>\n    <tr>\n      <td>1</td>\n      <td>0.01 &lt; ERC20 Balance &lt;= 6.0</td>\n      <td>179479</td>\n      <td>88.6</td>\n    </tr>\n    <tr>\n      <td>2</td>\n      <td>6.0 &lt; ERC20 Balance &lt;= 96.0</td>\n      <td>20988</td>\n      <td>10.4</td>\n    </tr>\n    <tr>\n      <td>3</td>\n      <td>96.0 &lt; ERC20 Balance</td>\n      <td>2024</td>\n      <td>1.0</td>\n    </tr>\n  </tbody>\n</table>\n</div>"
     },
     "metadata": {},
     "output_type": "display_data"
    },
    {
     "data": {
      "text/plain": "<Figure size 1440x648 with 1 Axes>",
      "image/png": "[encoded data removed]"
     },
     "metadata": {
      "needs_background": "light"
     },
     "output_type": "display_data"
    }
   ],
   "source": [
    "investors_boundary_erc20_balance = \\\n",
    "    grade_boundaries_analysis(\n",
    "        distribution_df=distribution_by_erc20_balance_df,\n",
    "        value_column = 'erc20_balance_class',\n",
    "        value_chart_label = 'ERC20 Balance by address, Log10',\n",
    "        value_name = 'ERC20 Balance',\n",
    "        value_transform_func=lambda x: log10(x),\n",
    "        chart_title = 'Distribution of ERC20 Balance',\n",
    "        initial_boundary=initial_boundary,\n",
    "        max_show_value=10000,\n",
    "        level_line_shift=0)"
   ],
   "metadata": {
    "collapsed": false,
    "pycharm": {
     "name": "#%%\n"
    }
   }
  },
  {
   "cell_type": "markdown",
   "source": [
    "### Create Distribution Table"
   ],
   "metadata": {
    "collapsed": false,
    "pycharm": {
     "name": "#%% md\n"
    }
   }
  },
  {
   "cell_type": "code",
   "execution_count": 13,
   "outputs": [
    {
     "name": "stdout",
     "output_type": "stream",
     "text": [
      "Table erc20_analysis:erc20_analysis_distribution has been deleted.\n",
      "Table erc20_analysis:erc20_analysis_distribution has been created and filled 237,410 rows.\n"
     ]
    }
   ],
   "source": [
    "query_6 = f'''\n",
    "    SELECT\n",
    "        '{INVESTORS_AUDIENCE}' as audience,\n",
    "        'ERC20 Balance' as segment,\n",
    "        address,\n",
    "        CASE\n",
    "            WHEN sum_eth_balance > {investors_boundary_erc20_balance[2]} THEN 3\n",
    "            WHEN sum_eth_balance > {investors_boundary_erc20_balance[1]} THEN 2\n",
    "            WHEN sum_eth_balance > {investors_boundary_erc20_balance[0]} THEN 1\n",
    "        END\n",
    "        AS grade,\n",
    "        sum_eth_balance,\n",
    "        number_of_tokens\n",
    "    FROM (\n",
    "        SELECT\n",
    "            address,\n",
    "            count(distinct token_address) as number_of_tokens,\n",
    "            sum(eth_balance) as sum_eth_balance\n",
    "        FROM `{PROJECT_ID}.{ERC20_ANALYSIS_DATASET_NAME}.{ERC20_BALANCES_TABLE_NAME}`\n",
    "        WHERE balance > 0\n",
    "          AND token_address IN {investors_erc20_tokens_addresses_tuple}\n",
    "        GROUP BY address)\n",
    "    WHERE number_of_tokens >= {investors_min_number_of_tokens}\n",
    "\n",
    "    UNION ALL\n",
    "\n",
    "    SELECT\n",
    "        '{CYBERPUNKS_AUDIENCE}' as audience,\n",
    "        'Owners of the Selected ERC20 Tokens' as segment,\n",
    "        address,\n",
    "        3 AS grade,\n",
    "        sum_eth_balance,\n",
    "        number_of_tokens\n",
    "    FROM (\n",
    "        SELECT\n",
    "            address,\n",
    "            count(distinct token_address) as number_of_tokens,\n",
    "            sum(eth_balance) as sum_eth_balance\n",
    "        FROM `{PROJECT_ID}.{ERC20_ANALYSIS_DATASET_NAME}.{ERC20_BALANCES_TABLE_NAME}`\n",
    "        WHERE balance > 0\n",
    "          AND token_address IN {cyberpunks_erc20_tokens_addresses_tuple}\n",
    "        GROUP BY address)\n",
    "'''\n",
    "\n",
    "if DROP_TABLES:\n",
    "    drop_table(table_name=ERC20_ANALYSIS_DISTRIBUTION_TABLE_NAME,\n",
    "               dataset_name=ERC20_ANALYSIS_DATASET_NAME)\n",
    "\n",
    "if CREATE_TABLES:\n",
    "    create_table(query=query_6,\n",
    "                 table_name=ERC20_ANALYSIS_DISTRIBUTION_TABLE_NAME,\n",
    "                 dataset_name=ERC20_ANALYSIS_DATASET_NAME)\n"
   ],
   "metadata": {
    "collapsed": false,
    "pycharm": {
     "name": "#%%\n"
    }
   }
  },
  {
   "cell_type": "code",
   "execution_count": null,
   "outputs": [],
   "source": [],
   "metadata": {
    "collapsed": false,
    "pycharm": {
     "name": "#%%\n"
    }
   }
  }
 ],
 "metadata": {
  "kernelspec": {
   "display_name": "Python 3",
   "language": "python",
   "name": "python3"
  },
  "language_info": {
   "codemirror_mode": {
    "name": "ipython",
    "version": 2
   },
   "file_extension": ".py",
   "mimetype": "text/x-python",
   "name": "python",
   "nbconvert_exporter": "python",
   "pygments_lexer": "ipython2",
   "version": "2.7.6"
  }
 },
 "nbformat": 4,
 "nbformat_minor": 0
}