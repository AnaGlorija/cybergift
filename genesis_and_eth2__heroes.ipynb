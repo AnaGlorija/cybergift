{
 "cells": [
  {
   "cell_type": "markdown",
   "metadata": {
    "collapsed": true,
    "pycharm": {
     "name": "#%% md\n"
    }
   },
   "source": [
    "## True Heroes of the Great Web. Genesis and ETH2 Stakers"
   ]
  },
  {
   "cell_type": "code",
   "execution_count": 1,
   "outputs": [],
   "source": [
    "from config import INITIAL_TS, SNAPSHOT_TS, \\\n",
    "    GENESIS_AND_ETH2_DATASET_NAME, GENESIS_AND_ETH2_DISTRIBUTION_TABLE_NAME\n",
    "from src.utils_bigquery import drop_table, create_table\n",
    "\n",
    "DROP_TABLES = True\n",
    "CREATE_TABLES = True"
   ],
   "metadata": {
    "collapsed": false,
    "pycharm": {
     "name": "#%%\n"
    }
   }
  },
  {
   "cell_type": "markdown",
   "source": [
    "### Distribution Rule\n",
    "<table style=\"text-align: center\">\n",
    "    <thead style=\"text-align: center\">\n",
    "        <tr>\n",
    "            <th rowspan=2></th>\n",
    "            <th colspan=3>Grade</th>\n",
    "        </tr>\n",
    "        <tr>\n",
    "            <th>1</th>\n",
    "            <th>2</th>\n",
    "            <th>3</th>\n",
    "        </tr>\n",
    "    </thead>\n",
    "    <tbody>\n",
    "        <tr>\n",
    "            <td style=\"text-align: left\"> Genesis </td>\n",
    "            <td> - </td>\n",
    "            <td> - </td>\n",
    "            <td> only here </td>\n",
    "        </tr>\n",
    "        <tr>\n",
    "            <td style=\"text-align: left\"> ETH 2.0 Stakers </td>\n",
    "            <td> - </td>\n",
    "            <td> - </td>\n",
    "            <td> only here </td>\n",
    "        </tr>\n",
    "    </tbody>\n",
    "</table>\n",
    "\n",
    "### Genesis and ETH 2.0 Stakers"
   ],
   "metadata": {
    "collapsed": false,
    "pycharm": {
     "name": "#%% md\n"
    }
   }
  },
  {
   "cell_type": "code",
   "execution_count": 2,
   "outputs": [
    {
     "name": "stdout",
     "output_type": "stream",
     "text": [
      "Table genesis_and_eth2_stakers:genesis_and_eth2_stakers_distribution has been deleted.\n",
      "Table genesis_and_eth2_stakers:genesis_and_eth2_stakers_distribution has been created and filled 18679 rows.\n"
     ]
    }
   ],
   "source": [
    "ETH2_STAKE_CONTRACT_ADDRESS = '0x00000000219ab540356cbb839cbe05303d7705fa'\n",
    "ETH2_STAKE_START_TS = '2020-11-03 00:00:00'\n",
    "\n",
    "query_1 = f'''\n",
    "    WITH traces AS (\n",
    "       SELECT\n",
    "          transaction_hash,\n",
    "          value\n",
    "       FROM `bigquery-public-data.crypto_ethereum.traces`\n",
    "       WHERE block_timestamp >= '{ETH2_STAKE_START_TS}'\n",
    "         AND value >= 1e18\n",
    "         AND status = 1\n",
    "         AND to_address = '{ETH2_STAKE_CONTRACT_ADDRESS}'\n",
    "    )\n",
    "    SELECT\n",
    "       'ETH 2.0 Staker' as segment,\n",
    "       address,\n",
    "       3 as grade,\n",
    "       sum(value)/1e18 as sum_value\n",
    "    FROM (\n",
    "       SELECT\n",
    "          traces.transaction_hash as transaction_hash,\n",
    "          traces.value as value,\n",
    "          transactions.from_address as address\n",
    "       FROM traces\n",
    "       INNER JOIN `bigquery-public-data.crypto_ethereum.transactions` as transactions\n",
    "       ON traces.transaction_hash = transactions.hash\n",
    "       WHERE transactions.block_timestamp >= '{ETH2_STAKE_START_TS}'\n",
    "         AND transactions.block_timestamp >= '{INITIAL_TS}'\n",
    "         AND transactions.block_timestamp <= '{SNAPSHOT_TS}')\n",
    "    GROUP BY address\n",
    "\n",
    "    UNION ALL\n",
    "\n",
    "    SELECT\n",
    "        'Genesis' as segment,\n",
    "        to_address as address,\n",
    "        3 as grade,\n",
    "        sum(value)/1e18 as sum_value\n",
    "    FROM `bigquery-public-data.crypto_ethereum.traces`\n",
    "    WHERE block_timestamp < '2015-08-01 00:00:00'\n",
    "      AND block_number=0\n",
    "      AND trace_type='genesis'\n",
    "    GROUP BY address\n",
    "'''\n",
    "\n",
    "if DROP_TABLES:\n",
    "    drop_table(table_name=GENESIS_AND_ETH2_DISTRIBUTION_TABLE_NAME,\n",
    "               dataset_name=GENESIS_AND_ETH2_DATASET_NAME)\n",
    "\n",
    "if CREATE_TABLES:\n",
    "    create_table(query=query_1,\n",
    "                 table_name=GENESIS_AND_ETH2_DISTRIBUTION_TABLE_NAME,\n",
    "                 dataset_name=GENESIS_AND_ETH2_DATASET_NAME)"
   ],
   "metadata": {
    "collapsed": false,
    "pycharm": {
     "name": "#%%\n"
    }
   }
  },
  {
   "cell_type": "code",
   "execution_count": 2,
   "outputs": [],
   "source": [],
   "metadata": {
    "collapsed": false,
    "pycharm": {
     "name": "#%%\n"
    }
   }
  }
 ],
 "metadata": {
  "kernelspec": {
   "display_name": "Python 3",
   "language": "python",
   "name": "python3"
  },
  "language_info": {
   "codemirror_mode": {
    "name": "ipython",
    "version": 2
   },
   "file_extension": ".py",
   "mimetype": "text/x-python",
   "name": "python",
   "nbconvert_exporter": "python",
   "pygments_lexer": "ipython2",
   "version": "2.7.6"
  }
 },
 "nbformat": 4,
 "nbformat_minor": 0
}