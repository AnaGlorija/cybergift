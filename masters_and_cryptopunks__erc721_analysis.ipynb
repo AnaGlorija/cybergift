{
 "cells": [
  {
   "cell_type": "markdown",
   "source": [
    "## Masters of the Great Web and Cyberpunks. ERC721 Analysis"
   ],
   "metadata": {
    "collapsed": false,
    "pycharm": {
     "name": "#%% md\n"
    }
   }
  },
  {
   "cell_type": "code",
   "execution_count": 1,
   "outputs": [],
   "source": [
    "import pandas as pd\n",
    "\n",
    "from config import ETHERSCAN_NFT_CSV_NAME, PROJECT_ID, INITIAL_TS, SNAPSHOT_TS, \\\n",
    "    ERC721_ANALYSIS_DATASET_NAME, ERC721_AMOUNT_TABLE_NAME, ERC721_ANALYSIS_DISTRIBUTION_TABLE_NAME, \\\n",
    "    ERC721_NFT_TOKEN_TABLE_NAME, ERC721_TOKEN_TABLE_NAME, MASTERS_AUDIENCE, \\\n",
    "    CRYPTOPUNKS_AUDIENCE\n",
    "from src.utils_bigquery import drop_table, create_table, get_df, create_table_from_df\n",
    "from src.utils_charts import grade_boundaries_analysis\n",
    "from src.extractors import extract_nft_tokens\n",
    "\n",
    "EXTRACT_NFT = False\n",
    "DROP_TABLES = True\n",
    "CREATE_TABLES = True"
   ],
   "metadata": {
    "collapsed": false,
    "pycharm": {
     "name": "#%%\n"
    }
   }
  },
  {
   "cell_type": "markdown",
   "metadata": {
    "collapsed": true,
    "pycharm": {
     "name": "#%% md\n"
    }
   },
   "source": [
    "### Distribution Rule. Masters of the Great Web\n",
    "\n",
    "<table style=\"text-align: left\">\n",
    "    <thead style=\"text-align: center\">\n",
    "        <tr>\n",
    "            <th rowspan=2></th>\n",
    "            <th colspan=3>Grade</th>\n",
    "        </tr>\n",
    "        <tr>\n",
    "            <th>1</th>\n",
    "            <th>2</th>\n",
    "            <th>3</th>\n",
    "        </tr>\n",
    "    </thead>\n",
    "    <tbody>\n",
    "        <tr>\n",
    "            <td style=\"text-align: left\"> Amount of ERC721 tokens </td>\n",
    "            <td style=\"text-align: center\"> > 0 NFT </td>\n",
    "            <td style=\"text-align: center\"> > 7 NFT </td>\n",
    "            <td style=\"text-align: center\"> > 186 NFT </td>\n",
    "        </tr>\n",
    "        <tr>\n",
    "            <td style=\"text-align: left\"> Owners of the Selected ERC721 tokens </td>\n",
    "            <td style=\"text-align: center\"> - </td>\n",
    "            <td style=\"text-align: center\"> ENS </td>\n",
    "            <td style=\"text-align: center\"> Gitcoin Kudos or LAND </td>\n",
    "        </tr>\n",
    "        <tr>\n",
    "            <td style=\"text-align: left\"> Fee spending to contracts<sup>1</sup>, by contract creators, ETH </td>\n",
    "            <td style=\"text-align: center\"> > 0 ETH </td>\n",
    "            <td style=\"text-align: center\"> > 0.005 ETH </td>\n",
    "            <td style=\"text-align: center\"> > 0.7557 ETH </td>\n",
    "        </tr>\n",
    "    </tbody>\n",
    "</table>\n",
    "\n",
    "<sup>1</sup> including contracts created by factories only\n",
    "\n",
    "\n",
    "### Distribution Rule. Cyberpunks\n",
    "\n",
    "<table style=\"text-align: left\">\n",
    "    <thead style=\"text-align: center\">\n",
    "        <tr>\n",
    "            <th rowspan=2></th>\n",
    "            <th colspan=3>Grade</th>\n",
    "        </tr>\n",
    "        <tr>\n",
    "            <th>1</th>\n",
    "            <th>2</th>\n",
    "            <th>3</th>\n",
    "        </tr>\n",
    "    </thead>\n",
    "    <tbody>\n",
    "        <tr>\n",
    "            <td style=\"text-align: left\"> Owners of the Selected ERC721 tokens </td>\n",
    "            <td style=\"text-align: center\"> - </td>\n",
    "            <td style=\"text-align: center\"> - </td>\n",
    "            <td style=\"text-align: center\"> Unicorns, DRAGON or Cryptopunks </td>\n",
    "        </tr>\n",
    "    </tbody>\n",
    "</table>"
   ]
  },
  {
   "cell_type": "code",
   "execution_count": 2,
   "outputs": [],
   "source": [
    "min_number_of_tokens = 0\n",
    "boundary_erc721_amount = [0, 7, 186]\n",
    "\n",
    "erc721_tokens_manual_grade_2_dict = {\n",
    "    'ENS': '0x57f1887a8bf19b14fc0df6fd9b2acc9af147ea85'}\n",
    "erc721_tokens_manual_grade_3_dict = {\n",
    "    'Gitcoin Kudos': '0x2aea4add166ebf38b63d09a75de1a7b94aa24163',\n",
    "    'LAND': '0xf87e31492faf9a91b02ee0deaad50d51d56d5d4d'}\n",
    "erc721_tokens_manual_cryptopunks_dict = {\n",
    "    'Unicorns': '0x89205a3a3b2a69de6dbf7f01ed13b2108b2c43e7',\n",
    "    'DRAGON': '0x960f401aed58668ef476ef02b2a2d43b83c261d8',\n",
    "    'Cryptopunks': '0xb47e3cd837ddf8e4c57f05d70ab865de6e193bbb'}"
   ],
   "metadata": {
    "collapsed": false,
    "pycharm": {
     "name": "#%%\n"
    }
   }
  },
  {
   "cell_type": "markdown",
   "source": [
    "### Set Token Data"
   ],
   "metadata": {
    "collapsed": false
   }
  },
  {
   "cell_type": "code",
   "execution_count": 3,
   "outputs": [],
   "source": [
    "# Get NFT list from Etherscan\n",
    "if EXTRACT_NFT:\n",
    "    extract_nft_tokens()\n",
    "\n",
    "nft_tokens_df = pd.read_csv(ETHERSCAN_NFT_CSV_NAME, index_col=0)\n",
    "\n",
    "erc721_tokens_manual_grade_2_tuple_str = str(tuple(erc721_tokens_manual_grade_2_dict.values())).replace(',)', ')')\n",
    "erc721_tokens_manual_grade_3_tuple_str = str(tuple(erc721_tokens_manual_grade_3_dict.values())).replace(',)', ')')\n",
    "erc721_tokens_manual_cryptopunks_tuple_str = str(tuple(erc721_tokens_manual_cryptopunks_dict.values())).replace(',)', ')')"
   ],
   "metadata": {
    "collapsed": false,
    "pycharm": {
     "name": "#%%\n"
    }
   }
  },
  {
   "cell_type": "markdown",
   "source": [
    "### Create NFT Token Table"
   ],
   "metadata": {
    "collapsed": false,
    "pycharm": {
     "name": "#%% md\n"
    }
   }
  },
  {
   "cell_type": "code",
   "execution_count": 4,
   "outputs": [
    {
     "name": "stdout",
     "output_type": "stream",
     "text": [
      "Table erc721_analysis:nft_tokens has been deleted.\n"
     ]
    }
   ],
   "source": [
    "if CREATE_TABLES:\n",
    "    create_table_from_df(source_df=nft_tokens_df,\n",
    "                         table_name=ERC721_NFT_TOKEN_TABLE_NAME,\n",
    "                         dataset_name=ERC721_ANALYSIS_DATASET_NAME,\n",
    "                         drop_existing_table=DROP_TABLES)"
   ],
   "metadata": {
    "collapsed": false,
    "pycharm": {
     "name": "#%%\n"
    }
   }
  },
  {
   "cell_type": "markdown",
   "source": [
    "### Create Aggregated ERC721 Token Table"
   ],
   "metadata": {
    "collapsed": false,
    "pycharm": {
     "name": "#%% md\n"
    }
   }
  },
  {
   "cell_type": "code",
   "execution_count": 5,
   "outputs": [
    {
     "name": "stdout",
     "output_type": "stream",
     "text": [
      "Table erc721_analysis:erc721_tokens has been deleted.\n",
      "Table erc721_analysis:erc721_tokens has been created and filled 12118 rows.\n"
     ]
    }
   ],
   "source": [
    "query_1 = f'''\n",
    "    WITH etherscan_nft_tokens AS (\n",
    "        SELECT\n",
    "            token_name AS name,\n",
    "            token_address AS address,\n",
    "            description,\n",
    "            'etherscan' AS source\n",
    "        FROM `{PROJECT_ID}.{ERC721_ANALYSIS_DATASET_NAME}.{ERC721_NFT_TOKEN_TABLE_NAME}`),\n",
    "    erc721_manual_tokens AS (\n",
    "        SELECT\n",
    "            token.name AS name,\n",
    "            token.address AS address,\n",
    "            'manual' AS source\n",
    "        FROM UNNEST(\n",
    "            [{''.join(f\"STRUCT('{k}' AS name,'{v}' AS address), \" for k,v in {**erc721_tokens_manual_grade_2_dict, **erc721_tokens_manual_grade_3_dict}.items())[:-2]}]\n",
    "            ) as token),\n",
    "    erc721_ethereum_etl_tokens AS (\n",
    "        SELECT\n",
    "            address,\n",
    "            'ethereum_etl' AS source\n",
    "        FROM `bigquery-public-data.crypto_ethereum.contracts`\n",
    "        WHERE is_erc721=True)\n",
    "\n",
    "    SELECT\n",
    "        address,\n",
    "        symbol,\n",
    "        COALESCE(token_names.name, etherscan_and_manual.name) as name,\n",
    "        CASE\n",
    "            WHEN ethereum_etl.source is null THEN etherscan_and_manual.source\n",
    "            WHEN etherscan_and_manual.source is null THEN [ethereum_etl.source]\n",
    "            ELSE array_concat(etherscan_and_manual.source, [ethereum_etl.source])\n",
    "        END as source\n",
    "    FROM (\n",
    "        SELECT\n",
    "            address,\n",
    "            COALESCE(etherscan.name, manual.name) AS name,\n",
    "            IF(COALESCE(etherscan.source, manual.source) = COALESCE(manual.source, etherscan.source),\n",
    "               [COALESCE(etherscan.source, manual.source)],\n",
    "               [COALESCE(etherscan.source, manual.source), COALESCE(manual.source, etherscan.source)]) AS source\n",
    "        FROM etherscan_nft_tokens AS etherscan\n",
    "        FULL OUTER JOIN erc721_manual_tokens as manual\n",
    "        USING (address)\n",
    "        ) as etherscan_and_manual\n",
    "    FULL OUTER JOIN erc721_ethereum_etl_tokens as ethereum_etl\n",
    "    USING (address)\n",
    "    LEFT JOIN (\n",
    "        SELECT\n",
    "            address,\n",
    "            ANY_VALUE(symbol) as symbol,\n",
    "            ANY_VALUE(name) as name\n",
    "        FROM `bigquery-public-data.crypto_ethereum.tokens`\n",
    "        GROUP BY address) as token_names\n",
    "    USING (address)\n",
    "'''\n",
    "\n",
    "if DROP_TABLES:\n",
    "    drop_table(table_name=ERC721_TOKEN_TABLE_NAME,\n",
    "               dataset_name=ERC721_ANALYSIS_DATASET_NAME)\n",
    "\n",
    "if CREATE_TABLES:\n",
    "    create_table(query=query_1,\n",
    "                 table_name=ERC721_TOKEN_TABLE_NAME,\n",
    "                 dataset_name=ERC721_ANALYSIS_DATASET_NAME)"
   ],
   "metadata": {
    "collapsed": false,
    "pycharm": {
     "name": "#%%\n"
    }
   }
  },
  {
   "cell_type": "markdown",
   "source": [
    "### Get Balances"
   ],
   "metadata": {
    "collapsed": false,
    "pycharm": {
     "name": "#%% md\n"
    }
   }
  },
  {
   "cell_type": "code",
   "execution_count": 6,
   "outputs": [
    {
     "name": "stdout",
     "output_type": "stream",
     "text": [
      "Table erc721_analysis:erc721_amounts has been deleted.\n",
      "Table erc721_analysis:erc721_amounts has been created and filled 1303792 rows.\n"
     ]
    }
   ],
   "source": [
    "query_2 = f'''\n",
    "    WITH erc721_transfers as (\n",
    "      SELECT\n",
    "          token_address,\n",
    "          from_address,\n",
    "          to_address,\n",
    "          [from_address, to_address] as addresses\n",
    "      FROM `bigquery-public-data.crypto_ethereum.token_transfers`\n",
    "      WHERE block_timestamp >= '{INITIAL_TS}'\n",
    "        AND block_timestamp <= '{SNAPSHOT_TS}'\n",
    "        AND token_address IN (\n",
    "                SELECT address\n",
    "                FROM `{PROJECT_ID}.{ERC721_ANALYSIS_DATASET_NAME}.{ERC721_TOKEN_TABLE_NAME}`\n",
    "                )\n",
    "      )\n",
    "    SELECT\n",
    "      token_address,\n",
    "      address,\n",
    "      sum(value) as amount\n",
    "    FROM (\n",
    "      SELECT\n",
    "          token_address,\n",
    "          address,\n",
    "          if(address=from_address, -1, 1) as value\n",
    "      FROM erc721_transfers\n",
    "      CROSS JOIN UNNEST(erc721_transfers.addresses) AS address\n",
    "      )\n",
    "    WHERE address != '0x0000000000000000000000000000000000000000'\n",
    "    GROUP BY token_address, address\n",
    "'''\n",
    "\n",
    "if DROP_TABLES:\n",
    "    drop_table(table_name=ERC721_AMOUNT_TABLE_NAME,\n",
    "               dataset_name=ERC721_ANALYSIS_DATASET_NAME)\n",
    "\n",
    "if CREATE_TABLES:\n",
    "    create_table(query=query_2,\n",
    "                 table_name=ERC721_AMOUNT_TABLE_NAME,\n",
    "                 dataset_name=ERC721_ANALYSIS_DATASET_NAME)"
   ],
   "metadata": {
    "collapsed": false,
    "pycharm": {
     "name": "#%%\n"
    }
   }
  },
  {
   "cell_type": "markdown",
   "source": [
    "### Create Distribution Table for ERC721 Tokens"
   ],
   "metadata": {
    "collapsed": false,
    "pycharm": {
     "name": "#%% md\n"
    }
   }
  },
  {
   "cell_type": "code",
   "execution_count": 4,
   "outputs": [
    {
     "name": "stdout",
     "output_type": "stream",
     "text": [
      "Table erc721_analysis:erc721_analysis_distribution has been deleted.\n",
      "Table erc721_analysis:erc721_analysis_distribution has been created and filled 792072 rows.\n"
     ]
    }
   ],
   "source": [
    "query_3 = f'''\n",
    "    WITH erc721_amount AS (\n",
    "        SELECT\n",
    "            address,\n",
    "            count(distinct token_address) as number_of_tokens,\n",
    "            ARRAY_AGG(DISTINCT token_address) as token_list,\n",
    "            sum(amount) as sum_amount\n",
    "        FROM `{PROJECT_ID}.{ERC721_ANALYSIS_DATASET_NAME}.{ERC721_AMOUNT_TABLE_NAME}`\n",
    "        WHERE amount > 0\n",
    "        GROUP BY address)\n",
    "    SELECT\n",
    "        '{MASTERS_AUDIENCE}' as audience,\n",
    "        CASE\n",
    "            WHEN (SELECT COUNT(1) FROM UNNEST(token_list) el WHERE el IN {erc721_tokens_manual_grade_3_tuple_str}) > 0 THEN 'Owners of the Selected ERC721 tokens'\n",
    "            WHEN (SELECT COUNT(1) FROM UNNEST(token_list) el WHERE el IN {erc721_tokens_manual_grade_2_tuple_str}) > 0 AND sum_amount <= {boundary_erc721_amount[2]} THEN 'Owners of the Selected ERC721 tokens'\n",
    "            ELSE 'Owners of ERC721 tokens'\n",
    "        END\n",
    "        AS subtype,\n",
    "        address,\n",
    "        CASE\n",
    "            WHEN sum_amount > {boundary_erc721_amount[2]} OR (SELECT COUNT(1) FROM UNNEST(token_list) el WHERE el IN {erc721_tokens_manual_grade_3_tuple_str}) > 0 THEN 3\n",
    "            WHEN sum_amount > {boundary_erc721_amount[1]} OR (SELECT COUNT(1) FROM UNNEST(token_list) el WHERE el IN {erc721_tokens_manual_grade_2_tuple_str}) > 0 THEN 2\n",
    "            WHEN sum_amount > {boundary_erc721_amount[0]} THEN 1\n",
    "            ELSE null\n",
    "        END\n",
    "        AS grade,\n",
    "        sum_amount,\n",
    "        number_of_tokens\n",
    "    FROM erc721_amount\n",
    "    WHERE number_of_tokens > {min_number_of_tokens}\n",
    "\n",
    "    UNION ALL\n",
    "\n",
    "    SELECT\n",
    "        '{CRYPTOPUNKS_AUDIENCE}' as audience,\n",
    "        'Owners of the Selected ERC721 tokens' as subtype,\n",
    "        address,\n",
    "        3 AS grade,\n",
    "        sum_amount,\n",
    "        number_of_tokens\n",
    "    FROM erc721_amount\n",
    "    WHERE (SELECT COUNT(1) FROM UNNEST(token_list) el WHERE el IN {erc721_tokens_manual_cryptopunks_tuple_str}) > 0\n",
    "'''\n",
    "\n",
    "if DROP_TABLES:\n",
    "    drop_table(table_name=ERC721_ANALYSIS_DISTRIBUTION_TABLE_NAME,\n",
    "               dataset_name=ERC721_ANALYSIS_DATASET_NAME)\n",
    "\n",
    "if CREATE_TABLES:\n",
    "    create_table(query=query_3,\n",
    "                 table_name=ERC721_ANALYSIS_DISTRIBUTION_TABLE_NAME,\n",
    "                 dataset_name=ERC721_ANALYSIS_DATASET_NAME)\n"
   ],
   "metadata": {
    "collapsed": false,
    "pycharm": {
     "name": "#%%\n"
    }
   }
  },
  {
   "cell_type": "markdown",
   "source": [
    "### Create Distribution Table for Spending Fee Analysis\n",
    "Distribution has been calculated in the [Extraordinary Hackers and Masters of the Great Web. Gas Analysis](extraordinary_hackers_and_masters__gas_analysis.ipynb) Jupyter notebook."
   ],
   "metadata": {
    "collapsed": false,
    "pycharm": {
     "name": "#%% md\n"
    }
   }
  },
  {
   "cell_type": "markdown",
   "source": [
    "### Analysis of Grade Boundaries. Amount of ERC721 tokens"
   ],
   "metadata": {
    "collapsed": false,
    "pycharm": {
     "name": "#%% md\n"
    }
   }
  },
  {
   "cell_type": "code",
   "execution_count": 8,
   "outputs": [],
   "source": [
    "query_4 = f'''\n",
    "    WITH amount_agg AS (\n",
    "        SELECT\n",
    "            address,\n",
    "            count(distinct token_address) as number_of_tokens,\n",
    "            sum(amount) as sum_amount\n",
    "        FROM `{PROJECT_ID}.{ERC721_ANALYSIS_DATASET_NAME}.{ERC721_AMOUNT_TABLE_NAME}`\n",
    "        WHERE amount > 0\n",
    "        GROUP BY address\n",
    "    )\n",
    "    SELECT\n",
    "        sum_amount,\n",
    "        count(address) as number_of_addresses\n",
    "    FROM amount_agg\n",
    "    GROUP BY sum_amount\n",
    "'''\n",
    "\n",
    "address_agg_by_sum_amount_of_tokens_df = get_df(query_4)"
   ],
   "metadata": {
    "collapsed": false,
    "pycharm": {
     "name": "#%%\n"
    }
   }
  },
  {
   "cell_type": "code",
   "execution_count": 9,
   "outputs": [
    {
     "name": "stdout",
     "output_type": "stream",
     "text": [
      "Suggestion of Rules: \n",
      "\n"
     ]
    },
    {
     "data": {
      "text/plain": "<IPython.core.display.HTML object>",
      "text/html": "<div>\n<style scoped>\n    .dataframe tbody tr th:only-of-type {\n        vertical-align: middle;\n    }\n\n    .dataframe tbody tr th {\n        vertical-align: top;\n    }\n\n    .dataframe thead th {\n        text-align: right;\n    }\n</style>\n<table border=\"1\" class=\"dataframe\">\n  <thead>\n    <tr style=\"text-align: right;\">\n      <th>Grade</th>\n      <th>Rule</th>\n      <th>Addresses</th>\n      <th>Percentage of Addresses</th>\n    </tr>\n  </thead>\n  <tbody>\n    <tr>\n      <td>1</td>\n      <td>0.0 &lt; Amount of ERC721 tokens &lt;= 7.0</td>\n      <td>702297</td>\n      <td>88.7</td>\n    </tr>\n    <tr>\n      <td>2</td>\n      <td>7.0 &lt; Amount of ERC721 tokens &lt;= 186.0</td>\n      <td>81367</td>\n      <td>10.3</td>\n    </tr>\n    <tr>\n      <td>3</td>\n      <td>186.0 &lt; Amount of ERC721 tokens</td>\n      <td>7907</td>\n      <td>1.0</td>\n    </tr>\n  </tbody>\n</table>\n</div>"
     },
     "metadata": {},
     "output_type": "display_data"
    },
    {
     "data": {
      "text/plain": "<Figure size 1440x648 with 1 Axes>",
      "image/png": "[encoded data removed]"
     },
     "metadata": {
      "needs_background": "light"
     },
     "output_type": "display_data"
    }
   ],
   "source": [
    "amount_of_erc721_tokens_boundary_levels = \\\n",
    "    grade_boundaries_analysis(\n",
    "        distribution_df=address_agg_by_sum_amount_of_tokens_df,\n",
    "        value_column = 'sum_amount',\n",
    "        value_chart_label = 'Amount of ERC721 tokens by address, Log10',\n",
    "        value_name = 'Amount of ERC721 tokens',\n",
    "        chart_title = 'Distribution of Addresses by Amount of ERC721 Tokens',\n",
    "        max_show_value = 5000)"
   ],
   "metadata": {
    "collapsed": false,
    "pycharm": {
     "name": "#%%\n"
    }
   }
  },
  {
   "cell_type": "markdown",
   "source": [
    "### Analysis of Grade Boundaries. Fee spending to contracts\n",
    "Described in the [Extraordinary Hackers and Masters of the Great Web. Gas Analysis](extraordinary_hackers_and_masters__gas_analysis.ipynb) Jupyter notebook"
   ],
   "metadata": {
    "collapsed": false,
    "pycharm": {
     "name": "#%% md\n"
    }
   }
  }
 ],
 "metadata": {
  "kernelspec": {
   "display_name": "Python 3",
   "language": "python",
   "name": "python3"
  },
  "language_info": {
   "codemirror_mode": {
    "name": "ipython",
    "version": 2
   },
   "file_extension": ".py",
   "mimetype": "text/x-python",
   "name": "python",
   "nbconvert_exporter": "python",
   "pygments_lexer": "ipython2",
   "version": "2.7.6"
  }
 },
 "nbformat": 4,
 "nbformat_minor": 0
}