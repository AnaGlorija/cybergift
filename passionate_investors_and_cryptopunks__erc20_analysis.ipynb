{
 "cells": [
  {
   "cell_type": "markdown",
   "source": [
    "## Passionate Investors and Cryptopunks. ERC20 Analysis"
   ],
   "metadata": {
    "collapsed": false,
    "pycharm": {
     "name": "#%% md\n"
    }
   }
  },
  {
   "cell_type": "code",
   "execution_count": 1,
   "outputs": [],
   "source": [
    "import pandas as pd\n",
    "from math import log10\n",
    "\n",
    "from config import PROJECT_ID, INITIAL_TS, SNAPSHOT_TS, \\\n",
    "    ERC20_ANALYSIS_DATASET_NAME, ERC20_BALANCES_TABLE_NAME, ERC20_ANALYSIS_DISTRIBUTION_TABLE_NAME, \\\n",
    "    ERC20_TOKEN_METADATA_TABLE_NAME, INVESTORS_AUDIENCE, CRYPTOPUNKS_AUDIENCE\n",
    "from src.utils import drop_table, create_table, create_table_from_df, get_df\n",
    "from src.utils_charts import grade_boundaries_analysis\n",
    "\n",
    "DROP_TABLES = True\n",
    "CREATE_TABLES = True"
   ],
   "metadata": {
    "collapsed": false,
    "pycharm": {
     "name": "#%%\n"
    }
   }
  },
  {
   "cell_type": "markdown",
   "metadata": {
    "collapsed": true,
    "pycharm": {
     "name": "#%% md\n"
    }
   },
   "source": [
    "### Distribution Rule. Passionate Investors\n",
    "\n",
    "<table style=\"text-align: left\">\n",
    "    <thead style=\"text-align: center\">\n",
    "        <tr>\n",
    "            <th rowspan=2></th>\n",
    "            <th colspan=3>Grade</th>\n",
    "        </tr>\n",
    "        <tr>\n",
    "            <th>1</th>\n",
    "            <th>2</th>\n",
    "            <th>3</th>\n",
    "        </tr>\n",
    "    </thead>\n",
    "    <tbody>\n",
    "        <tr>\n",
    "            <td style=\"text-align: left\"> Number of tokens >= 2 and ERC20 balance </td>\n",
    "            <td> > 0.01 ETH </td>\n",
    "            <td> > 6 ETH </td>\n",
    "            <td> > 89 ETH </td>\n",
    "        </tr>\n",
    "    </tbody>\n",
    "</table>\n",
    "\n",
    "### Distribution Rule. Cryptopunks\n",
    "\n",
    "<table style=\"text-align: left\">\n",
    "    <thead style=\"text-align: center\">\n",
    "        <tr>\n",
    "            <th rowspan=2></th>\n",
    "            <th colspan=3>Grade</th>\n",
    "        </tr>\n",
    "        <tr>\n",
    "            <th>1</th>\n",
    "            <th>2</th>\n",
    "            <th>3</th>\n",
    "        </tr>\n",
    "    </thead>\n",
    "    <tbody>\n",
    "        <tr>\n",
    "            <td style=\"text-align: left\"> Owners of the Selected tokens </td>\n",
    "            <td> - </td>\n",
    "            <td> - </td>\n",
    "            <td> here </td>\n",
    "        </tr>\n",
    "    </tbody>\n",
    "</table>"
   ]
  },
  {
   "cell_type": "code",
   "execution_count": 2,
   "outputs": [],
   "source": [
    "investors_min_number_of_tokens = 2\n",
    "investors_boundary_erc20_balance = [0.01, 6, 89]\n",
    "\n",
    "investors_erc20_tokens_dict = {\n",
    "    # name:   [address,                                      ETH price,  decimals]\n",
    "    'YFI':    ['0x0bc529c00c6401aef6d220be8c6ea1667f6ad93e', 17.2,      18],\n",
    "    'FTM':    ['0x4e15361fd6b4bb609fa63c81a2be19d873717870', 0.000256,   18],\n",
    "    'AMPL':   ['0xd46ba6d942050d489dbd938a2c909a5d5039a161', 0.000400,   9],\n",
    "    'renBTC': ['0xeb4c2781e4eba804ce9a9803c67d0893436bb27d', 20.2,   8],\n",
    "    'OCEAN':  ['0x967da4048cd07ab37855c090aaf366e4ce1b9f48', 0.000480,   18],\n",
    "    'RPL':    ['0xb4efd85c19999d84251304bda99e90b92300bd93', 0.00669,   18],\n",
    "    'UNI':    ['0x1f9840a85d5af5bf1d1762f925bdaddc4201f984', 0.0143,    18],\n",
    "    'KEEP3R': ['0x1ceb5cb57c4d4e2b2433641b95dd330a33185a44', 0.108,     18],\n",
    "    'GST2':   ['0x0000000000b3f879cb30fe243b4dfee438691c04', 0.0493,      2],\n",
    "    'CHI':    ['0x0000000000004946c0e9f43f4dee607b0ef1fa1c', 0.00101,    0],\n",
    "    'MLN':    ['0xec67005c4e498ec7f55e092bd1d35cbc47c91892', 0.0414,    18],\n",
    "    'AAVE':   ['0x7fc66500c84a76ad7e9c93437bfc5ac33e2ddae9', 0.162,     18],\n",
    "    'GNT':    ['0xa74476443119A942dE498590Fe1f2454d7D4aC0d', 0.0002534,  18], #?\n",
    "    'GLM':    ['0x7dd9c5cba05e151c895fde1cf355c9a1d5da6429', 0.000162,  18],\n",
    "    'ZRX':    ['0xe41d2489571d322189246dafa5ebde1f4699f498', 0.000639,  18],\n",
    "    'SNX':    ['0xc011a73ee8576fb46f5e1c5751ca3b9fe0af2a6f', 0.00635,    18],\n",
    "    'SUSHI':  ['0x6b3595068778dd592e39a122f4f5a5cf09c90fe2', 0.00513,   18],\n",
    "    'COMP':   ['0xc00e94cb662c3520282e6f5717214004a7f26888', 0.261,     18],\n",
    "    'BAL':    ['0xba100000625a3754423978a60c9317c58a424e3d', 0.0218,    18],\n",
    "    'GRT':    ['0xc944e90c64b2c07662a292be6244bdf05cda44a7', 0.000583,   18],\n",
    "    'MKR':    ['0x9f8f72aa9304c8b593d555f12ef6589cc3a579a2', 1.57,     18],\n",
    "    'CRV':    ['0xd533a949740bb3306d119cc777fa900ba034cd52', 0.00115,   18],\n",
    "    'LPT':    ['0xb6c4267c4877bb0d6b1685cfd85b0fbe82f105ec', 0.0121,   18],\n",
    "    'REL':    ['0xb6c4267c4877bb0d6b1685cfd85b0fbe82f105ec', 0.00122,  18],\n",
    "    'ANT':    ['0xa117000000f279d81a1d3cc75430faa017fa5a2e', 0.00348,   18],\n",
    "    'GEN':    ['0x543ff227f64aa17ea132bf9886cab5db55dcaddf', 0.0000915, 18],\n",
    "    'PNK':    ['0x93ed3fbe21207ec2e8f2d3c3de6e058cb73bc04d', 0.0000682, 18],\n",
    "    'REP':    ['0x221657776846890989a759ba2973e427dff5c9bb', 0.0142,     18],\n",
    "    'SNT':    ['0x744d70fdbe2ba4cf95131626614a1763df805b9e', 0.0000629, 18],\n",
    "    '2KEY':   ['0xE48972fCd82a274411c01834e2f031D4377Fa2c0', 0.0000241, 18],\n",
    "    'NU':     ['0x4fE83213D56308330EC302a8BD641f1d0113A4Cc', 0.000184,  18],\n",
    "    'MANA':   ['0x0f5d2fb29fb7d3cfee444a200298f468908cc942', 0.000505,  18],\n",
    "    'TORN':   ['0x77777feddddffc19ff86db637967013e6c6a116c', 0.0412,    18],\n",
    "    'XRT':    ['0x7de91b204c1c737bcee6f000aaa6569cf7061cb7', 0.0152,     9],\n",
    "    'FOAM':   ['0x4946fcea7c692606e8908002e55a582af44ac121', 0.0000278, 18],\n",
    "    'GOLD':   ['0x150b0b96933b75ce27af8b92441f8fb683bf9739', 0.00000243, 18]}\n",
    "\n",
    "cryptopunks_erc20_tokens_dict = {\n",
    "    # name:   [address,                                      ETH price,  decimals]\n",
    "    'FOAM':   ['0x4946fcea7c692606e8908002e55a582af44ac121', 0.0000278, 18],\n",
    "    'GOLD':   ['0x150b0b96933b75ce27af8b92441f8fb683bf9739', 0.00000243, 18]}"
   ],
   "metadata": {
    "collapsed": false,
    "pycharm": {
     "name": "#%%\n"
    }
   }
  },
  {
   "cell_type": "markdown",
   "source": [
    "### Set Token Data"
   ],
   "metadata": {
    "collapsed": false,
    "pycharm": {
     "name": "#%% md\n"
    }
   }
  },
  {
   "cell_type": "code",
   "execution_count": 3,
   "outputs": [],
   "source": [
    "investors_erc20_tokens_dict = {k: [v[0].lower(), v[1], v[2]] for k, v in investors_erc20_tokens_dict.items()}\n",
    "investors_erc20_tokens_addresses_tuple = tuple([item[0] for item in investors_erc20_tokens_dict.values()])\n",
    "investors_erc20_tokens_df = pd.DataFrame(investors_erc20_tokens_dict.values(), index=investors_erc20_tokens_dict.keys(), columns=['address', 'eth_price', 'decimals']).reset_index()\n",
    "\n",
    "cryptopunks_erc20_tokens_dict = {k: [v[0].lower(), v[1], v[2]] for k, v in cryptopunks_erc20_tokens_dict.items()}\n",
    "cryptopunks_erc20_tokens_addresses_tuple = tuple([item[0] for item in cryptopunks_erc20_tokens_dict.values()])\n",
    "cryptopunks_erc20_tokens_df = pd.DataFrame(cryptopunks_erc20_tokens_dict.values(), index=cryptopunks_erc20_tokens_dict.keys(), columns=['address', 'eth_price', 'decimals']).reset_index()\n",
    "\n",
    "erc20_tokens_addresses_tuple = investors_erc20_tokens_addresses_tuple + cryptopunks_erc20_tokens_addresses_tuple\n",
    "erc20_tokens_df = investors_erc20_tokens_df.append(cryptopunks_erc20_tokens_df)"
   ],
   "metadata": {
    "collapsed": false,
    "pycharm": {
     "name": "#%%\n"
    }
   }
  },
  {
   "cell_type": "markdown",
   "source": [
    "### Create Token Metadata Table"
   ],
   "metadata": {
    "collapsed": false,
    "pycharm": {
     "name": "#%% md\n"
    }
   }
  },
  {
   "cell_type": "code",
   "execution_count": 4,
   "outputs": [
    {
     "name": "stdout",
     "output_type": "stream",
     "text": [
      "Table erc20_analysis:erc20_token_metadata has been deleted.\n"
     ]
    }
   ],
   "source": [
    "if CREATE_TABLES:\n",
    "    r = create_table_from_df(erc20_tokens_df,\n",
    "                             ERC20_TOKEN_METADATA_TABLE_NAME,\n",
    "                             ERC20_ANALYSIS_DATASET_NAME,\n",
    "                             drop_existing_table=DROP_TABLES)"
   ],
   "metadata": {
    "collapsed": false,
    "pycharm": {
     "name": "#%%\n"
    }
   }
  },
  {
   "cell_type": "markdown",
   "source": [
    "### Get Balances"
   ],
   "metadata": {
    "collapsed": false,
    "pycharm": {
     "name": "#%% md\n"
    }
   }
  },
  {
   "cell_type": "code",
   "execution_count": 5,
   "outputs": [
    {
     "name": "stdout",
     "output_type": "stream",
     "text": [
      "Table erc20_analysis:erc20_balances has been deleted.\n",
      "Table erc20_analysis:erc20_balances has been created and filled 4747103 rows.\n"
     ]
    }
   ],
   "source": [
    "query_1 = f'''\n",
    "        WITH token_transfers AS (\n",
    "                SELECT\n",
    "                    token_address,\n",
    "                    address,\n",
    "                    sum(value) as balance\n",
    "                FROM (SELECT\n",
    "                            token_address,\n",
    "                            from_address as address,\n",
    "                            - safe_cast(value as numeric) as value\n",
    "                        FROM `bigquery-public-data.crypto_ethereum.token_transfers`\n",
    "                        WHERE token_address IN {erc20_tokens_addresses_tuple}\n",
    "                          AND from_address NOT IN ('0x0000000000000000000000000000000000000000')\n",
    "                          AND block_timestamp >= '{INITIAL_TS}'\n",
    "                          AND block_timestamp <= '{SNAPSHOT_TS}'\n",
    "\n",
    "                        UNION ALL\n",
    "\n",
    "                        SELECT\n",
    "                            token_address,\n",
    "                            to_address as address,\n",
    "                            safe_cast(value as numeric) as value\n",
    "                        FROM `bigquery-public-data.crypto_ethereum.token_transfers`\n",
    "                        WHERE token_address IN {erc20_tokens_addresses_tuple}\n",
    "                          AND to_address NOT IN ('0x0000000000000000000000000000000000000000')\n",
    "                          AND block_timestamp >= '{INITIAL_TS}'\n",
    "                          AND block_timestamp <= '{SNAPSHOT_TS}'\n",
    "                        )\n",
    "                GROUP BY token_address, address\n",
    "        )\n",
    "        SELECT\n",
    "            token_address,\n",
    "            token_transfers.address as address,\n",
    "            balance,\n",
    "            token_metadata.eth_price as eth_price,\n",
    "            token_metadata.decimals as decimals,\n",
    "            balance * token_metadata.eth_price / pow(10, token_metadata.decimals) as eth_balance\n",
    "        FROM token_transfers\n",
    "        LEFT JOIN `{PROJECT_ID}.{ERC20_ANALYSIS_DATASET_NAME}.{ERC20_TOKEN_METADATA_TABLE_NAME}` as token_metadata\n",
    "        ON token_transfers.token_address = token_metadata.address\n",
    "'''\n",
    "\n",
    "if DROP_TABLES:\n",
    "    drop_table(ERC20_BALANCES_TABLE_NAME, dataset_name=ERC20_ANALYSIS_DATASET_NAME)\n",
    "\n",
    "if CREATE_TABLES:\n",
    "    create_table(query_1, ERC20_BALANCES_TABLE_NAME, dataset_name=ERC20_ANALYSIS_DATASET_NAME)"
   ],
   "metadata": {
    "collapsed": false,
    "pycharm": {
     "name": "#%%\n"
    }
   }
  },
  {
   "cell_type": "markdown",
   "source": [
    "### Create Distribution Table"
   ],
   "metadata": {
    "collapsed": false,
    "pycharm": {
     "name": "#%% md\n"
    }
   }
  },
  {
   "cell_type": "code",
   "execution_count": 4,
   "outputs": [
    {
     "name": "stdout",
     "output_type": "stream",
     "text": [
      "Table erc20_analysis:erc20_analysis_distribution has been deleted.\n",
      "Table erc20_analysis:erc20_analysis_distribution has been created and filled 186154 rows.\n"
     ]
    }
   ],
   "source": [
    "query_2 = f'''\n",
    "    SELECT\n",
    "        '{INVESTORS_AUDIENCE}' as audience,\n",
    "        'ERC20 Balance' as subtype,\n",
    "        address,\n",
    "        CASE\n",
    "            WHEN sum_eth_balance > {investors_boundary_erc20_balance[2]} THEN 3\n",
    "            WHEN sum_eth_balance > {investors_boundary_erc20_balance[1]} THEN 2\n",
    "            WHEN sum_eth_balance > {investors_boundary_erc20_balance[0]} THEN 1\n",
    "        END\n",
    "        AS grade,\n",
    "        sum_eth_balance,\n",
    "        number_of_tokens\n",
    "    FROM (\n",
    "        SELECT\n",
    "            address,\n",
    "            count(distinct token_address) as number_of_tokens,\n",
    "            sum(eth_balance) as sum_eth_balance\n",
    "        FROM `{PROJECT_ID}.{ERC20_ANALYSIS_DATASET_NAME}.{ERC20_BALANCES_TABLE_NAME}`\n",
    "        WHERE balance > 0\n",
    "          AND token_address IN {investors_erc20_tokens_addresses_tuple}\n",
    "        GROUP BY address)\n",
    "    WHERE number_of_tokens >= {investors_min_number_of_tokens}\n",
    "\n",
    "    UNION ALL\n",
    "\n",
    "    SELECT\n",
    "        '{CRYPTOPUNKS_AUDIENCE}' as audience,\n",
    "        'Owners of the Selected ERC20 Tokens' as subtype,\n",
    "        address,\n",
    "        3 AS grade,\n",
    "        sum_eth_balance,\n",
    "        number_of_tokens\n",
    "    FROM (\n",
    "        SELECT\n",
    "            address,\n",
    "            count(distinct token_address) as number_of_tokens,\n",
    "            sum(eth_balance) as sum_eth_balance\n",
    "        FROM `{PROJECT_ID}.{ERC20_ANALYSIS_DATASET_NAME}.{ERC20_BALANCES_TABLE_NAME}`\n",
    "        WHERE balance > 0\n",
    "          AND token_address IN {cryptopunks_erc20_tokens_addresses_tuple}\n",
    "        GROUP BY address)\n",
    "'''\n",
    "\n",
    "if DROP_TABLES:\n",
    "    drop_table(ERC20_ANALYSIS_DISTRIBUTION_TABLE_NAME, dataset_name=ERC20_ANALYSIS_DATASET_NAME)\n",
    "\n",
    "if CREATE_TABLES:\n",
    "    create_table(query_2, ERC20_ANALYSIS_DISTRIBUTION_TABLE_NAME, dataset_name=ERC20_ANALYSIS_DATASET_NAME)"
   ],
   "metadata": {
    "collapsed": false,
    "pycharm": {
     "name": "#%%\n"
    }
   }
  },
  {
   "cell_type": "markdown",
   "source": [
    "### Analysis of Grade Boundaries. ERC20 balance"
   ],
   "metadata": {
    "collapsed": false,
    "pycharm": {
     "name": "#%% md\n"
    }
   }
  },
  {
   "cell_type": "code",
   "execution_count": 7,
   "outputs": [],
   "source": [
    "query_3 = f'''\n",
    "    SELECT\n",
    "        if(round(sum_eth_balance, 1) < 0.1, 0.03, round(sum_eth_balance, 1)) as erc20_balance_class,\n",
    "        count(address) as number_of_addresses\n",
    "    FROM `{PROJECT_ID}.{ERC20_ANALYSIS_DATASET_NAME}.{ERC20_ANALYSIS_DISTRIBUTION_TABLE_NAME}`\n",
    "    WHERE number_of_tokens >= {investors_min_number_of_tokens}\n",
    "    GROUP BY erc20_balance_class\n",
    "    HAVING erc20_balance_class > 0\n",
    "'''\n",
    "distribution_by_erc20_balance_df = get_df(query_3)"
   ],
   "metadata": {
    "collapsed": false,
    "pycharm": {
     "name": "#%%\n"
    }
   }
  },
  {
   "cell_type": "code",
   "execution_count": 8,
   "outputs": [
    {
     "name": "stdout",
     "output_type": "stream",
     "text": [
      "Suggestion of Rules: \n",
      "\n"
     ]
    },
    {
     "data": {
      "text/plain": "<IPython.core.display.HTML object>",
      "text/html": "<div>\n<style scoped>\n    .dataframe tbody tr th:only-of-type {\n        vertical-align: middle;\n    }\n\n    .dataframe tbody tr th {\n        vertical-align: top;\n    }\n\n    .dataframe thead th {\n        text-align: right;\n    }\n</style>\n<table border=\"1\" class=\"dataframe\">\n  <thead>\n    <tr style=\"text-align: right;\">\n      <th>Grade</th>\n      <th>Rule</th>\n      <th>Addresses</th>\n      <th>Percentage of Addresses</th>\n    </tr>\n  </thead>\n  <tbody>\n    <tr>\n      <td>1</td>\n      <td>0.01 &lt; ERC20 Balance &lt;= 6.0</td>\n      <td>161224</td>\n      <td>88.5</td>\n    </tr>\n    <tr>\n      <td>2</td>\n      <td>6.0 &lt; ERC20 Balance &lt;= 89.0</td>\n      <td>19044</td>\n      <td>10.5</td>\n    </tr>\n    <tr>\n      <td>3</td>\n      <td>89.0 &lt; ERC20 Balance</td>\n      <td>1818</td>\n      <td>1.0</td>\n    </tr>\n  </tbody>\n</table>\n</div>"
     },
     "metadata": {},
     "output_type": "display_data"
    },
    {
     "data": {
      "text/plain": "<Figure size 1440x648 with 1 Axes>",
      "image/png": "[encoded data removed]"
     },
     "metadata": {
      "needs_background": "light"
     },
     "output_type": "display_data"
    },
    {
     "data": {
      "text/plain": "[0.01, 6.0, 89.0]"
     },
     "execution_count": 8,
     "metadata": {},
     "output_type": "execute_result"
    }
   ],
   "source": [
    "grade_boundaries_analysis(\n",
    "    distribution_by_erc20_balance_df,\n",
    "    value_column = 'erc20_balance_class',\n",
    "    value_chart_label = 'ERC20 Balance by address, Log10',\n",
    "    value_name = 'ERC20 Balance',\n",
    "    value_transform_func=lambda x: log10(x),\n",
    "    chart_title = 'Distribution of ERC20 Balance',\n",
    "    initial_boundary=0.01,\n",
    "    max_show_value=10000,\n",
    "    level_line_shift=0)"
   ],
   "metadata": {
    "collapsed": false,
    "pycharm": {
     "name": "#%%\n"
    }
   }
  },
  {
   "cell_type": "code",
   "execution_count": 8,
   "outputs": [],
   "source": [],
   "metadata": {
    "collapsed": false,
    "pycharm": {
     "name": "#%%\n"
    }
   }
  }
 ],
 "metadata": {
  "kernelspec": {
   "display_name": "Python 3",
   "language": "python",
   "name": "python3"
  },
  "language_info": {
   "codemirror_mode": {
    "name": "ipython",
    "version": 2
   },
   "file_extension": ".py",
   "mimetype": "text/x-python",
   "name": "python",
   "nbconvert_exporter": "python",
   "pygments_lexer": "ipython2",
   "version": "2.7.6"
  }
 },
 "nbformat": 4,
 "nbformat_minor": 0
}